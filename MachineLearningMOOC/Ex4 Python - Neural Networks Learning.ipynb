{
 "cells": [
  {
   "cell_type": "markdown",
   "metadata": {
    "ExecuteTime": {
     "end_time": "2017-06-20T22:02:22.082821Z",
     "start_time": "2017-06-20T22:02:22.054798Z"
    }
   },
   "source": [
    "# Exercise 4 - Python: Neural Networks Learning\n",
    "\n",
    "## *Part One*: Neural Networks\n",
    "\n",
    "Recognizing handwritten digits.  Though the source is not explicitly mentioned, it is just like the [MNIST database](https://en.wikipedia.org/wiki/MNIST_database).\n",
    "\n",
    "Each value of $X$ will be a 20x20 grid of values representing the grayscale intensity at that location \"unrolled\" into a 400-dimensional vector.  Here is an example for the first number in our data, $X^{(1)}$:\n",
    "\n",
    "$\\hspace{1cm} X^{(1)} = \\begin{bmatrix}x_{(1, 1)}^{(1)},\\ x_{(1, 2)}^{(1)},\\ \\dots\\ x_{(1, 20)}^{(1)} \\\\\n",
    "                                    x_{(2, 1)}^{(1)},\\ x_{(2, 2)}^{(1)},\\ \\dots\\ x_{(2, 20)}^{(1)} \\\\\n",
    "                                    \\vdots \\\\ \n",
    "                                    x_{(20, 1)}^{(1)},\\ x_{(20, 2)}^{(1)},\\ \\dots\\ x_{(20, 20)}^{(1)} \\\\ \n",
    "                    \\end{bmatrix}\n",
    "\\rightarrow \\begin{bmatrix} x_1^{(1)},\\ x_2^{(1)},\\ \\dots\\ x_{400}^{(1)} \\end{bmatrix}\n",
    "\\rightarrow (x^{(1)})^T$\n",
    "\n",
    "Here is our collection of all of the numbers for $X$:\n",
    "\n",
    "$\\hspace{1cm} X = \\begin{bmatrix} (x^{(1)})^T \\\\ (x^{(2)})^T \\\\ \\vdots \\\\ (x^{(400)})^T \\end{bmatrix}$\n",
    "\n",
    "---\n",
    "\n",
    "Beginning with package imports, data loading, and initial visualization"
   ]
  },
  {
   "cell_type": "code",
   "execution_count": 16,
   "metadata": {
    "ExecuteTime": {
     "end_time": "2017-06-21T17:07:54.276111Z",
     "start_time": "2017-06-21T17:07:54.249090Z"
    },
    "collapsed": true,
    "scrolled": true
   },
   "outputs": [],
   "source": [
    "import numpy as np\n",
    "import pandas as pd\n",
    "from math import floor, ceil  # Used in calculating subplot parameters\n",
    "from scipy import optimize  # Discovering optimal parameters\n",
    "from sklearn.preprocessing import OneHotEncoder  # Feature transformation\n",
    "import matplotlib.pyplot as plt\n",
    "\n",
    "# For comparing answers\n",
    "from sklearn.linear_model import LogisticRegression\n",
    "from sklearn.neural_network import MLPClassifier\n",
    "\n",
    "import scipy.io as sio  # Used to load the Octave/MATLAB *.mat files\n",
    "\n",
    "plt.style.use('ggplot')\n",
    "\n",
    "%matplotlib inline"
   ]
  },
  {
   "cell_type": "markdown",
   "metadata": {},
   "source": [
    "Note: y has 0 listed as 10, but we will be leaving this alone until our final predictions since the thetas we are provided for the first part of the exercise are structured for this.  In other words, it would be more trouble than it's worth to reshape our provided thetas."
   ]
  },
  {
   "cell_type": "code",
   "execution_count": 17,
   "metadata": {
    "ExecuteTime": {
     "end_time": "2017-06-21T17:07:59.156964Z",
     "start_time": "2017-06-21T17:07:58.967244Z"
    },
    "code_folding": [],
    "scrolled": true
   },
   "outputs": [
    {
     "name": "stdout",
     "output_type": "stream",
     "text": [
      "(5000, 400)\n"
     ]
    },
    {
     "data": {
      "text/plain": [
       "array([[ 0.,  0.,  0., ...,  0.,  0.,  0.],\n",
       "       [ 0.,  0.,  0., ...,  0.,  0.,  0.],\n",
       "       [ 0.,  0.,  0., ...,  0.,  0.,  0.],\n",
       "       ..., \n",
       "       [ 0.,  0.,  0., ...,  0.,  0.,  0.],\n",
       "       [ 0.,  0.,  0., ...,  0.,  0.,  0.],\n",
       "       [ 0.,  0.,  0., ...,  0.,  0.,  0.]])"
      ]
     },
     "execution_count": 17,
     "metadata": {},
     "output_type": "execute_result"
    }
   ],
   "source": [
    "# Loading in the data from the .mat files\n",
    "data = sio.loadmat('ex4/ex4data1.mat')\n",
    "X, y = data['X'], data['y']\n",
    "\n",
    "# Flattening y from an array of arrays into one vector\n",
    "y = y.flatten()\n",
    "\n",
    "# Importing weights provided by the exercise\n",
    "weights = sio.loadmat('ex4/ex4weights.mat')\n",
    "theta1, theta2 = weights['Theta1'], weights['Theta2']\n",
    "\n",
    "print(X.shape)\n",
    "X"
   ]
  },
  {
   "cell_type": "markdown",
   "metadata": {},
   "source": [
    "Since the optimization function only works with one array for $\\Theta$, we have to do a fair amount of data manipulation\n",
    "\n",
    "Creating convenience functions for shaping the data:"
   ]
  },
  {
   "cell_type": "code",
   "execution_count": 18,
   "metadata": {
    "ExecuteTime": {
     "end_time": "2017-06-21T17:08:02.089659Z",
     "start_time": "2017-06-21T17:08:02.023586Z"
    }
   },
   "outputs": [
    {
     "name": "stdout",
     "output_type": "stream",
     "text": [
      "Original theta 2 shape: (10, 26)\n",
      "Reshaped theta 2 shape: (10, 26)\n"
     ]
    }
   ],
   "source": []
  },
  {
   "cell_type": "code",
   "execution_count": 4,
   "metadata": {
    "ExecuteTime": {
     "end_time": "2017-06-21T16:52:12.732377Z",
     "start_time": "2017-06-21T16:52:00.697597Z"
    },
    "scrolled": false
   },
   "outputs": [
    {
     "data": {
      "image/png": "[encoded data removed]",
      "text/plain": [
       "<matplotlib.figure.Figure at 0x106f5d40978>"
      ]
     },
     "metadata": {},
     "output_type": "display_data"
    }
   ],
   "source": [
    "# Randomly sampling 100 numbers to display\n",
    "# 1: excludes the intercept\n",
    "random100 = X[np.random.randint(X.shape[0], size=100), :]\n",
    "\n",
    "\n",
    "def plot_digits(digits, width=8, height=8):\n",
    "    \"\"\"Plots a grid of the supplied digits\"\"\"\n",
    "    # Creating the overall figure to fill with plots of the numbers\n",
    "    fig = plt.figure(figsize=(width, height))\n",
    "\n",
    "    # Calculates the number of columns/rows for the subplot grid\n",
    "    figShape = np.sqrt(digits.shape[0])\n",
    "\n",
    "    # Loop over numbers to plot into the overall figure\n",
    "    for i, number in enumerate(digits):  # Enumerating to include index\n",
    "        number = number.reshape(20, 20).T  # Reshape X into 20x20 array\n",
    "        ax = fig.add_subplot(floor(figShape),  # Rows\n",
    "                             ceil(figShape),  # Columns\n",
    "                             i + 1)  # Positioning\n",
    "        plt.imshow(number, cmap='gray')  # Plotting the number\n",
    "\n",
    "        # Removing unnecessary components for aesthetics\n",
    "        plt.grid(False)\n",
    "        plt.axis('off')\n",
    "        fig.subplots_adjust(wspace=0, hspace=0)\n",
    "\n",
    "    plt.show()\n",
    "\n",
    "\n",
    "plot_digits(digits=random100, width=7, height=7)"
   ]
  },
  {
   "cell_type": "markdown",
   "metadata": {},
   "source": [
    "### Feedforward and Cost Function\n",
    "\n",
    "$J(\\theta) = \\frac{1}{m} \\sum_{i=1}^m \\sum_{k=1}^K \\big[-y_k^{(i)}log((h_\\theta(x^{(i)}))_k) - (1-y_k^{(i)}) log(1-(h_\\theta(x^{(i)}))_k) \\big] + \\frac{\\lambda}{2m} \\big[\\sum_{j=1}^{25} \\sum_{k=1}^{400} (\\theta_{j, k}^{(1)})^2 +\n",
    "\\sum_{j=1}^{10} \\sum_{k=1}^{25} (\\theta_{j, k}^{(2)})^2 \\big]$\n",
    "\n",
    "Note: $h_\\theta(x^{(i)})_k = a^{(3)}_k$, or the activation of the $k$-th output unit\n",
    "\n",
    "#### Regularization Parameter\n",
    "\n",
    "$\\frac{\\lambda}{2m} \\big[\\sum_{j=1}^{25} \\sum_{k=1}^{400} (\\theta_{j, k}^{(1)})^2 +\n",
    "\\sum_{j=1}^{10} \\sum_{k=1}^{25} (\\theta_{j, k}^{(2)})^2 \\big]$\n",
    "\n",
    "Note: The regularization parameter ignores the bias units\n",
    "\n",
    "The exercise states that the unregularized cost function should be around 0.287629, and the regularized cost function with $\\lambda = 1$ should be around 0.383770"
   ]
  },
  {
   "cell_type": "code",
   "execution_count": 20,
   "metadata": {
    "ExecuteTime": {
     "end_time": "2017-06-21T17:09:01.504654Z",
     "start_time": "2017-06-21T17:09:01.152120Z"
    }
   },
   "outputs": [
    {
     "name": "stdout",
     "output_type": "stream",
     "text": [
      "Unregularized cost: 0.287629165161\n",
      "Regularized cost: 0.383769859091\n"
     ]
    }
   ],
   "source": [
    "def sigmoid(z):\n",
    "    \"\"\"\n",
    "    Calculates the sigmoid function for use as \n",
    "    the activation function in the neural network\n",
    "    \"\"\"\n",
    "    z = 1 / (1 + np.exp(-z))\n",
    "    return z\n",
    "\n",
    "def forward_propagate(thetas, X, y, C=0.0):\n",
    "    \"\"\"\n",
    "    Forward propagates a sequential neural network with the provided input\n",
    "    Assumes X does not contain the bias term\n",
    "    \n",
    "    Returns the following:\n",
    "    0: Numerical predictions\n",
    "    1: Class probabilities\n",
    "    2: Values of the nodes pre-activation (excluding input layer)\n",
    "    3: Values of the nodes post-activation (exluding input layer)\n",
    "    \"\"\"\n",
    "    h = X.copy()\n",
    "    \n",
    "    # Lists to store items 2 and 3 in\n",
    "    nodes = []\n",
    "    activations = []\n",
    "    activations.append(np.insert(h, 0, 1, axis=1))\n",
    "    \n",
    "    # Forward propagation\n",
    "    for theta in thetas:\n",
    "        h = np.insert(h, 0, 1, axis=1)  # Adding the bias term\n",
    "        h = h.dot(theta.T)  # Multiplying by the weights\n",
    "        nodes.append(h)\n",
    "        h = sigmoid(h)  # Activation function\n",
    "        activations.append(np.insert(h, 0, 1, axis=1))\n",
    "        \n",
    "    # Moves the class probabilities for digit 0 to the 0th index\n",
    "    classProbabilities = np.roll(h, 1)\n",
    "    \n",
    "    # Returns index with the highest value\n",
    "    prediction = np.argmax(classProbabilities, axis=1)\n",
    "\n",
    "    return prediction, h, nodes, activations\n",
    "\n",
    "\n",
    "def nn_cost(thetas, X, y, C=0.0):\n",
    "    \"\"\"\n",
    "    Returns the cost for a sequential neural network using the \n",
    "    forward_propagate function\n",
    "    \"\"\"\n",
    "    m = y.size\n",
    "    \n",
    "    # Generating class probabilities\n",
    "    h = forward_propagate(thetas, X, y, C)[1]\n",
    "    \n",
    "    # One hot encoding y into binary arrays for the cost function\n",
    "    y = OneHotEncoder().fit_transform(y.reshape(-1, 1)).toarray()\n",
    "\n",
    "    # Calculating the regularized cost\n",
    "    error = np.sum(-y * np.log(h) - (1 - y) * np.log(1 - h))\n",
    "\n",
    "    # Removing bias terms from regularization through np.delete()\n",
    "    regParameter = [np.sum(np.delete(theta, 0, axis=1)**2) for theta in thetas]\n",
    "    regParameter = (C / (2 * m)) * sum(regParameter)\n",
    "\n",
    "    cost = (1 / m) * error + regParameter\n",
    "    return cost\n",
    "\n",
    "print('Unregularized cost:',\n",
    "      nn_cost([theta1, theta2], X, y))\n",
    "print('Regularized cost:',\n",
    "      nn_cost([theta1, theta2], X, y, C=1.0))"
   ]
  },
  {
   "cell_type": "markdown",
   "metadata": {},
   "source": [
    "---\n",
    "\n",
    "##  **Part 2:** Backpropagation\n",
    "\n",
    "Here we'll learn parameters for our neural network through backpropagation.  We have to create a few helper functions in order to conduct backpropagation:\n",
    "\n",
    "- **restructure_theta:** The optimization function won't work with matrices, so we have to flatten our thetas into one long vector.  This function will allow us to reshape the vector back into the original matrices for theta in order to use it with the forward_propagate function.\n",
    "- **sigmoid_gradient:** The partial derivative of the sigmoid function which will be used to help calculate the gradient in backpropagation"
   ]
  },
  {
   "cell_type": "code",
   "execution_count": null,
   "metadata": {
    "collapsed": true
   },
   "outputs": [],
   "source": [
    "# Creating global variables to be used in reshaping and function parameters\n",
    "input_layer_size = X.shape[1]  # 400\n",
    "hidden_layer_size = theta2[0].shape[0] - 1  # 25 - excluding bias unit\n",
    "output_layer_size = len(np.unique(y))  # 10\n",
    "\n",
    "# Creating one long theta to plug into functions\n",
    "long_theta = np.concatenate((theta1.flatten(), theta2.flatten()))\n",
    "\n",
    "\n",
    "def restructure_theta(long_theta, thetas):\n",
    "    \"\"\"\n",
    "    Reshapes the long array of thetas into matrices for each theta\n",
    "    \"\"\"\n",
    "    reshaped_thetas = []\n",
    "    indices = 0\n",
    "    for i, theta in enumerate(thetas):\n",
    "        if i == 0:\n",
    "            reshaped = np.reshape(\n",
    "                long_theta[:thetas[i].size], thetas[i].shape)\n",
    "            reshaped_thetas.append(reshaped)\n",
    "            indices += reshaped.size\n",
    "        else:\n",
    "            reshaped = np.reshape(\n",
    "                long_theta[indices:indices + thetas[i].size], thetas[i].shape)\n",
    "            reshaped_thetas.append(reshaped)\n",
    "            indices += reshaped.size\n",
    "\n",
    "    return reshaped_thetas\n",
    "\n",
    "\n",
    "print('Original theta 2 shape:', theta2.shape)\n",
    "print('Reshaped theta 2 shape:', restructure_theta(\n",
    "    long_theta, [theta1, theta2])[1].shape)"
   ]
  },
  {
   "cell_type": "markdown",
   "metadata": {},
   "source": [
    "### Sigmoid Gradient\n",
    "\n",
    "$g'(z) = \\frac{d}{dz}g(z) = g(z)(1-g(z))$\n",
    "\n",
    "where\n",
    "\n",
    "$sigmoid(z)=g(z)=\\frac{1}{1+e^{-z}}$"
   ]
  },
  {
   "cell_type": "code",
   "execution_count": 21,
   "metadata": {
    "ExecuteTime": {
     "end_time": "2017-06-21T17:09:02.624562Z",
     "start_time": "2017-06-21T17:09:02.612539Z"
    },
    "scrolled": true
   },
   "outputs": [
    {
     "data": {
      "text/plain": [
       "0.25"
      ]
     },
     "execution_count": 21,
     "metadata": {},
     "output_type": "execute_result"
    }
   ],
   "source": [
    "def sigmoid_gradient(z):\n",
    "    \"\"\"Returns the gradient of a sigmoid function\"\"\"\n",
    "    gradient = np.multiply(sigmoid(z), (1 - sigmoid(z)))\n",
    "    return gradient\n",
    "\n",
    "sigmoid_gradient(0)"
   ]
  },
  {
   "cell_type": "markdown",
   "metadata": {},
   "source": [
    "### Random Initialization\n",
    "\n",
    "Initial $\\Theta$ values of 0 will cancel out the neuron, so \n",
    "\n",
    "Randomly selecting values for $\\Theta^{(l)}$ uniformly in the range $[-\\epsilon_{init}, \\epsilon_{init}]$\n",
    "\n",
    "Using the recommended approach of using the number of units in the network:\n",
    "\n",
    "$\\epsilon_{init} =  \\frac{\\sqrt(6)}{\\sqrt{L_{in}+L_{out}}}$\n",
    "\n",
    "where\n",
    "\n",
    "$L_{in} = s_l$ and $L_{out} = s_{l+1}$, or the number of nodes in the fist and second layers"
   ]
  },
  {
   "cell_type": "code",
   "execution_count": 33,
   "metadata": {
    "ExecuteTime": {
     "end_time": "2017-06-21T17:16:51.601247Z",
     "start_time": "2017-06-21T17:16:51.570226Z"
    },
    "scrolled": true
   },
   "outputs": [
    {
     "data": {
      "text/plain": [
       "10285"
      ]
     },
     "execution_count": 33,
     "metadata": {},
     "output_type": "execute_result"
    }
   ],
   "source": [
    "# Num nodes in first layer and first hidden layer\n",
    "epsilon = np.sqrt(6) / np.sqrt(400 + 25)\n",
    "\n",
    "initialThetas = np.random.uniform(-epsilon, epsilon, size=theta1.size + theta2.size)\n",
    "\n",
    "# np.random.seed(46)\n",
    "# initialThetas = (np.random.random(size=hidden_layer_size *\n",
    "#                                   (input_layer_size + 1) + output_layer_size * (hidden_layer_size + 1)) - 0.5) * 0.25\n",
    "\n",
    "# theta1 = np.matrix(np.reshape(\n",
    "#     initialThetas[:hidden_layer_size * (input_layer_size + 1)], (hidden_layer_size, (input_layer_size + 1))))\n",
    "# theta2 = np.matrix(np.reshape(\n",
    "#     initialThetas[hidden_layer_size * (input_layer_size + 1):], (output_layer_size, (hidden_layer_size + 1))))\n",
    "\n",
    "initialThetas.size"
   ]
  },
  {
   "cell_type": "markdown",
   "metadata": {},
   "source": [
    "### Backpropagation\n",
    "\n",
    "**[Insert image here]**\n",
    "\n",
    "**[Explain abstract]**\n",
    "\n",
    "For each output unit $k$ in layer 3 (the output layer), set $\\delta^{(3)}_k = (a_k^{(3)} - y_k)$\n",
    "\n",
    "For the hidden layer $l = 2$, set $\\delta^{(2)} = (\\theta^{(2)})^T \\delta^{(3)} .* g'(z^{(2)})$\n",
    "\n",
    "Given a training example $(x^{(t)},y^{(t)})$, run a \"forward pass\" to compute all the activations through the network, including the output value of the hypothesis $h_\\theta(x)$\n",
    "\n",
    "Then, for each node $j$ in layer $l$, compute an \"error term\" $\\delta_j^{(l)}$ that measures how much that node was \"responsible\" for any errors in our output\n",
    "\n",
    "For an output node, we can directly measure the difference between the network's activation and the true target value, and use that to define $\\delta_j^{(3)}$ (since layer 3 is the output layer).  For hidden units, we will compute $\\delta_j^{(l)}$ based on a weighted average of the error terms of the nodes in layer $(l+1)$\n",
    "\n",
    "Vectorized implementations of backpropagation exist, but Professor Ng stressed using a for loop that iterates through each training example for the sake of simplicity.  Here is the mechanical approach for performing gradient descent:\n",
    "\n",
    "$\\hspace{0.5cm}$ **Note:** These formulas are specific to our neural network with one hidden layer\n",
    "\n",
    "1. Set the input layer's values $(a^{(1)})$ to the $t$-th training example $x^{(t)}$.  Perform a feedforward pass to compute the activations $(z^{(2)}, a^{(2)}, z^{(3)}, a^{(3)})$ for layers 2 and 3.  Remember to add the $+1$ term to ensure the vectors of activation for layers $a^{(1)}$ and $a^{(2)}$ also include the bias unit.\n",
    "\n",
    "2. For each output unit $k$ in layer 3 (the output layer), set $$\\delta_k^{(3)} = (a_k^{(3)} - y_k)$$ where $y_k \\in \\{0,1\\}$ indicates whether the current training example belongs to class $k (y_k = 1)$, or if it belongs to a different class $(y_k = 0)$.  This is an \"error term\" that measures how much that node was \"responsible\" for any errors in the output.\n",
    "\n",
    "3. For the hidden layer $l=2$, set $$\\delta^{(2)} = (\\theta^{(2)})^T \\delta^{(3)}.*g'(z^{(2)})$$ This is the part that propagates backward, and like step 2, it is an \"error\" term that measures how much that node was \"responsible\" for any errors in the output.\n",
    "\n",
    "4. Accumulate the gradient from this training example using the following formula.  Note that you should skip or remove $\\delta_0^{(2)}$ $$ \\Delta^{(l)} = \\Delta^{(l)} + \\delta^{(l+1)} (a^{(l)})^T$$\n",
    "\n",
    "5. Obtain the (unregularized) gradient for the neural network cost function by multiplying the accumulated gradients by $\\frac{1}{m}$: $$\\frac{\\partial}{\\partial \\theta_{ij}^{(l)}}J(\\Theta) = D_{ij}^{(l)} = \\frac{1}{m}\\Delta_{ij}^{(l)}$$\n",
    "\n",
    "5. Obtain the regularized gradient for the neural network cost function by multiplying the accumulated gradients by $\\frac{1}{m}$ and applying the regularization term: $$\\frac{\\partial}{\\partial \\theta_{ij}^{(l)}}J(\\Theta) = D_{ij}^{(l)} = \\begin{cases}\\frac{1}{m}\\Delta_{ij}^{(l)} & for\\ j=0 \\\\ \\frac{1}{m}\\Delta_{ij}^{(l)} + \\frac{\\lambda}{m}\\Theta_{ij}^{(l)} & for\\ j\\geq 1 \\end{cases}$$\n",
    "\n",
    "Using the obtained gradient, we can adjust the values of $\\Theta$ and do it all over again."
   ]
  },
  {
   "cell_type": "code",
   "execution_count": 23,
   "metadata": {
    "ExecuteTime": {
     "end_time": "2017-06-21T17:09:12.391637Z",
     "start_time": "2017-06-21T17:09:10.872765Z"
    }
   },
   "outputs": [
    {
     "data": {
      "text/plain": [
       "(6.6433870515727333,\n",
       " array([ -3.12248888e-02,   6.28008255e-06,   4.95181225e-06, ...,\n",
       "          1.70701997e-01,   1.75558647e-01,   1.97679620e-01]))"
      ]
     },
     "execution_count": 23,
     "metadata": {},
     "output_type": "execute_result"
    }
   ],
   "source": [
    "def backpropagate(long_theta, thetas, X, y, C=0.0):\n",
    "    \"\"\"\n",
    "\n",
    "    \"\"\"\n",
    "    m = y.size\n",
    "\n",
    "    # Reshaping long_theta into original form for forward_propagate()\n",
    "    reshaped_thetas = restructure_theta(long_theta, thetas)\n",
    "\n",
    "    # Gathering info from forward propagation\n",
    "    # h is class probabilities with 0 indexed at the end\n",
    "    _, h, nodes, activations = forward_propagate(reshaped_thetas, X, y, C)\n",
    "\n",
    "    # One hot encoding y into binary arrays for the cost function\n",
    "    y = OneHotEncoder().fit_transform(y.reshape(-1, 1)).toarray()\n",
    "\n",
    "    # Calculating the regularized cost\n",
    "    error = np.sum(-y * np.log(h) - (1 - y) * np.log(1 - h))\n",
    "\n",
    "    # Removing bias terms from regularization through np.delete()\n",
    "    regParameter = [np.sum(np.delete(theta, 0, axis=1)**2)\n",
    "                    for theta in reshaped_thetas]\n",
    "    regParameter = (C / (2 * m)) * sum(regParameter)\n",
    "\n",
    "    cost = (1 / m) * error + regParameter\n",
    "\n",
    "    # Backpropagation\n",
    "    # Creating initial deltas of 0 to be filled\n",
    "    delta1 = np.zeros(reshaped_thetas[0].shape)\n",
    "    delta2 = np.zeros(reshaped_thetas[1].shape)\n",
    "\n",
    "    # Looping through each individual digit in the training set\n",
    "    for digit in range(m):\n",
    "        # Step 1: Grabbing appropriate items for the backpropagation calculation\n",
    "        # Using matrix() to quickly reshape for linear algebra\n",
    "        input_nodes = np.matrix(activations[0][digit])\n",
    "        hidden_nodes = np.matrix(nodes[0][digit])\n",
    "        hidden_activation = np.matrix(activations[1][digit])\n",
    "        output_nodes = h[digit]\n",
    "        actual = y[digit]\n",
    "\n",
    "        # Step 2: Calculating delta 3\n",
    "        d3 = np.matrix(output_nodes - actual)\n",
    "        hidden_nodes = np.insert(hidden_nodes, 0, 1)  # Adding the bias term\n",
    "\n",
    "        # Step 3: Calculating delta 2\n",
    "        d2 = np.multiply((reshaped_thetas[1].T * d3.T).T,\n",
    "                         sigmoid_gradient(hidden_nodes))\n",
    "\n",
    "        # Step 4: Accumulating the gradients\n",
    "        delta1 = delta1 + (d2[:, 1:]).T * input_nodes\n",
    "        delta2 = delta2 + d3.T * hidden_activation\n",
    "\n",
    "    # Step 5: Obtaining the gradient for the cost function\n",
    "    delta1 = (1 / m) * delta1\n",
    "    delta2 = (1 / m) * delta2\n",
    "\n",
    "    # Adding the regularization terms\n",
    "    delta1[:, 1:] = delta1[:, 1:] + (reshaped_thetas[0][:, 1:] * C) / m\n",
    "    delta2[:, 1:] = delta2[:, 1:] + (reshaped_thetas[1][:, 1:] * C) / m\n",
    "\n",
    "    # Combining the gradients into one long gradient for the optimization function\n",
    "    gradient = np.concatenate((np.ravel(delta1), np.ravel(delta2)))\n",
    "\n",
    "    return cost, gradient\n",
    "\n",
    "\n",
    "backpropagate(initialThetas, [theta1, theta2], X, y, 1.0)"
   ]
  },
  {
   "cell_type": "markdown",
   "metadata": {},
   "source": [
    "### Gradient Checking\n",
    "\n",
    "Ensures that our gradient is working as we intend it\n",
    "\n",
    "\"Unroll\" parameters $\\Theta^{(1)}, \\Theta^{(2)}$ into a long vector $\\theta$ to simplify the cost function into $J(\\theta)$\n",
    "\n",
    "Create function $f_i(\\theta)$ that computes $\\frac{\\partial}{\\partial \\theta_i}J(\\theta)$ to check if $f_i$ is outputting the correct derivative values\n",
    "\n",
    "For each $i$: $f_i(\\theta) \\approx \\frac{J(\\theta^{(i+)}) - J(\\theta^{(i-)})}{2\\epsilon}$"
   ]
  },
  {
   "cell_type": "markdown",
   "metadata": {
    "collapsed": true
   },
   "source": [
    "### Optimizing $\\Theta$ and Predictions"
   ]
  },
  {
   "cell_type": "code",
   "execution_count": 24,
   "metadata": {
    "ExecuteTime": {
     "end_time": "2017-06-21T17:14:44.190876Z",
     "start_time": "2017-06-21T17:09:21.615274Z"
    }
   },
   "outputs": [
    {
     "data": {
      "text/plain": [
       "     fun: 0.33578816275700429\n",
       "     jac: array([  3.71620120e-05,  -5.34428171e-08,  -3.53330899e-08, ...,\n",
       "        -1.34913598e-04,  -1.66290396e-04,  -2.07210628e-04])\n",
       " message: 'Max. number of function evaluations reached'\n",
       "    nfev: 250\n",
       "     nit: 21\n",
       "  status: 3\n",
       " success: False\n",
       "       x: array([ -6.26603156e-01,  -2.67214086e-04,  -1.76665449e-04, ...,\n",
       "         1.68663092e+00,   4.91019110e-01,   2.58558775e+00])"
      ]
     },
     "execution_count": 24,
     "metadata": {},
     "output_type": "execute_result"
    }
   ],
   "source": [
    "from scipy.optimize import minimize\n",
    "\n",
    "# minimize the objective function\n",
    "results = minimize(fun=backpropagate, x0=initialThetas, args=([theta1, theta2], X, y, 1.0),\n",
    "                method='TNC', jac=True, options={'maxiter': 250})  # maxiter:250\n",
    "\n",
    "results"
   ]
  },
  {
   "cell_type": "code",
   "execution_count": 25,
   "metadata": {
    "ExecuteTime": {
     "end_time": "2017-06-21T17:14:44.572183Z",
     "start_time": "2017-06-21T17:14:44.387039Z"
    }
   },
   "outputs": [
    {
     "name": "stdout",
     "output_type": "stream",
     "text": [
      "6.63857069958\n",
      "0.141610311678\n"
     ]
    }
   ],
   "source": [
    "initial1, initial2 = restructure_theta(initialThetas, [theta1, theta2])\n",
    "newTheta1, newTheta2 = restructure_theta(results['x'], [theta1, theta2])\n",
    "\n",
    "\n",
    "print(nn_cost([initial1, initial2], X, y))\n",
    "print(nn_cost([newTheta1, newTheta2], X, y))"
   ]
  },
  {
   "cell_type": "code",
   "execution_count": 42,
   "metadata": {
    "ExecuteTime": {
     "end_time": "2017-06-21T17:18:33.271752Z",
     "start_time": "2017-06-21T17:18:33.197698Z"
    }
   },
   "outputs": [
    {
     "name": "stdout",
     "output_type": "stream",
     "text": [
      "Our Accuracy: 99.5%\n"
     ]
    }
   ],
   "source": [
    "predictions = forward_propagate([newTheta1, newTheta2], X, y)[0]\n",
    "# predictions += 1\n",
    "results = pd.DataFrame({'Prediction': predictions,\n",
    "                        'Actual': np.where(y == 10, 0, y)})\n",
    "\n",
    "results['Correct'] = np.where(results['Actual'] == results['Prediction'], 1, 0)\n",
    "\n",
    "print('Our Accuracy: {0}%'.format(results['Correct'].mean()*100))"
   ]
  },
  {
   "cell_type": "markdown",
   "metadata": {},
   "source": [
    "---\n",
    "\n",
    "##  **Part 3:** Visualizing the hidden layer\n",
    "\n",
    "**[Explanation]**"
   ]
  },
  {
   "cell_type": "code",
   "execution_count": null,
   "metadata": {
    "collapsed": true,
    "scrolled": true
   },
   "outputs": [],
   "source": []
  },
  {
   "cell_type": "markdown",
   "metadata": {},
   "source": [
    "---"
   ]
  }
 ],
 "metadata": {
  "anaconda-cloud": {},
  "kernelspec": {
   "display_name": "Python 3",
   "language": "python",
   "name": "python3"
  },
  "language_info": {
   "codemirror_mode": {
    "name": "ipython",
    "version": 3
   },
   "file_extension": ".py",
   "mimetype": "text/x-python",
   "name": "python",
   "nbconvert_exporter": "python",
   "pygments_lexer": "ipython3",
   "version": "3.5.3"
  },
  "notify_time": "30",
  "varInspector": {
   "cols": {
    "lenName": 16,
    "lenType": 16,
    "lenVar": 40
   },
   "kernels_config": {
    "python": {
     "delete_cmd_postfix": "",
     "delete_cmd_prefix": "del ",
     "library": "var_list.py",
     "varRefreshCmd": "print(var_dic_list())"
    },
    "r": {
     "delete_cmd_postfix": ") ",
     "delete_cmd_prefix": "rm(",
     "library": "var_list.r",
     "varRefreshCmd": "cat(var_dic_list()) "
    }
   },
   "oldHeight": 571,
   "position": {
    "height": "593px",
    "left": "1013px",
    "right": "40px",
    "top": "32px",
    "width": "483px"
   },
   "types_to_exclude": [
    "module",
    "function",
    "builtin_function_or_method",
    "instance",
    "_Feature"
   ],
   "varInspector_section_display": "block",
   "window_display": false
  }
 },
 "nbformat": 4,
 "nbformat_minor": 2
}
