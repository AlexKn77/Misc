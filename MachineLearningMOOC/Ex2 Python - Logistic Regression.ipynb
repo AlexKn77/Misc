{
 "cells": [
  {
   "cell_type": "markdown",
   "metadata": {},
   "source": [
    "# Exercise 2 - Python: Logistic Regression\n",
    "\n",
    "## *Part One*: Logistic regression without regularization\n",
    "\n",
    "Predicting if a student will be accepted into a university based off of two test scores\n",
    "\n",
    "Beginning with package imports, data loading, and initial visualization"
   ]
  },
  {
   "cell_type": "code",
   "execution_count": 1,
   "metadata": {
    "collapsed": true
   },
   "outputs": [],
   "source": [
    "import numpy as np\n",
    "import pandas as pd\n",
    "from scipy import optimize  # Discovering optimal parameters\n",
    "import matplotlib.pyplot as plt\n",
    "import seaborn as sns\n",
    "\n",
    "# For comparing answers\n",
    "import statsmodels.discrete.discrete_model as sm  # Unregularized\n",
    "from sklearn.linear_model import LogisticRegression  # Regularized\n",
    "\n",
    "plt.style.use('ggplot')\n",
    "\n",
    "%matplotlib inline"
   ]
  },
  {
   "cell_type": "code",
   "execution_count": 2,
   "metadata": {},
   "outputs": [
    {
     "data": {
      "text/html": [
       "<div>\n",
       "<style>\n",
       "    .dataframe thead tr:only-child th {\n",
       "        text-align: right;\n",
       "    }\n",
       "\n",
       "    .dataframe thead th {\n",
       "        text-align: left;\n",
       "    }\n",
       "\n",
       "    .dataframe tbody tr th {\n",
       "        vertical-align: top;\n",
       "    }\n",
       "</style>\n",
       "<table border=\"1\" class=\"dataframe\">\n",
       "  <thead>\n",
       "    <tr style=\"text-align: right;\">\n",
       "      <th></th>\n",
       "      <th>Exam1Score</th>\n",
       "      <th>Exam2Score</th>\n",
       "      <th>Admitted</th>\n",
       "      <th>x0</th>\n",
       "    </tr>\n",
       "  </thead>\n",
       "  <tbody>\n",
       "    <tr>\n",
       "      <th>0</th>\n",
       "      <td>34.623660</td>\n",
       "      <td>78.024693</td>\n",
       "      <td>0</td>\n",
       "      <td>1</td>\n",
       "    </tr>\n",
       "    <tr>\n",
       "      <th>1</th>\n",
       "      <td>30.286711</td>\n",
       "      <td>43.894998</td>\n",
       "      <td>0</td>\n",
       "      <td>1</td>\n",
       "    </tr>\n",
       "    <tr>\n",
       "      <th>2</th>\n",
       "      <td>35.847409</td>\n",
       "      <td>72.902198</td>\n",
       "      <td>0</td>\n",
       "      <td>1</td>\n",
       "    </tr>\n",
       "    <tr>\n",
       "      <th>3</th>\n",
       "      <td>60.182599</td>\n",
       "      <td>86.308552</td>\n",
       "      <td>1</td>\n",
       "      <td>1</td>\n",
       "    </tr>\n",
       "    <tr>\n",
       "      <th>4</th>\n",
       "      <td>79.032736</td>\n",
       "      <td>75.344376</td>\n",
       "      <td>1</td>\n",
       "      <td>1</td>\n",
       "    </tr>\n",
       "  </tbody>\n",
       "</table>\n",
       "</div>"
      ],
      "text/plain": [
       "   Exam1Score  Exam2Score  Admitted  x0\n",
       "0   34.623660   78.024693         0   1\n",
       "1   30.286711   43.894998         0   1\n",
       "2   35.847409   72.902198         0   1\n",
       "3   60.182599   86.308552         1   1\n",
       "4   79.032736   75.344376         1   1"
      ]
     },
     "execution_count": 2,
     "metadata": {},
     "output_type": "execute_result"
    }
   ],
   "source": [
    "df = pd.read_csv('ex2/ex2data1.txt', header=None, names=['Exam1Score', 'Exam2Score', 'Admitted'])\n",
    "\n",
    "# Inserting additional column for the intercept\n",
    "df['x0'] = 1\n",
    "\n",
    "X = df[['x0', 'Exam1Score', 'Exam2Score']]\n",
    "y = df['Admitted']\n",
    "\n",
    "# An array of 0s for starting values of theta to be used in many functions\n",
    "initialTheta = np.zeros(3)\n",
    "\n",
    "df.head()"
   ]
  },
  {
   "cell_type": "code",
   "execution_count": 3,
   "metadata": {},
   "outputs": [
    {
     "data": {
      "text/plain": [
       "<matplotlib.text.Text at 0x1cbecdeb6d8>"
      ]
     },
     "execution_count": 3,
     "metadata": {},
     "output_type": "execute_result"
    },
    {
     "data": {
      "image/png": "[encoded data removed]",
      "text/plain": [
       "<matplotlib.figure.Figure at 0x1cbeca0a160>"
      ]
     },
     "metadata": {},
     "output_type": "display_data"
    }
   ],
   "source": [
    "# Plotting the data\n",
    "sns.lmplot(x='Exam1Score', y='Exam2Score', hue='Admitted',\n",
    "           data=df, fit_reg=False, markers=[\"x\", \"o\"],\n",
    "           size=6.5)\n",
    "plt.xlabel('Exam 1 Score')\n",
    "plt.ylabel('Exam 2 Score')"
   ]
  },
  {
   "cell_type": "markdown",
   "metadata": {},
   "source": [
    "### Sigmoid Function\n",
    "\n",
    "$g(z) = \\frac{1}{1+e^{-z}}$\n",
    "\n",
    "Converts $z$ into a value between 0 and 1"
   ]
  },
  {
   "cell_type": "code",
   "execution_count": 4,
   "metadata": {},
   "outputs": [
    {
     "data": {
      "text/plain": [
       "[<matplotlib.lines.Line2D at 0x1cbedef02b0>]"
      ]
     },
     "execution_count": 4,
     "metadata": {},
     "output_type": "execute_result"
    },
    {
     "data": {
      "image/png": "[encoded data removed]",
      "text/plain": [
       "<matplotlib.figure.Figure at 0x1cbedea29e8>"
      ]
     },
     "metadata": {},
     "output_type": "display_data"
    }
   ],
   "source": [
    "def sigmoid(z):\n",
    "    \"\"\"Converts numerical input into a value between 0 and 1\"\"\"\n",
    "    return 1/(1+np.exp(-z))\n",
    "\n",
    "# Plotting values to validate the function is working correctly\n",
    "plt.plot(np.arange(-10, 10),\n",
    "         sigmoid(np.arange(-10, 10)))"
   ]
  },
  {
   "cell_type": "markdown",
   "metadata": {},
   "source": [
    "### Logistic Regression Hypothesis\n",
    "\n",
    "$h_\\theta(x) = g(\\theta^Tx)$\n",
    "\n",
    "- Notation:\n",
    "\n",
    "    - $g$: Sigmoid function\n",
    "\n",
    "    - $\\theta^T$: Transposed parameters\n",
    "       \n",
    "        - E.x.: $\\theta^T = \\begin{bmatrix} \\theta_1 \\\\ \\theta_2 \\\\ \\vdots \\\\ \\theta_n \\end{bmatrix}$"
   ]
  },
  {
   "cell_type": "code",
   "execution_count": 5,
   "metadata": {},
   "outputs": [
    {
     "data": {
      "text/plain": [
       "0    0.5\n",
       "1    0.5\n",
       "2    0.5\n",
       "3    0.5\n",
       "4    0.5\n",
       "dtype: float64"
      ]
     },
     "execution_count": 5,
     "metadata": {},
     "output_type": "execute_result"
    }
   ],
   "source": [
    "def logistic_hypothesis(theta, x):\n",
    "    \"\"\"\n",
    "    Calculates the hypothesis for X given values of\n",
    "    theta for logistic regression\n",
    "    \"\"\"\n",
    "    return sigmoid(x.dot(theta))\n",
    "\n",
    "logistic_hypothesis(theta=initialTheta, x=X.head())"
   ]
  },
  {
   "cell_type": "markdown",
   "metadata": {},
   "source": [
    "### Cost Function\n",
    "\n",
    "$J(\\theta) = \\frac{1}{m} \\sum_{i=1}^m[-y^{(i)}log(h_\\theta(x^{(i)})) - (1-y^{(i)})log(1-h_\\theta(x^{(i)}))]$\n",
    "\n",
    "- Notation:\n",
    "\n",
    "    - $m$: Number of records\n",
    "\n",
    "    - $h_\\theta$: Logistic hypothesis $(h)$ given specific values of $\\theta$ for parameters\n",
    "    \n",
    "    - $i$: Index of the record (e.x. if $i = 46$, then 46th row)"
   ]
  },
  {
   "cell_type": "code",
   "execution_count": 6,
   "metadata": {},
   "outputs": [
    {
     "data": {
      "text/plain": [
       "0.693147180559946"
      ]
     },
     "execution_count": 6,
     "metadata": {},
     "output_type": "execute_result"
    }
   ],
   "source": [
    "def cost_function(theta, X, y):\n",
    "    \"\"\"Computes cost for logistic regression\"\"\"\n",
    "    m = y.size\n",
    "    h = logistic_hypothesis(theta, X)\n",
    "    error = np.sum(-y*np.log(h)-(1-y)*np.log(1-h))\n",
    "    J = (1/m)*error\n",
    "    return J\n",
    "\n",
    "cost_function(theta=initialTheta, X=X, y=y)"
   ]
  },
  {
   "cell_type": "markdown",
   "metadata": {},
   "source": [
    "### Gradient\n",
    "\n",
    "$\\frac{\\partial J(\\theta)}{\\partial \\theta_j} = \\frac{1}{m} \\sum_{i=1}^m (h_\\theta(x^{(i)}) - y^{(i)})x_j^{(i)}$\n",
    "\n",
    "- Notation:\n",
    "\n",
    "    - $\\partial$: Partial derivative\n",
    "    \n",
    "    - $J(\\theta)$: Cost given $\\theta$\n",
    "\n",
    "    - $m$: Number of records\n",
    "    \n",
    "    - $h_\\theta$: Logistic hypothesis $(h)$ given specific values of $\\theta$ for parameters\n",
    "    \n",
    "    - $i$: Index of the record (e.x. if $i = 46$, then 46th row)\n",
    "    \n",
    "We won't actually be using this function to find the optimal values of $\\theta_j$, so this is just illustrating the gradient"
   ]
  },
  {
   "cell_type": "code",
   "execution_count": 7,
   "metadata": {},
   "outputs": [
    {
     "data": {
      "text/plain": [
       "array([ -0.1       , -12.00921659, -11.26284221])"
      ]
     },
     "execution_count": 7,
     "metadata": {},
     "output_type": "execute_result"
    }
   ],
   "source": [
    "def gradient(theta, X, y):\n",
    "    \"\"\"Computes the gradient for logistic regression\"\"\"\n",
    "    m = y.size\n",
    "    h = logistic_hypothesis(theta, X)\n",
    "    return (1/m)*(np.dot(X.values.T, (h.subtract(y, axis=0))))\n",
    "\n",
    "gradient(theta=initialTheta, X=X, y=y)"
   ]
  },
  {
   "cell_type": "markdown",
   "metadata": {},
   "source": [
    "Finding the optimal values of $\\theta_j$ for the cost function using scipy's fmin function from their optimize suite.  This is similar to MATLAB's fminunc function."
   ]
  },
  {
   "cell_type": "code",
   "execution_count": 8,
   "metadata": {},
   "outputs": [
    {
     "name": "stdout",
     "output_type": "stream",
     "text": [
      "Optimization terminated successfully.\n",
      "         Current function value: 0.203498\n",
      "         Iterations: 157\n",
      "         Function evaluations: 287\n",
      "\n",
      "Optimal Thetas:\n",
      "Theta 0 : -25.1613006236\n",
      "Theta 1 : 0.206231420869\n",
      "Theta 2 : 0.201471428635\n",
      "\n",
      "Cost: 0.20349770159021519\n"
     ]
    }
   ],
   "source": [
    "# Find values of theta that minimize the cost function\n",
    "optimalTheta = optimize.fmin(func=cost_function,  # Function to minimize\n",
    "                             x0=initialTheta,  # Initial guess\n",
    "                             args=(X, y))  # Additional Arguments\n",
    "\n",
    "# Pretty printing the obtained values for theta\n",
    "print('\\nOptimal Thetas:')\n",
    "for theta in enumerate(optimalTheta):\n",
    "    print('Theta', theta[0], ':', theta[1])\n",
    "    \n",
    "print('\\nCost:', cost_function(optimalTheta, X, y))"
   ]
  },
  {
   "cell_type": "markdown",
   "metadata": {},
   "source": [
    "Comparing the obtained parameters to what statsmodels provides\n",
    "\n",
    "Using statsmodels instead of scikit-learn due to scikit-learn automatically regularizing the parameters.  Part one focuses on unregularized logistic regression, and part two focuses on regularized logistic regression."
   ]
  },
  {
   "cell_type": "code",
   "execution_count": 9,
   "metadata": {},
   "outputs": [
    {
     "name": "stdout",
     "output_type": "stream",
     "text": [
      "Optimization terminated successfully.\n",
      "         Current function value: 0.203498\n",
      "         Iterations 9\n"
     ]
    },
    {
     "data": {
      "text/plain": [
       "x0           -25.161334\n",
       "Exam1Score     0.206232\n",
       "Exam2Score     0.201472\n",
       "dtype: float64"
      ]
     },
     "execution_count": 9,
     "metadata": {},
     "output_type": "execute_result"
    }
   ],
   "source": [
    "# Training the model\n",
    "model = sm.Logit(y, X)\n",
    "\n",
    "# Outputting model parameters\n",
    "model = model.fit().params\n",
    "model"
   ]
  },
  {
   "cell_type": "markdown",
   "metadata": {},
   "source": [
    "Those are very close!\n",
    "\n",
    "Calculating the class probability and generating predictions of acceptance using values of $\\theta_j$ obtained from the optimization function\n",
    "\n",
    "The outputs from logistic regression are just the class probability, or $P(y = 1 \\mid x; \\theta)$, so we are predicting the classes (accepted or not) as follows:\n",
    "\n",
    "$Prediction(y \\mid x; \\theta) = \\begin{cases} 1, \\quad\\mbox{ if } P(y = 1 \\mid x; \\theta) > 0.50 \\\\ 0, \\quad\\mbox{ if } P(y = 1 \\mid x; \\theta) \\leq 0.50 \\end{cases} $"
   ]
  },
  {
   "cell_type": "code",
   "execution_count": 10,
   "metadata": {},
   "outputs": [
    {
     "data": {
      "text/html": [
       "<div>\n",
       "<style>\n",
       "    .dataframe thead tr:only-child th {\n",
       "        text-align: right;\n",
       "    }\n",
       "\n",
       "    .dataframe thead th {\n",
       "        text-align: left;\n",
       "    }\n",
       "\n",
       "    .dataframe tbody tr th {\n",
       "        vertical-align: top;\n",
       "    }\n",
       "</style>\n",
       "<table border=\"1\" class=\"dataframe\">\n",
       "  <thead>\n",
       "    <tr style=\"text-align: right;\">\n",
       "      <th></th>\n",
       "      <th>Exam1Score</th>\n",
       "      <th>Exam2Score</th>\n",
       "      <th>Admitted</th>\n",
       "      <th>x0</th>\n",
       "      <th>ClassProbability</th>\n",
       "      <th>Prediction</th>\n",
       "    </tr>\n",
       "  </thead>\n",
       "  <tbody>\n",
       "    <tr>\n",
       "      <th>0</th>\n",
       "      <td>34.623660</td>\n",
       "      <td>78.024693</td>\n",
       "      <td>0</td>\n",
       "      <td>1</td>\n",
       "      <td>0.091035</td>\n",
       "      <td>0</td>\n",
       "    </tr>\n",
       "    <tr>\n",
       "      <th>1</th>\n",
       "      <td>30.286711</td>\n",
       "      <td>43.894998</td>\n",
       "      <td>0</td>\n",
       "      <td>1</td>\n",
       "      <td>0.000042</td>\n",
       "      <td>0</td>\n",
       "    </tr>\n",
       "    <tr>\n",
       "      <th>2</th>\n",
       "      <td>35.847409</td>\n",
       "      <td>72.902198</td>\n",
       "      <td>0</td>\n",
       "      <td>1</td>\n",
       "      <td>0.043909</td>\n",
       "      <td>0</td>\n",
       "    </tr>\n",
       "    <tr>\n",
       "      <th>3</th>\n",
       "      <td>60.182599</td>\n",
       "      <td>86.308552</td>\n",
       "      <td>1</td>\n",
       "      <td>1</td>\n",
       "      <td>0.990425</td>\n",
       "      <td>1</td>\n",
       "    </tr>\n",
       "    <tr>\n",
       "      <th>4</th>\n",
       "      <td>79.032736</td>\n",
       "      <td>75.344376</td>\n",
       "      <td>1</td>\n",
       "      <td>1</td>\n",
       "      <td>0.998199</td>\n",
       "      <td>1</td>\n",
       "    </tr>\n",
       "  </tbody>\n",
       "</table>\n",
       "</div>"
      ],
      "text/plain": [
       "   Exam1Score  Exam2Score  Admitted  x0  ClassProbability  Prediction\n",
       "0   34.623660   78.024693         0   1          0.091035           0\n",
       "1   30.286711   43.894998         0   1          0.000042           0\n",
       "2   35.847409   72.902198         0   1          0.043909           0\n",
       "3   60.182599   86.308552         1   1          0.990425           1\n",
       "4   79.032736   75.344376         1   1          0.998199           1"
      ]
     },
     "execution_count": 10,
     "metadata": {},
     "output_type": "execute_result"
    }
   ],
   "source": [
    "# Predicting the class probability with the obtained thetas\n",
    "df['ClassProbability'] = logistic_hypothesis(optimalTheta, X)\n",
    "\n",
    "# Assigning those with a class probability above 0.5 as admitted\n",
    "df['Prediction'] = np.where(df['ClassProbability'] > 0.5, 1, 0)\n",
    "\n",
    "df.head()"
   ]
  },
  {
   "cell_type": "markdown",
   "metadata": {},
   "source": [
    "Plotting the decision boundary over the data"
   ]
  },
  {
   "cell_type": "code",
   "execution_count": 11,
   "metadata": {},
   "outputs": [
    {
     "data": {
      "text/plain": [
       "<matplotlib.legend.Legend at 0x1cbedf185f8>"
      ]
     },
     "execution_count": 11,
     "metadata": {},
     "output_type": "execute_result"
    },
    {
     "data": {
      "image/png": "[encoded data removed]",
      "text/plain": [
       "<matplotlib.figure.Figure at 0x1cbedf18390>"
      ]
     },
     "metadata": {},
     "output_type": "display_data"
    }
   ],
   "source": [
    "# Plotting the data\n",
    "sns.lmplot(x='Exam1Score', y='Exam2Score', hue='Admitted',\n",
    "           data=df, fit_reg=False, markers=[\"x\", \"o\"], legend=False,\n",
    "           size=6.5)\n",
    "\n",
    "# Calculating and plotting the decision boundary\n",
    "decisionX = np.array([X['Exam1Score'].min(), X['Exam1Score'].max()])\n",
    "decisionY = (-1/optimalTheta[2])*(optimalTheta[0] + optimalTheta[1]*decisionX)\n",
    "plt.plot(decisionX, decisionY, label='Decision Boundary',\n",
    "         color='black', alpha=0.8, linestyle='--')\n",
    "\n",
    "# Adjusting the legend location\n",
    "plt.legend(bbox_to_anchor=(1.05, 0.6), loc=2, borderaxespad=0.)"
   ]
  },
  {
   "cell_type": "markdown",
   "metadata": {},
   "source": [
    "---\n",
    "\n",
    "##  **Part 2:** Logistic regression with regularization\n",
    "\n",
    "Predicting if a microchip passes QA after two tests"
   ]
  },
  {
   "cell_type": "code",
   "execution_count": 12,
   "metadata": {},
   "outputs": [
    {
     "data": {
      "text/html": [
       "<div>\n",
       "<style>\n",
       "    .dataframe thead tr:only-child th {\n",
       "        text-align: right;\n",
       "    }\n",
       "\n",
       "    .dataframe thead th {\n",
       "        text-align: left;\n",
       "    }\n",
       "\n",
       "    .dataframe tbody tr th {\n",
       "        vertical-align: top;\n",
       "    }\n",
       "</style>\n",
       "<table border=\"1\" class=\"dataframe\">\n",
       "  <thead>\n",
       "    <tr style=\"text-align: right;\">\n",
       "      <th></th>\n",
       "      <th>Test1</th>\n",
       "      <th>Test2</th>\n",
       "      <th>Accepted</th>\n",
       "    </tr>\n",
       "  </thead>\n",
       "  <tbody>\n",
       "    <tr>\n",
       "      <th>0</th>\n",
       "      <td>0.051267</td>\n",
       "      <td>0.69956</td>\n",
       "      <td>1</td>\n",
       "    </tr>\n",
       "    <tr>\n",
       "      <th>1</th>\n",
       "      <td>-0.092742</td>\n",
       "      <td>0.68494</td>\n",
       "      <td>1</td>\n",
       "    </tr>\n",
       "    <tr>\n",
       "      <th>2</th>\n",
       "      <td>-0.213710</td>\n",
       "      <td>0.69225</td>\n",
       "      <td>1</td>\n",
       "    </tr>\n",
       "    <tr>\n",
       "      <th>3</th>\n",
       "      <td>-0.375000</td>\n",
       "      <td>0.50219</td>\n",
       "      <td>1</td>\n",
       "    </tr>\n",
       "    <tr>\n",
       "      <th>4</th>\n",
       "      <td>-0.513250</td>\n",
       "      <td>0.46564</td>\n",
       "      <td>1</td>\n",
       "    </tr>\n",
       "  </tbody>\n",
       "</table>\n",
       "</div>"
      ],
      "text/plain": [
       "      Test1    Test2  Accepted\n",
       "0  0.051267  0.69956         1\n",
       "1 -0.092742  0.68494         1\n",
       "2 -0.213710  0.69225         1\n",
       "3 -0.375000  0.50219         1\n",
       "4 -0.513250  0.46564         1"
      ]
     },
     "execution_count": 12,
     "metadata": {},
     "output_type": "execute_result"
    }
   ],
   "source": [
    "df = pd.read_csv('ex2/ex2data2.txt', header=None, names=['Test1', 'Test2', 'Accepted'])\n",
    "\n",
    "df.head()"
   ]
  },
  {
   "cell_type": "code",
   "execution_count": 13,
   "metadata": {},
   "outputs": [
    {
     "data": {
      "text/plain": [
       "<matplotlib.text.Text at 0x1cbedfd1208>"
      ]
     },
     "execution_count": 13,
     "metadata": {},
     "output_type": "execute_result"
    },
    {
     "data": {
      "image/png": "[encoded data removed]",
      "text/plain": [
       "<matplotlib.figure.Figure at 0x1cbe89b89e8>"
      ]
     },
     "metadata": {},
     "output_type": "display_data"
    }
   ],
   "source": [
    "sns.lmplot(x='Test1', y='Test2', hue='Accepted',\n",
    "           data=df, fit_reg=False, markers=['x', 'o'],\n",
    "           size=6.5)\n",
    "plt.xlabel('Microchip Test 1')\n",
    "plt.ylabel('Microchip Test 2')"
   ]
  },
  {
   "cell_type": "markdown",
   "metadata": {},
   "source": [
    "### Feature Mapping\n",
    "\n",
    "Maps the features into all polynomial terms of $x_1$ and $x_2$ up to the sixth power.  This allows for a more complex and nonlinear decision boundary.  \n",
    "\n",
    "The feature space prior to feature mapping (3-dimensional vector): \n",
    "\n",
    "$\\hspace{1cm} Feature(x) = \\begin{bmatrix} 1 \\\\ x_1 \\\\ x_2 \\end{bmatrix}$ \n",
    "\n",
    "The feature space after feature mapping (28-dimensional vector):\n",
    "\n",
    "$\\hspace{1cm} mapFeature(x) = \\begin{bmatrix} 1 \\\\ x_1 \\\\ x_2 \\\\ x_1^2 \\\\ x_1x_2 \\\\ x_2^2 \\\\ x_1^3 \\\\ \\vdots \\\\ x_1x_2^5 \\\\ x_2^6 \\end{bmatrix}$\n",
    "\n",
    "**Note 1:** scikit-learn's [PolynomialFeatures](http://scikit-learn.org/stable/modules/generated/sklearn.preprocessing.PolynomialFeatures.html) function could accomplish this, but we would lose the identifiers for the individual features without a few fancy tricks\n",
    "\n",
    "**Note 2:** The Octave/MATLAB code provided for this assignment resulted in a 28-dimensional feature space, but I made a few adjustments to maintain the names of the polynomials\n",
    "\n",
    "Octave/MATLAB code:\n",
    "```\n",
    "degree = 6;\n",
    "out = ones(size(X1(:,1)));\n",
    "for i = 1:degree\n",
    "    for j = 0:i\n",
    "        out(:, end+1) = (X1.^(i-j)).*(X2.^j);\n",
    "    end\n",
    "end\n",
    "```"
   ]
  },
  {
   "cell_type": "code",
   "execution_count": 14,
   "metadata": {},
   "outputs": [
    {
     "name": "stdout",
     "output_type": "stream",
     "text": [
      "Dimensions: (118, 28)\n"
     ]
    },
    {
     "data": {
      "text/html": [
       "<div>\n",
       "<style>\n",
       "    .dataframe thead tr:only-child th {\n",
       "        text-align: right;\n",
       "    }\n",
       "\n",
       "    .dataframe thead th {\n",
       "        text-align: left;\n",
       "    }\n",
       "\n",
       "    .dataframe tbody tr th {\n",
       "        vertical-align: top;\n",
       "    }\n",
       "</style>\n",
       "<table border=\"1\" class=\"dataframe\">\n",
       "  <thead>\n",
       "    <tr style=\"text-align: right;\">\n",
       "      <th></th>\n",
       "      <th>x0</th>\n",
       "      <th>x1</th>\n",
       "      <th>x2</th>\n",
       "      <th>x1_2</th>\n",
       "      <th>x1_1:x2_1</th>\n",
       "      <th>x2_2</th>\n",
       "      <th>x1_3</th>\n",
       "      <th>x1_2:x2_1</th>\n",
       "      <th>x1_1:x2_2</th>\n",
       "      <th>x2_3</th>\n",
       "      <th>...</th>\n",
       "      <th>x1_2:x2_3</th>\n",
       "      <th>x1_1:x2_4</th>\n",
       "      <th>x2_5</th>\n",
       "      <th>x1_6</th>\n",
       "      <th>x1_5:x2_1</th>\n",
       "      <th>x1_4:x2_2</th>\n",
       "      <th>x1_3:x2_3</th>\n",
       "      <th>x1_2:x2_4</th>\n",
       "      <th>x1_1:x2_5</th>\n",
       "      <th>x2_6</th>\n",
       "    </tr>\n",
       "  </thead>\n",
       "  <tbody>\n",
       "    <tr>\n",
       "      <th>0</th>\n",
       "      <td>1</td>\n",
       "      <td>0.051267</td>\n",
       "      <td>0.69956</td>\n",
       "      <td>0.002628</td>\n",
       "      <td>0.035864</td>\n",
       "      <td>0.489384</td>\n",
       "      <td>0.000135</td>\n",
       "      <td>0.001839</td>\n",
       "      <td>0.025089</td>\n",
       "      <td>0.342354</td>\n",
       "      <td>...</td>\n",
       "      <td>0.000900</td>\n",
       "      <td>0.012278</td>\n",
       "      <td>0.167542</td>\n",
       "      <td>1.815630e-08</td>\n",
       "      <td>2.477505e-07</td>\n",
       "      <td>0.000003</td>\n",
       "      <td>0.000046</td>\n",
       "      <td>0.000629</td>\n",
       "      <td>0.008589</td>\n",
       "      <td>0.117206</td>\n",
       "    </tr>\n",
       "    <tr>\n",
       "      <th>1</th>\n",
       "      <td>1</td>\n",
       "      <td>-0.092742</td>\n",
       "      <td>0.68494</td>\n",
       "      <td>0.008601</td>\n",
       "      <td>-0.063523</td>\n",
       "      <td>0.469143</td>\n",
       "      <td>-0.000798</td>\n",
       "      <td>0.005891</td>\n",
       "      <td>-0.043509</td>\n",
       "      <td>0.321335</td>\n",
       "      <td>...</td>\n",
       "      <td>0.002764</td>\n",
       "      <td>-0.020412</td>\n",
       "      <td>0.150752</td>\n",
       "      <td>6.362953e-07</td>\n",
       "      <td>-4.699318e-06</td>\n",
       "      <td>0.000035</td>\n",
       "      <td>-0.000256</td>\n",
       "      <td>0.001893</td>\n",
       "      <td>-0.013981</td>\n",
       "      <td>0.103256</td>\n",
       "    </tr>\n",
       "    <tr>\n",
       "      <th>2</th>\n",
       "      <td>1</td>\n",
       "      <td>-0.213710</td>\n",
       "      <td>0.69225</td>\n",
       "      <td>0.045672</td>\n",
       "      <td>-0.147941</td>\n",
       "      <td>0.479210</td>\n",
       "      <td>-0.009761</td>\n",
       "      <td>0.031616</td>\n",
       "      <td>-0.102412</td>\n",
       "      <td>0.331733</td>\n",
       "      <td>...</td>\n",
       "      <td>0.015151</td>\n",
       "      <td>-0.049077</td>\n",
       "      <td>0.158970</td>\n",
       "      <td>9.526844e-05</td>\n",
       "      <td>-3.085938e-04</td>\n",
       "      <td>0.001000</td>\n",
       "      <td>-0.003238</td>\n",
       "      <td>0.010488</td>\n",
       "      <td>-0.033973</td>\n",
       "      <td>0.110047</td>\n",
       "    </tr>\n",
       "    <tr>\n",
       "      <th>3</th>\n",
       "      <td>1</td>\n",
       "      <td>-0.375000</td>\n",
       "      <td>0.50219</td>\n",
       "      <td>0.140625</td>\n",
       "      <td>-0.188321</td>\n",
       "      <td>0.252195</td>\n",
       "      <td>-0.052734</td>\n",
       "      <td>0.070620</td>\n",
       "      <td>-0.094573</td>\n",
       "      <td>0.126650</td>\n",
       "      <td>...</td>\n",
       "      <td>0.017810</td>\n",
       "      <td>-0.023851</td>\n",
       "      <td>0.031940</td>\n",
       "      <td>2.780914e-03</td>\n",
       "      <td>-3.724126e-03</td>\n",
       "      <td>0.004987</td>\n",
       "      <td>-0.006679</td>\n",
       "      <td>0.008944</td>\n",
       "      <td>-0.011978</td>\n",
       "      <td>0.016040</td>\n",
       "    </tr>\n",
       "    <tr>\n",
       "      <th>4</th>\n",
       "      <td>1</td>\n",
       "      <td>-0.513250</td>\n",
       "      <td>0.46564</td>\n",
       "      <td>0.263426</td>\n",
       "      <td>-0.238990</td>\n",
       "      <td>0.216821</td>\n",
       "      <td>-0.135203</td>\n",
       "      <td>0.122661</td>\n",
       "      <td>-0.111283</td>\n",
       "      <td>0.100960</td>\n",
       "      <td>...</td>\n",
       "      <td>0.026596</td>\n",
       "      <td>-0.024128</td>\n",
       "      <td>0.021890</td>\n",
       "      <td>1.827990e-02</td>\n",
       "      <td>-1.658422e-02</td>\n",
       "      <td>0.015046</td>\n",
       "      <td>-0.013650</td>\n",
       "      <td>0.012384</td>\n",
       "      <td>-0.011235</td>\n",
       "      <td>0.010193</td>\n",
       "    </tr>\n",
       "  </tbody>\n",
       "</table>\n",
       "<p>5 rows × 28 columns</p>\n",
       "</div>"
      ],
      "text/plain": [
       "   x0        x1       x2      x1_2  x1_1:x2_1      x2_2      x1_3  x1_2:x2_1  \\\n",
       "0   1  0.051267  0.69956  0.002628   0.035864  0.489384  0.000135   0.001839   \n",
       "1   1 -0.092742  0.68494  0.008601  -0.063523  0.469143 -0.000798   0.005891   \n",
       "2   1 -0.213710  0.69225  0.045672  -0.147941  0.479210 -0.009761   0.031616   \n",
       "3   1 -0.375000  0.50219  0.140625  -0.188321  0.252195 -0.052734   0.070620   \n",
       "4   1 -0.513250  0.46564  0.263426  -0.238990  0.216821 -0.135203   0.122661   \n",
       "\n",
       "   x1_1:x2_2      x2_3    ...     x1_2:x2_3  x1_1:x2_4      x2_5  \\\n",
       "0   0.025089  0.342354    ...      0.000900   0.012278  0.167542   \n",
       "1  -0.043509  0.321335    ...      0.002764  -0.020412  0.150752   \n",
       "2  -0.102412  0.331733    ...      0.015151  -0.049077  0.158970   \n",
       "3  -0.094573  0.126650    ...      0.017810  -0.023851  0.031940   \n",
       "4  -0.111283  0.100960    ...      0.026596  -0.024128  0.021890   \n",
       "\n",
       "           x1_6     x1_5:x2_1  x1_4:x2_2  x1_3:x2_3  x1_2:x2_4  x1_1:x2_5  \\\n",
       "0  1.815630e-08  2.477505e-07   0.000003   0.000046   0.000629   0.008589   \n",
       "1  6.362953e-07 -4.699318e-06   0.000035  -0.000256   0.001893  -0.013981   \n",
       "2  9.526844e-05 -3.085938e-04   0.001000  -0.003238   0.010488  -0.033973   \n",
       "3  2.780914e-03 -3.724126e-03   0.004987  -0.006679   0.008944  -0.011978   \n",
       "4  1.827990e-02 -1.658422e-02   0.015046  -0.013650   0.012384  -0.011235   \n",
       "\n",
       "       x2_6  \n",
       "0  0.117206  \n",
       "1  0.103256  \n",
       "2  0.110047  \n",
       "3  0.016040  \n",
       "4  0.010193  \n",
       "\n",
       "[5 rows x 28 columns]"
      ]
     },
     "execution_count": 14,
     "metadata": {},
     "output_type": "execute_result"
    }
   ],
   "source": [
    "X = df[['Test1', 'Test2']].copy()\n",
    "\n",
    "y = df['Accepted'].copy()\n",
    "\n",
    "# Creating function for use in plotting decision boundaries later\n",
    "def map_features(X, degree=1):\n",
    "    \"\"\"\n",
    "    Maps the powers for X up to the degree specified, and appends them to X\n",
    "    Includes interaction terms and the intercept\n",
    "    \"\"\"\n",
    "    for i in range(1, degree+1):\n",
    "        for j in range(i+1):\n",
    "            \n",
    "            # Assigning names to the columns\n",
    "            if j == 0:\n",
    "                if i == 1:\n",
    "                    colName = 'x1'\n",
    "                else:\n",
    "                    colName = 'x1_'+str(i)\n",
    "            elif (i-j) == 0:\n",
    "                if j == 1:\n",
    "                    colName = 'x2'\n",
    "                else:\n",
    "                    colName = 'x2_'+str(j)\n",
    "            else:\n",
    "                colName = 'x1_'+str(i-j)+':'+'x2_'+str(j)\n",
    "                \n",
    "            # Calculating polynomial features\n",
    "            X[colName] = np.power(X.iloc[:, 0],i-j) * np.power(X.iloc[:, 1],j)\n",
    "    \n",
    "    X = X.iloc[:, 2:]  # Removing original columns to keep naming conventions\n",
    "    X.insert(0, 'x0', 1)  # Inserting the intercept term\n",
    "    return X\n",
    "\n",
    "X = map_features(X, degree=6)\n",
    "\n",
    "# Creating a new list of initial thetas\n",
    "initialTheta = np.zeros(X.shape[1])\n",
    "            \n",
    "print('Dimensions:', X.shape)\n",
    "X.head()"
   ]
  },
  {
   "cell_type": "markdown",
   "metadata": {},
   "source": [
    "### Regularized Cost Function\n",
    "\n",
    "$J(\\theta) = \\frac{1}{m} \\sum_{i=1}^m[-y^{(i)}log(h_\\theta(x^{(i)})) - (1-y^{(i)})log(1-h_\\theta(x^{(i)}))] + \\frac{\\lambda}{2m} \\sum_{j=1}^n \\theta_j^2$\n",
    "\n",
    "The only change from the other cost function we used earlier is the addition of the regularization parameter:\n",
    "\n",
    "#### Regularization Parameter\n",
    "\n",
    "$\\frac{\\lambda}{2m} \\sum_{j=1}^n \\theta_j^2$\n",
    "\n",
    "- Notation:\n",
    "\n",
    "    - $\\lambda$: The weight which the parameters are adjusted by.  A lower $\\lambda$ has little effect on the parameters, and a higher $\\lambda$ (e.x. $\\lambda = 1,000$) will adjust the parameters to be close to 0.\n",
    "    - $m$: Number of records\n",
    "    - $j$: The index for the parameter.  E.x. $\\theta_{j=1}$ is the score for Microchip Test #1\n",
    "\n",
    "**Note:** $\\theta_0$ should not be regularized as denoted by the summation in the regularization parameter"
   ]
  },
  {
   "cell_type": "code",
   "execution_count": 15,
   "metadata": {},
   "outputs": [
    {
     "name": "stdout",
     "output_type": "stream",
     "text": [
      "Cost at lambda=0: 1.23153120112\n",
      "Cost at lambda=1: 1.26013289603\n",
      "Cost at lambda=100: 4.09170069264\n"
     ]
    }
   ],
   "source": [
    "def regularized_cost(theta, X, y, C):\n",
    "    \"\"\"Computes cost for regularized logistic regression\"\"\"\n",
    "    m = y.size\n",
    "    h = logistic_hypothesis(theta, X)\n",
    "    error = np.sum(-y*np.log(h)-(1-y)*np.log(1-h))\n",
    "    \n",
    "    # Calculating the regularization penalty\n",
    "    # Avoiding the regularization penalty for the first theta\n",
    "    regularizedTheta = theta[1:] ** 2\n",
    "    regularization = (C/(2*m))*np.sum(regularizedTheta)\n",
    "    \n",
    "    J = (1/m)*error + regularization\n",
    "    return J\n",
    "\n",
    "# Testing how cost differs with regularization\n",
    "# Using thetas above 0 so the regularization parameter has an impact\n",
    "regTestTheta = np.ones(X.shape[1])/2\n",
    "print('Cost at lambda=0:', regularized_cost(regTestTheta, X, y, C=0))\n",
    "print('Cost at lambda=1:', regularized_cost(regTestTheta, X, y, C=1))\n",
    "print('Cost at lambda=100:', regularized_cost(regTestTheta, X, y, C=100))"
   ]
  },
  {
   "cell_type": "markdown",
   "metadata": {},
   "source": [
    "### Regularized Gradient\n",
    "\n",
    "$\\frac{\\partial J(\\theta)}{\\partial \\theta_j} = \\frac{1}{m} \\sum_{i=1}^m (h_\\theta(x^{(i)}) - y^{(i)})x_j^{(i)} \\hspace{2.25cm}$for $j = 0$\n",
    "\n",
    "$\\frac{\\partial J(\\theta)}{\\partial \\theta_j} = \\Big(\\frac{1}{m} \\sum_{i=1}^m (h_\\theta(x^{(i)}) - y^{(i)})x_j^{(i)}\\Big) + \\frac{\\lambda}{m}\\theta_j \\hspace{0.5cm}$for $j \\geq 1$\n",
    "\n",
    "This is also the same as the last gradient with the exception of the regularization parameter\n",
    "\n",
    "#### Regularization Parameter\n",
    "\n",
    "$\\frac{\\lambda}{m}\\theta_j \\hspace{0.5cm}$for $j \\geq 1$\n",
    "\n",
    "- Notation:\n",
    "\n",
    "    - $\\lambda$: The weight which the parameters are adjusted by.  A lower $\\lambda$ has little effect on the parameters, and a higher $\\lambda$ (e.x. $\\lambda = 1,000$) will adjust the parameters to be close to 0.\n",
    "    - $m$: Number of records\n",
    "    - $j$: The index for the parameter.  E.x. $\\theta_{j=1}$ is the score for Microchip Test #1"
   ]
  },
  {
   "cell_type": "code",
   "execution_count": 16,
   "metadata": {},
   "outputs": [
    {
     "data": {
      "text/plain": [
       "array([  8.47457627e-03,   1.87880932e-02,   7.77711864e-05,\n",
       "         5.03446395e-02,   1.15013308e-02,   3.76648474e-02,\n",
       "         1.83559872e-02,   7.32393391e-03,   8.19244468e-03,\n",
       "         2.34764889e-02,   3.93486234e-02,   2.23923907e-03,\n",
       "         1.28600503e-02,   3.09593720e-03,   3.93028171e-02,\n",
       "         1.99707467e-02,   4.32983232e-03,   3.38643902e-03,\n",
       "         5.83822078e-03,   4.47629067e-03,   3.10079849e-02,\n",
       "         3.10312442e-02,   1.09740238e-03,   6.31570797e-03,\n",
       "         4.08503006e-04,   7.26504316e-03,   1.37646175e-03,\n",
       "         3.87936363e-02])"
      ]
     },
     "execution_count": 16,
     "metadata": {},
     "output_type": "execute_result"
    }
   ],
   "source": [
    "def regularized_gradient(theta, X, y, C=0):\n",
    "    \"\"\"Computes the gradient for regularized logistic regression\"\"\"\n",
    "    m = y.size\n",
    "    h = logistic_hypothesis(theta, X)\n",
    "\n",
    "    # Calculating the regularization parameter for all thetas but the intercept\n",
    "    regParam = (C/m)*theta[1:]\n",
    "    \n",
    "    gradient = (1/m)*(np.dot(X.values.T, (h.subtract(y, axis=0))))\n",
    "    gradient[1:] = gradient[1:] + regParam  # Applying the reg parameter\n",
    "    return gradient\n",
    "\n",
    "regularized_gradient(initialTheta, X, y, C=1)"
   ]
  },
  {
   "cell_type": "markdown",
   "metadata": {},
   "source": [
    "Finding the optimal values of $\\theta$.  This chunk will take longer to run since we're dealing with a much higher dimensional dataset."
   ]
  },
  {
   "cell_type": "code",
   "execution_count": 17,
   "metadata": {},
   "outputs": [
    {
     "name": "stdout",
     "output_type": "stream",
     "text": [
      "Warning: Maximum number of iterations has been exceeded.\n"
     ]
    }
   ],
   "source": [
    "# Find values of theta that minimize the cost function\n",
    "optimalTheta = optimize.fmin(func=regularized_cost,  # Function to minimize\n",
    "                             x0=initialTheta,  # Initial guess\n",
    "                             args=(X, y, 1),  # Additional Arguments\n",
    "                             maxiter=4000)"
   ]
  },
  {
   "cell_type": "markdown",
   "metadata": {},
   "source": [
    "Checking against scikit-learn's logistic regression"
   ]
  },
  {
   "cell_type": "code",
   "execution_count": 18,
   "metadata": {},
   "outputs": [
    {
     "name": "stdout",
     "output_type": "stream",
     "text": [
      "Our cost: 0.5606563794918066\n",
      "sklearn cost: 0.505914141308952\n"
     ]
    },
    {
     "data": {
      "text/html": [
       "<div>\n",
       "<style>\n",
       "    .dataframe thead tr:only-child th {\n",
       "        text-align: right;\n",
       "    }\n",
       "\n",
       "    .dataframe thead th {\n",
       "        text-align: left;\n",
       "    }\n",
       "\n",
       "    .dataframe tbody tr th {\n",
       "        vertical-align: top;\n",
       "    }\n",
       "</style>\n",
       "<table border=\"1\" class=\"dataframe\">\n",
       "  <thead>\n",
       "    <tr style=\"text-align: right;\">\n",
       "      <th></th>\n",
       "      <th>x0</th>\n",
       "      <th>x1</th>\n",
       "      <th>x2</th>\n",
       "      <th>x1_2</th>\n",
       "      <th>x1_1:x2_1</th>\n",
       "      <th>x2_2</th>\n",
       "      <th>x1_3</th>\n",
       "      <th>x1_2:x2_1</th>\n",
       "      <th>x1_1:x2_2</th>\n",
       "      <th>x2_3</th>\n",
       "      <th>...</th>\n",
       "      <th>x1_2:x2_3</th>\n",
       "      <th>x1_1:x2_4</th>\n",
       "      <th>x2_5</th>\n",
       "      <th>x1_6</th>\n",
       "      <th>x1_5:x2_1</th>\n",
       "      <th>x1_4:x2_2</th>\n",
       "      <th>x1_3:x2_3</th>\n",
       "      <th>x1_2:x2_4</th>\n",
       "      <th>x1_1:x2_5</th>\n",
       "      <th>x2_6</th>\n",
       "    </tr>\n",
       "  </thead>\n",
       "  <tbody>\n",
       "    <tr>\n",
       "      <th>Ours</th>\n",
       "      <td>0.733121</td>\n",
       "      <td>0.057183</td>\n",
       "      <td>0.443223</td>\n",
       "      <td>-2.149528</td>\n",
       "      <td>0.017576</td>\n",
       "      <td>-0.324193</td>\n",
       "      <td>0.505240</td>\n",
       "      <td>-0.373438</td>\n",
       "      <td>-0.224623</td>\n",
       "      <td>-0.113880</td>\n",
       "      <td>...</td>\n",
       "      <td>0.360670</td>\n",
       "      <td>0.715639</td>\n",
       "      <td>0.13414</td>\n",
       "      <td>-0.337966</td>\n",
       "      <td>0.492453</td>\n",
       "      <td>0.296553</td>\n",
       "      <td>0.088575</td>\n",
       "      <td>-0.463015</td>\n",
       "      <td>0.610091</td>\n",
       "      <td>-0.736941</td>\n",
       "    </tr>\n",
       "    <tr>\n",
       "      <th>sklearn</th>\n",
       "      <td>0.601813</td>\n",
       "      <td>0.612629</td>\n",
       "      <td>1.173697</td>\n",
       "      <td>-1.941600</td>\n",
       "      <td>-0.916522</td>\n",
       "      <td>-1.346001</td>\n",
       "      <td>0.125384</td>\n",
       "      <td>-0.367177</td>\n",
       "      <td>-0.350874</td>\n",
       "      <td>-0.174398</td>\n",
       "      <td>...</td>\n",
       "      <td>-0.279071</td>\n",
       "      <td>-0.290913</td>\n",
       "      <td>-0.46305</td>\n",
       "      <td>-1.039417</td>\n",
       "      <td>0.028535</td>\n",
       "      <td>-0.292513</td>\n",
       "      <td>0.016490</td>\n",
       "      <td>-0.328181</td>\n",
       "      <td>-0.140750</td>\n",
       "      <td>-0.928454</td>\n",
       "    </tr>\n",
       "  </tbody>\n",
       "</table>\n",
       "<p>2 rows × 28 columns</p>\n",
       "</div>"
      ],
      "text/plain": [
       "               x0        x1        x2      x1_2  x1_1:x2_1      x2_2  \\\n",
       "Ours     0.733121  0.057183  0.443223 -2.149528   0.017576 -0.324193   \n",
       "sklearn  0.601813  0.612629  1.173697 -1.941600  -0.916522 -1.346001   \n",
       "\n",
       "             x1_3  x1_2:x2_1  x1_1:x2_2      x2_3    ...     x1_2:x2_3  \\\n",
       "Ours     0.505240  -0.373438  -0.224623 -0.113880    ...      0.360670   \n",
       "sklearn  0.125384  -0.367177  -0.350874 -0.174398    ...     -0.279071   \n",
       "\n",
       "         x1_1:x2_4     x2_5      x1_6  x1_5:x2_1  x1_4:x2_2  x1_3:x2_3  \\\n",
       "Ours      0.715639  0.13414 -0.337966   0.492453   0.296553   0.088575   \n",
       "sklearn  -0.290913 -0.46305 -1.039417   0.028535  -0.292513   0.016490   \n",
       "\n",
       "         x1_2:x2_4  x1_1:x2_5      x2_6  \n",
       "Ours     -0.463015   0.610091 -0.736941  \n",
       "sklearn  -0.328181  -0.140750 -0.928454  \n",
       "\n",
       "[2 rows x 28 columns]"
      ]
     },
     "execution_count": 18,
     "metadata": {},
     "output_type": "execute_result"
    }
   ],
   "source": [
    "# Building and training the model\n",
    "model = LogisticRegression(penalty='l2', C=1.0)\n",
    "model.fit(X, y)\n",
    "\n",
    "# Comparing the costs between the obtained parameters\n",
    "print('Our cost:', cost_function(optimalTheta, X, y))\n",
    "print('sklearn cost:', cost_function(model.coef_[0], X, y))\n",
    "\n",
    "# Comparing the parameters themselves\n",
    "pd.DataFrame({'Ours': optimalTheta,\n",
    "              'sklearn': model.coef_[0]},\n",
    "             index=X.columns).transpose()"
   ]
  },
  {
   "cell_type": "markdown",
   "metadata": {},
   "source": [
    "Scikit-learn's function unsurprisingly found much better parameters.  It also executed much quicker due to being properly optimized.  I guess I shouldn't try contributing to scikit-learn anytime soon.\n",
    "\n",
    "Lastly, comparing the accuracy between the two models.  Classification accuracy is just the percentage of records correctly classified (precision, recall, f-1 score, etc. offer more nuanced information on performance), so we will have to calculate the class probabilities and assign predictions like we did for part one:"
   ]
  },
  {
   "cell_type": "code",
   "execution_count": 19,
   "metadata": {},
   "outputs": [
    {
     "data": {
      "text/html": [
       "<div>\n",
       "<style>\n",
       "    .dataframe thead tr:only-child th {\n",
       "        text-align: right;\n",
       "    }\n",
       "\n",
       "    .dataframe thead th {\n",
       "        text-align: left;\n",
       "    }\n",
       "\n",
       "    .dataframe tbody tr th {\n",
       "        vertical-align: top;\n",
       "    }\n",
       "</style>\n",
       "<table border=\"1\" class=\"dataframe\">\n",
       "  <thead>\n",
       "    <tr style=\"text-align: right;\">\n",
       "      <th></th>\n",
       "      <th>Test1</th>\n",
       "      <th>Test2</th>\n",
       "      <th>Accepted</th>\n",
       "      <th>ClassProbability</th>\n",
       "      <th>Prediction</th>\n",
       "    </tr>\n",
       "  </thead>\n",
       "  <tbody>\n",
       "    <tr>\n",
       "      <th>0</th>\n",
       "      <td>0.051267</td>\n",
       "      <td>0.69956</td>\n",
       "      <td>1</td>\n",
       "      <td>0.638683</td>\n",
       "      <td>1</td>\n",
       "    </tr>\n",
       "    <tr>\n",
       "      <th>1</th>\n",
       "      <td>-0.092742</td>\n",
       "      <td>0.68494</td>\n",
       "      <td>1</td>\n",
       "      <td>0.640282</td>\n",
       "      <td>1</td>\n",
       "    </tr>\n",
       "    <tr>\n",
       "      <th>2</th>\n",
       "      <td>-0.213710</td>\n",
       "      <td>0.69225</td>\n",
       "      <td>1</td>\n",
       "      <td>0.617558</td>\n",
       "      <td>1</td>\n",
       "    </tr>\n",
       "    <tr>\n",
       "      <th>3</th>\n",
       "      <td>-0.375000</td>\n",
       "      <td>0.50219</td>\n",
       "      <td>1</td>\n",
       "      <td>0.612683</td>\n",
       "      <td>1</td>\n",
       "    </tr>\n",
       "    <tr>\n",
       "      <th>4</th>\n",
       "      <td>-0.513250</td>\n",
       "      <td>0.46564</td>\n",
       "      <td>1</td>\n",
       "      <td>0.531008</td>\n",
       "      <td>1</td>\n",
       "    </tr>\n",
       "  </tbody>\n",
       "</table>\n",
       "</div>"
      ],
      "text/plain": [
       "      Test1    Test2  Accepted  ClassProbability  Prediction\n",
       "0  0.051267  0.69956         1          0.638683           1\n",
       "1 -0.092742  0.68494         1          0.640282           1\n",
       "2 -0.213710  0.69225         1          0.617558           1\n",
       "3 -0.375000  0.50219         1          0.612683           1\n",
       "4 -0.513250  0.46564         1          0.531008           1"
      ]
     },
     "execution_count": 19,
     "metadata": {},
     "output_type": "execute_result"
    }
   ],
   "source": [
    "# Predicting the class probability with the obtained thetas\n",
    "df['ClassProbability'] = logistic_hypothesis(optimalTheta, X)\n",
    "\n",
    "# Assigning those with a class probability above 0.5 as admitted\n",
    "df['Prediction'] = np.where(df['ClassProbability'] > 0.5, 1, 0)\n",
    "\n",
    "df.head()"
   ]
  },
  {
   "cell_type": "code",
   "execution_count": 20,
   "metadata": {},
   "outputs": [
    {
     "name": "stdout",
     "output_type": "stream",
     "text": [
      "Our Accuracy: 0.737288135593\n",
      "Scikit-learn Accuracy: 0.830508474576\n"
     ]
    }
   ],
   "source": [
    "print('Our Accuracy:', np.where(df['Accepted'] == df['Prediction'], 1, 0).mean())\n",
    "print('Scikit-learn Accuracy:', model.score(X,y))"
   ]
  },
  {
   "cell_type": "markdown",
   "metadata": {},
   "source": [
    "Our model also had a accuracy like we would have expected.  \n",
    "\n",
    "Plotting the Decision Boundary using inspiration from [this post](https://www.kunxi.org/notes/machine_learning/logistic_regression/)"
   ]
  },
  {
   "cell_type": "code",
   "execution_count": 21,
   "metadata": {},
   "outputs": [
    {
     "name": "stdout",
     "output_type": "stream",
     "text": [
      "Warning: Maximum number of iterations has been exceeded.\n",
      "Warning: Maximum number of iterations has been exceeded.\n",
      "Warning: Maximum number of iterations has been exceeded.\n",
      "Warning: Maximum number of iterations has been exceeded.\n",
      "Wall time: 1min 22s\n"
     ]
    },
    {
     "data": {
      "text/plain": [
       "<matplotlib.figure.Figure at 0x1cbedfc4ba8>"
      ]
     },
     "metadata": {},
     "output_type": "display_data"
    },
    {
     "data": {
      "image/png": "[encoded data removed]",
      "text/plain": [
       "<matplotlib.figure.Figure at 0x1cbee1ae8d0>"
      ]
     },
     "metadata": {},
     "output_type": "display_data"
    }
   ],
   "source": [
    "%%time\n",
    "\n",
    "def plot_boundary(X, y, C=0, color='orange'):\n",
    "    \"\"\"\n",
    "    Returns arguments used for plotting the decision boundary.\n",
    "    Uses the optimization function to find the optimal values of\n",
    "    theta, so it is not needed as a parameter.\n",
    "    \"\"\"\n",
    "    # Find values of theta that minimize the cost function\n",
    "    optimalTheta = optimize.fmin(func=regularized_cost,  # Function to minimize\n",
    "                                 x0=initialTheta,  # Initial guess\n",
    "                                 args=(X, y, C),  # Additional Arguments\n",
    "                                 maxiter=4000)\n",
    "    \n",
    "    # Creating the meshgrid to generate class probabilities for\n",
    "    dim = np.linspace(-1, 1.5, 1000)\n",
    "    dx, dy = np.meshgrid(dim, dim)\n",
    "    \n",
    "    # Mapping polynomial features over the mesh grid\n",
    "    v = pd.DataFrame({'v1': dx.flatten(), 'v2': dy.flatten()})\n",
    "    v = map_features(v, degree=6)\n",
    "    \n",
    "    # Generating the class probabilities for the mesh grod\n",
    "    z = (logistic_hypothesis(optimalTheta, v)).values.reshape(1000, 1000)\n",
    "    \n",
    "    # Plotting the boundary for 0.5 probability with a contour plot\n",
    "    boundary = plt.contour(dx, dy, z, levels=[0.5], colors=color, alpha=0.5)\n",
    "    return boundary\n",
    "\n",
    "\n",
    "# Required to combine all plots\n",
    "plt.figure()\n",
    "\n",
    "# Plotting the original data\n",
    "sns.lmplot(x='Test1', y='Test2', hue='Accepted',\n",
    "           data=df, fit_reg=False, markers=['x', 'o'],\n",
    "           legend=False, size=8)\n",
    "\n",
    "plt.title('Decision Boundaries')\n",
    "\n",
    "# Plotting the decision boundaries at various values of lambda\n",
    "lambda0 = plot_boundary(X, y)\n",
    "lambda0.collections[0].set_label('$\\lambda = 0$')\n",
    "\n",
    "lambda1 = plot_boundary(X, y, C=1.0, color='red')\n",
    "lambda1.collections[0].set_label('$\\lambda = 1$')\n",
    "\n",
    "lambda10 = plot_boundary(X, y, C=10.0, color='green')\n",
    "lambda10.collections[0].set_label('$\\lambda = 10$')\n",
    "\n",
    "lambda100 = plot_boundary(X, y, C=100.0, color='blue')\n",
    "lambda100.collections[0].set_label('$\\lambda = 100$')\n",
    "\n",
    "# Adjusting the axes\n",
    "plt.axis([-0.95, 1.15, -0.85, 1.20])\n",
    "\n",
    "# Adjusting the legend location\n",
    "plt.legend(bbox_to_anchor=(1.05, 0.6), loc=2, borderaxespad=0.)"
   ]
  }
 ],
 "metadata": {
  "anaconda-cloud": {},
  "kernelspec": {
   "display_name": "Python [default]",
   "language": "python",
   "name": "python3"
  },
  "language_info": {
   "codemirror_mode": {
    "name": "ipython",
    "version": 3
   },
   "file_extension": ".py",
   "mimetype": "text/x-python",
   "name": "python",
   "nbconvert_exporter": "python",
   "pygments_lexer": "ipython3",
   "version": "3.5.3"
  }
 },
 "nbformat": 4,
 "nbformat_minor": 2
}
