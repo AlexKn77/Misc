{
 "cells": [
  {
   "cell_type": "markdown",
   "metadata": {},
   "source": [
    "# Exercise 2 - Python: Logistic Regression\n",
    "\n",
    "## *Part One*: Logistic regression without regularization\n",
    "\n",
    "Beginning with package imports, data loading, and initial visualization"
   ]
  },
  {
   "cell_type": "code",
   "execution_count": 1,
   "metadata": {
    "collapsed": true
   },
   "outputs": [],
   "source": [
    "import numpy as np\n",
    "import pandas as pd\n",
    "from scipy import optimize  # Discovering optimal parameters\n",
    "import matplotlib.pyplot as plt\n",
    "import seaborn as sns\n",
    "\n",
    "# For comparing answers\n",
    "import statsmodels.discrete.discrete_model as sm  # Unregularized\n",
    "from sklearn.linear_model import LogisticRegression  # Regularized\n",
    "\n",
    "plt.style.use('ggplot')\n",
    "\n",
    "%matplotlib inline"
   ]
  },
  {
   "cell_type": "code",
   "execution_count": 2,
   "metadata": {},
   "outputs": [
    {
     "data": {
      "text/html": [
       "<div>\n",
       "<table border=\"1\" class=\"dataframe\">\n",
       "  <thead>\n",
       "    <tr style=\"text-align: right;\">\n",
       "      <th></th>\n",
       "      <th>Exam1Score</th>\n",
       "      <th>Exam2Score</th>\n",
       "      <th>Admitted</th>\n",
       "      <th>x0</th>\n",
       "    </tr>\n",
       "  </thead>\n",
       "  <tbody>\n",
       "    <tr>\n",
       "      <th>0</th>\n",
       "      <td>34.623660</td>\n",
       "      <td>78.024693</td>\n",
       "      <td>0</td>\n",
       "      <td>1</td>\n",
       "    </tr>\n",
       "    <tr>\n",
       "      <th>1</th>\n",
       "      <td>30.286711</td>\n",
       "      <td>43.894998</td>\n",
       "      <td>0</td>\n",
       "      <td>1</td>\n",
       "    </tr>\n",
       "    <tr>\n",
       "      <th>2</th>\n",
       "      <td>35.847409</td>\n",
       "      <td>72.902198</td>\n",
       "      <td>0</td>\n",
       "      <td>1</td>\n",
       "    </tr>\n",
       "    <tr>\n",
       "      <th>3</th>\n",
       "      <td>60.182599</td>\n",
       "      <td>86.308552</td>\n",
       "      <td>1</td>\n",
       "      <td>1</td>\n",
       "    </tr>\n",
       "    <tr>\n",
       "      <th>4</th>\n",
       "      <td>79.032736</td>\n",
       "      <td>75.344376</td>\n",
       "      <td>1</td>\n",
       "      <td>1</td>\n",
       "    </tr>\n",
       "  </tbody>\n",
       "</table>\n",
       "</div>"
      ],
      "text/plain": [
       "   Exam1Score  Exam2Score  Admitted  x0\n",
       "0   34.623660   78.024693         0   1\n",
       "1   30.286711   43.894998         0   1\n",
       "2   35.847409   72.902198         0   1\n",
       "3   60.182599   86.308552         1   1\n",
       "4   79.032736   75.344376         1   1"
      ]
     },
     "execution_count": 2,
     "metadata": {},
     "output_type": "execute_result"
    }
   ],
   "source": [
    "path = 'C:/Users/JeffM/Documents/Projects/Machine Learning/machine-learning-ex2/ex2/'\n",
    "\n",
    "df = pd.read_csv(path+'ex2data1.txt', header=None, names=['Exam1Score', 'Exam2Score', 'Admitted'])\n",
    "\n",
    "# Inserting additional column for the intercept\n",
    "df['x0'] = 1\n",
    "\n",
    "X = df[['x0', 'Exam1Score', 'Exam2Score']]\n",
    "y = df['Admitted']\n",
    "\n",
    "# An array of 0s for starting values of theta to be used in many functions\n",
    "initialTheta = np.zeros(3)\n",
    "\n",
    "df.head()"
   ]
  },
  {
   "cell_type": "code",
   "execution_count": 3,
   "metadata": {},
   "outputs": [
    {
     "data": {
      "text/plain": [
       "<matplotlib.text.Text at 0x29c54982f98>"
      ]
     },
     "execution_count": 3,
     "metadata": {},
     "output_type": "execute_result"
    },
    {
     "data": {
      "image/png": "[encoded data removed]",
      "text/plain": [
       "<matplotlib.figure.Figure at 0x29c548e67f0>"
      ]
     },
     "metadata": {},
     "output_type": "display_data"
    }
   ],
   "source": [
    "# Plotting the data\n",
    "sns.lmplot(x='Exam1Score', y='Exam2Score', hue='Admitted',\n",
    "            data=df, fit_reg=False, markers=[\"x\", \"o\"])\n",
    "plt.xlabel('Exam 1 Score')\n",
    "plt.ylabel('Exam 2 Score')"
   ]
  },
  {
   "cell_type": "markdown",
   "metadata": {},
   "source": [
    "### Sigmoid Function\n",
    "\n",
    "$g(z) = \\frac{1}{1+e^{-z}}$\n",
    "\n",
    "Converts $z$ into a value between 0 and 1"
   ]
  },
  {
   "cell_type": "code",
   "execution_count": 4,
   "metadata": {},
   "outputs": [
    {
     "data": {
      "text/plain": [
       "[<matplotlib.lines.Line2D at 0x29c54dc4550>]"
      ]
     },
     "execution_count": 4,
     "metadata": {},
     "output_type": "execute_result"
    },
    {
     "data": {
      "image/png": "[encoded data removed]",
      "text/plain": [
       "<matplotlib.figure.Figure at 0x29c549cf3c8>"
      ]
     },
     "metadata": {},
     "output_type": "display_data"
    }
   ],
   "source": [
    "def sigmoid(z):\n",
    "    \"\"\"Converts numerical input into a value between 0 and 1\"\"\"\n",
    "    return 1/(1+np.exp(-z))\n",
    "\n",
    "# Plotting values to validate the function is working correctly\n",
    "plt.plot(np.arange(-10, 10),\n",
    "         sigmoid(np.arange(-10, 10)))"
   ]
  },
  {
   "cell_type": "markdown",
   "metadata": {},
   "source": [
    "### Logistic Regression Hypothesis\n",
    "\n",
    "$h_\\theta(x) = g(\\theta^Tx)$\n",
    "\n",
    "- Notation:\n",
    "\n",
    "    - $g$: Sigmoid function\n",
    "\n",
    "    - $\\theta^T$: Transposed parameters\n",
    "       \n",
    "        - E.x.: $\\theta^T = \\begin{bmatrix} \\theta_1 \\\\ \\theta_2 \\\\ \\vdots \\\\ \\theta_n \\end{bmatrix}$"
   ]
  },
  {
   "cell_type": "code",
   "execution_count": 5,
   "metadata": {},
   "outputs": [
    {
     "data": {
      "text/plain": [
       "0    0.5\n",
       "1    0.5\n",
       "2    0.5\n",
       "3    0.5\n",
       "4    0.5\n",
       "dtype: float64"
      ]
     },
     "execution_count": 5,
     "metadata": {},
     "output_type": "execute_result"
    }
   ],
   "source": [
    "def logistic_hypothesis(theta, x):\n",
    "    \"\"\"Calculates the hypothesis for X given values of\n",
    "    theta for logistic regression\"\"\"\n",
    "    return sigmoid(x.dot(theta))\n",
    "\n",
    "logistic_hypothesis(theta=initialTheta, x=X.head())"
   ]
  },
  {
   "cell_type": "markdown",
   "metadata": {},
   "source": [
    "### Cost Function\n",
    "\n",
    "$J(\\theta) = \\frac{1}{m} \\sum_{i=1}^m[-y^{(i)}log(h_\\theta(x^{(i)})) - (1-y^{(i)})log(1-h_\\theta(x^{(i)}))]$\n",
    "\n",
    "- Notation:\n",
    "\n",
    "    - $m$: Number of records\n",
    "\n",
    "    - $h_\\theta$: Logistic hypothesis $(h)$ given specific values of $\\theta$ for parameters\n",
    "    \n",
    "    - $i$: Index of the record (e.x. if $i = 46$, then 46th row)"
   ]
  },
  {
   "cell_type": "code",
   "execution_count": 6,
   "metadata": {},
   "outputs": [
    {
     "data": {
      "text/plain": [
       "0.693147180559946"
      ]
     },
     "execution_count": 6,
     "metadata": {},
     "output_type": "execute_result"
    }
   ],
   "source": [
    "def cost_function(theta, X, y):\n",
    "    \"\"\"Computes cost for logistic regression\"\"\"\n",
    "    m = y.size\n",
    "    h = logistic_hypothesis(theta, X)\n",
    "    error = np.sum(-y*np.log(h)-(1-y)*np.log(1-h))\n",
    "    J = (1/m)*error\n",
    "    return J\n",
    "\n",
    "cost_function(theta=initialTheta, X=X, y=y)"
   ]
  },
  {
   "cell_type": "markdown",
   "metadata": {},
   "source": [
    "### Gradient\n",
    "\n",
    "$\\frac{\\partial J(\\theta)}{\\partial \\theta_j} = \\frac{1}{m} \\sum_{i=1}^m (h_\\theta(x^{(i)}) - y^{(i)})x_j^{(i)}$\n",
    "\n",
    "- Notation:\n",
    "\n",
    "    - $\\partial$: Partial derivative\n",
    "    \n",
    "    - $J(\\theta)$: Cost given $\\theta$\n",
    "\n",
    "    - $m$: Number of records\n",
    "    \n",
    "    - $h_\\theta$: Logistic hypothesis $(h)$ given specific values of $\\theta$ for parameters\n",
    "    \n",
    "    - $i$: Index of the record (e.x. if $i = 46$, then 46th row)\n",
    "    \n",
    "We won't actually be using this function to find the optimal values of $\\theta_j$, so this is just illustrating the gradient"
   ]
  },
  {
   "cell_type": "code",
   "execution_count": 7,
   "metadata": {},
   "outputs": [
    {
     "data": {
      "text/plain": [
       "array([ -0.1       , -12.00921659, -11.26284221])"
      ]
     },
     "execution_count": 7,
     "metadata": {},
     "output_type": "execute_result"
    }
   ],
   "source": [
    "def gradient(theta, X, y):\n",
    "    \"\"\"Computes the gradient for logistic regression\"\"\"\n",
    "    m = y.size\n",
    "    h = logistic_hypothesis(theta, X)\n",
    "    return (1/m)*(np.dot(X.values.T, (h.subtract(y, axis=0))))\n",
    "\n",
    "gradient(theta=initialTheta, X=X, y=y)"
   ]
  },
  {
   "cell_type": "markdown",
   "metadata": {},
   "source": [
    "Finding the optimal values of $\\theta_j$ for the cost function using scipy's fmin function from their optimize suite.  This is similar to MATLAB's fminunc function."
   ]
  },
  {
   "cell_type": "code",
   "execution_count": 8,
   "metadata": {},
   "outputs": [
    {
     "name": "stdout",
     "output_type": "stream",
     "text": [
      "Optimization terminated successfully.\n",
      "         Current function value: 0.203498\n",
      "         Iterations: 157\n",
      "         Function evaluations: 287\n",
      "\n",
      "Optimal Thetas:\n",
      "Theta 0 : -25.1613006236\n",
      "Theta 1 : 0.206231420869\n",
      "Theta 2 : 0.201471428635\n",
      "\n",
      "Cost: 0.20349770159021519\n"
     ]
    }
   ],
   "source": [
    "# Find values of theta that minimize the cost function\n",
    "optimalTheta = optimize.fmin(func=cost_function,  # Function to minimize\n",
    "                             x0=initialTheta,  # Initial guess\n",
    "                             args=(X, y))  # Additional Arguments\n",
    "\n",
    "# Pretty printing the obtained values for theta\n",
    "print('\\nOptimal Thetas:')\n",
    "for theta in enumerate(optimalTheta):\n",
    "    print('Theta', theta[0], ':', theta[1])\n",
    "    \n",
    "print('\\nCost:', cost_function(optimalTheta, X, y))"
   ]
  },
  {
   "cell_type": "markdown",
   "metadata": {},
   "source": [
    "Comparing the obtained parameters to what statsmodels provides\n",
    "\n",
    "Using statsmodels instead of scikit-learn due to scikit-learn automatically regularizing the parameters.  Part one focuses on unregularized logistic regression, and part two focuses on regularized logistic regression."
   ]
  },
  {
   "cell_type": "code",
   "execution_count": 9,
   "metadata": {},
   "outputs": [
    {
     "name": "stdout",
     "output_type": "stream",
     "text": [
      "Optimization terminated successfully.\n",
      "         Current function value: 0.203498\n",
      "         Iterations 9\n"
     ]
    },
    {
     "data": {
      "text/plain": [
       "x0           -25.161334\n",
       "Exam1Score     0.206232\n",
       "Exam2Score     0.201472\n",
       "dtype: float64"
      ]
     },
     "execution_count": 9,
     "metadata": {},
     "output_type": "execute_result"
    }
   ],
   "source": [
    "# Training the model\n",
    "model = sm.Logit(y, X)\n",
    "\n",
    "# Outputting model parameters\n",
    "model = model.fit().params\n",
    "model"
   ]
  },
  {
   "cell_type": "markdown",
   "metadata": {},
   "source": [
    "Those are very close!\n",
    "\n",
    "Calculating the class probability and generating predictions of acceptance using values of $\\theta_j$ obtained from the optimization function\n",
    "\n",
    "The outputs from logistic regression are just the class probability, or $P(y = 1 \\mid x; \\theta)$, so we are predicting the classes (accepted or not) as follows:\n",
    "\n",
    "$Prediction(y \\mid x; \\theta) = \\begin{cases} 1, \\quad\\mbox{ if } P(y = 1 \\mid x; \\theta) > 0.50 \\\\ 0, \\quad\\mbox{ if } P(y = 1 \\mid x; \\theta) \\leq 0.50 \\end{cases} $"
   ]
  },
  {
   "cell_type": "code",
   "execution_count": 10,
   "metadata": {},
   "outputs": [
    {
     "data": {
      "text/html": [
       "<div>\n",
       "<table border=\"1\" class=\"dataframe\">\n",
       "  <thead>\n",
       "    <tr style=\"text-align: right;\">\n",
       "      <th></th>\n",
       "      <th>Exam1Score</th>\n",
       "      <th>Exam2Score</th>\n",
       "      <th>Admitted</th>\n",
       "      <th>x0</th>\n",
       "      <th>ClassProbability</th>\n",
       "      <th>Prediction</th>\n",
       "    </tr>\n",
       "  </thead>\n",
       "  <tbody>\n",
       "    <tr>\n",
       "      <th>0</th>\n",
       "      <td>34.623660</td>\n",
       "      <td>78.024693</td>\n",
       "      <td>0</td>\n",
       "      <td>1</td>\n",
       "      <td>0.091035</td>\n",
       "      <td>0</td>\n",
       "    </tr>\n",
       "    <tr>\n",
       "      <th>1</th>\n",
       "      <td>30.286711</td>\n",
       "      <td>43.894998</td>\n",
       "      <td>0</td>\n",
       "      <td>1</td>\n",
       "      <td>0.000042</td>\n",
       "      <td>0</td>\n",
       "    </tr>\n",
       "    <tr>\n",
       "      <th>2</th>\n",
       "      <td>35.847409</td>\n",
       "      <td>72.902198</td>\n",
       "      <td>0</td>\n",
       "      <td>1</td>\n",
       "      <td>0.043909</td>\n",
       "      <td>0</td>\n",
       "    </tr>\n",
       "    <tr>\n",
       "      <th>3</th>\n",
       "      <td>60.182599</td>\n",
       "      <td>86.308552</td>\n",
       "      <td>1</td>\n",
       "      <td>1</td>\n",
       "      <td>0.990425</td>\n",
       "      <td>1</td>\n",
       "    </tr>\n",
       "    <tr>\n",
       "      <th>4</th>\n",
       "      <td>79.032736</td>\n",
       "      <td>75.344376</td>\n",
       "      <td>1</td>\n",
       "      <td>1</td>\n",
       "      <td>0.998199</td>\n",
       "      <td>1</td>\n",
       "    </tr>\n",
       "  </tbody>\n",
       "</table>\n",
       "</div>"
      ],
      "text/plain": [
       "   Exam1Score  Exam2Score  Admitted  x0  ClassProbability  Prediction\n",
       "0   34.623660   78.024693         0   1          0.091035           0\n",
       "1   30.286711   43.894998         0   1          0.000042           0\n",
       "2   35.847409   72.902198         0   1          0.043909           0\n",
       "3   60.182599   86.308552         1   1          0.990425           1\n",
       "4   79.032736   75.344376         1   1          0.998199           1"
      ]
     },
     "execution_count": 10,
     "metadata": {},
     "output_type": "execute_result"
    }
   ],
   "source": [
    "# Predicting the class probability with the obtained thetas\n",
    "df['ClassProbability'] = logistic_hypothesis(optimalTheta, X)\n",
    "\n",
    "# Assigning those with a class probability above 0.5 as admitted\n",
    "df['Prediction'] = np.where(df['ClassProbability'] > 0.5, 1, 0)\n",
    "\n",
    "df.head()"
   ]
  },
  {
   "cell_type": "markdown",
   "metadata": {},
   "source": [
    "Plotting the decision boundary over the data"
   ]
  },
  {
   "cell_type": "code",
   "execution_count": 11,
   "metadata": {},
   "outputs": [
    {
     "data": {
      "text/plain": [
       "<matplotlib.legend.Legend at 0x29c54d979e8>"
      ]
     },
     "execution_count": 11,
     "metadata": {},
     "output_type": "execute_result"
    },
    {
     "data": {
      "image/png": "[encoded data removed]",
      "text/plain": [
       "<matplotlib.figure.Figure at 0x29c54d976a0>"
      ]
     },
     "metadata": {},
     "output_type": "display_data"
    }
   ],
   "source": [
    "# Plotting the data\n",
    "sns.lmplot(x='Exam1Score', y='Exam2Score', hue='Admitted',\n",
    "            data=df, fit_reg=False, markers=[\"x\", \"o\"], legend=False)\n",
    "\n",
    "# Calculating and plotting the decision boundary\n",
    "decisionX = np.array([X['Exam1Score'].min(), X['Exam1Score'].max()])\n",
    "decisionY = (-1/optimalTheta[2])*(optimalTheta[0] + optimalTheta[1]*decisionX)\n",
    "plt.plot(decisionX, decisionY, label='Decision Boundary',\n",
    "         color='black', alpha=0.8, linestyle='--')\n",
    "\n",
    "# Adjusting the legend location\n",
    "plt.legend(bbox_to_anchor=(1.05, 0.6), loc=2, borderaxespad=0.)"
   ]
  },
  {
   "cell_type": "markdown",
   "metadata": {},
   "source": [
    "---\n",
    "\n",
    "##  **Part 2:** Logistic regression with regularization\n",
    "\n",
    "Predicting acceptance of microchips based off of two tests"
   ]
  },
  {
   "cell_type": "code",
   "execution_count": 12,
   "metadata": {},
   "outputs": [
    {
     "data": {
      "text/html": [
       "<div>\n",
       "<table border=\"1\" class=\"dataframe\">\n",
       "  <thead>\n",
       "    <tr style=\"text-align: right;\">\n",
       "      <th></th>\n",
       "      <th>Test1</th>\n",
       "      <th>Test2</th>\n",
       "      <th>Accepted</th>\n",
       "    </tr>\n",
       "  </thead>\n",
       "  <tbody>\n",
       "    <tr>\n",
       "      <th>0</th>\n",
       "      <td>0.051267</td>\n",
       "      <td>0.69956</td>\n",
       "      <td>1</td>\n",
       "    </tr>\n",
       "    <tr>\n",
       "      <th>1</th>\n",
       "      <td>-0.092742</td>\n",
       "      <td>0.68494</td>\n",
       "      <td>1</td>\n",
       "    </tr>\n",
       "    <tr>\n",
       "      <th>2</th>\n",
       "      <td>-0.213710</td>\n",
       "      <td>0.69225</td>\n",
       "      <td>1</td>\n",
       "    </tr>\n",
       "    <tr>\n",
       "      <th>3</th>\n",
       "      <td>-0.375000</td>\n",
       "      <td>0.50219</td>\n",
       "      <td>1</td>\n",
       "    </tr>\n",
       "    <tr>\n",
       "      <th>4</th>\n",
       "      <td>-0.513250</td>\n",
       "      <td>0.46564</td>\n",
       "      <td>1</td>\n",
       "    </tr>\n",
       "  </tbody>\n",
       "</table>\n",
       "</div>"
      ],
      "text/plain": [
       "      Test1    Test2  Accepted\n",
       "0  0.051267  0.69956         1\n",
       "1 -0.092742  0.68494         1\n",
       "2 -0.213710  0.69225         1\n",
       "3 -0.375000  0.50219         1\n",
       "4 -0.513250  0.46564         1"
      ]
     },
     "execution_count": 12,
     "metadata": {},
     "output_type": "execute_result"
    }
   ],
   "source": [
    "df = pd.read_csv(path+'ex2data2.txt', header=None, names=['Test1', 'Test2', 'Accepted'])\n",
    "\n",
    "df.head()"
   ]
  },
  {
   "cell_type": "code",
   "execution_count": 13,
   "metadata": {},
   "outputs": [
    {
     "data": {
      "text/plain": [
       "<matplotlib.text.Text at 0x29c54e7a978>"
      ]
     },
     "execution_count": 13,
     "metadata": {},
     "output_type": "execute_result"
    },
    {
     "data": {
      "image/png": "[encoded data removed]",
      "text/plain": [
       "<matplotlib.figure.Figure at 0x29c54d94f98>"
      ]
     },
     "metadata": {},
     "output_type": "display_data"
    }
   ],
   "source": [
    "sns.lmplot(x='Test1', y='Test2', hue='Accepted',\n",
    "            data=df, fit_reg=False, markers=['x', 'o'])\n",
    "plt.xlabel('Microchip Test 1')\n",
    "plt.ylabel('Microchip Test 2')"
   ]
  },
  {
   "cell_type": "markdown",
   "metadata": {},
   "source": [
    "### Feature Mapping\n",
    "\n",
    "Maps the features into all polynomial terms of $x_1$ and $x_2$ up to the sixth power.  This allows for a more complex and nonlinear decision boundary.  \n",
    "\n",
    "The feature space prior to feature mapping (3-dimensional vector): \n",
    "\n",
    "$\\hspace{1cm} Feature(x) = \\begin{bmatrix} 1 \\\\ x_1 \\\\ x_2 \\end{bmatrix}$ \n",
    "\n",
    "The feature space after feature mapping:\n",
    "\n",
    "$\\hspace{1cm} mapFeature(x) = \\begin{bmatrix} 1 \\\\ x_1 \\\\ x_2 \\\\ x_1^2 \\\\ x_1x_2 \\\\ x_2^2 \\\\ x_1^3 \\\\ \\vdots \\\\ x_1x_2^5 \\\\ x_2^6 \\end{bmatrix}$\n",
    "\n",
    "**Note 1:** scikit-learn's [PolynomialFeatures](http://scikit-learn.org/stable/modules/generated/sklearn.preprocessing.PolynomialFeatures.html) function could accomplish this, but we would lose the identifiers for the individual features without a few fancy tricks\n",
    "\n",
    "**Note 2:** The Octave/MATLAB code provided for this assignment resulted in a 28-dimensional feature space, but our code will result in a 49-dimensional feature space.  This is because the Octave/MATLAB code provided *some* interaction terms (e.x. $x_1x_2,\\ x_1^3x_2^4$, etc.), but not all possible interaction terms.  For simplicity, we'll use all interaction terms.\n",
    "\n",
    "Octave/MATLAB code:\n",
    "```\n",
    "degree = 6;\n",
    "out = ones(size(X1(:,1)));\n",
    "for i = 1:degree\n",
    "    for j = 0:i\n",
    "        out(:, end+1) = (X1.^(i-j)).*(X2.^j);\n",
    "    end\n",
    "end\n",
    "```\n",
    "\n",
    "Corresponding Python code:\n",
    "```\n",
    "for i in range(1, degree):\n",
    "    for j in range(0, i):\n",
    "        df['poly' + str(i) + str(j)] = np.power(x1, i-j) * np.power(x2, j)\n",
    "```"
   ]
  },
  {
   "cell_type": "code",
   "execution_count": 14,
   "metadata": {},
   "outputs": [
    {
     "name": "stdout",
     "output_type": "stream",
     "text": [
      "(118, 49)\n"
     ]
    },
    {
     "data": {
      "text/html": [
       "<div>\n",
       "<table border=\"1\" class=\"dataframe\">\n",
       "  <thead>\n",
       "    <tr style=\"text-align: right;\">\n",
       "      <th></th>\n",
       "      <th>x0</th>\n",
       "      <th>x1</th>\n",
       "      <th>x2</th>\n",
       "      <th>x1_2</th>\n",
       "      <th>x1_3</th>\n",
       "      <th>x1_4</th>\n",
       "      <th>x1_5</th>\n",
       "      <th>x1_6</th>\n",
       "      <th>x2_2</th>\n",
       "      <th>x2_3</th>\n",
       "      <th>...</th>\n",
       "      <th>x2_5:x1_3</th>\n",
       "      <th>x2_5:x1_4</th>\n",
       "      <th>x2_5:x1_5</th>\n",
       "      <th>x2_5:x1_6</th>\n",
       "      <th>x2_6:x1</th>\n",
       "      <th>x2_6:x1_2</th>\n",
       "      <th>x2_6:x1_3</th>\n",
       "      <th>x2_6:x1_4</th>\n",
       "      <th>x2_6:x1_5</th>\n",
       "      <th>x2_6:x1_6</th>\n",
       "    </tr>\n",
       "  </thead>\n",
       "  <tbody>\n",
       "    <tr>\n",
       "      <th>0</th>\n",
       "      <td>1</td>\n",
       "      <td>0.051267</td>\n",
       "      <td>0.69956</td>\n",
       "      <td>0.002628</td>\n",
       "      <td>0.000135</td>\n",
       "      <td>0.000007</td>\n",
       "      <td>3.541519e-07</td>\n",
       "      <td>1.815630e-08</td>\n",
       "      <td>0.489384</td>\n",
       "      <td>0.342354</td>\n",
       "      <td>...</td>\n",
       "      <td>0.167542</td>\n",
       "      <td>0.167542</td>\n",
       "      <td>0.167542</td>\n",
       "      <td>0.167542</td>\n",
       "      <td>0.117206</td>\n",
       "      <td>0.117206</td>\n",
       "      <td>0.117206</td>\n",
       "      <td>0.117206</td>\n",
       "      <td>0.117206</td>\n",
       "      <td>0.117206</td>\n",
       "    </tr>\n",
       "    <tr>\n",
       "      <th>1</th>\n",
       "      <td>1</td>\n",
       "      <td>-0.092742</td>\n",
       "      <td>0.68494</td>\n",
       "      <td>0.008601</td>\n",
       "      <td>-0.000798</td>\n",
       "      <td>0.000074</td>\n",
       "      <td>-6.860919e-06</td>\n",
       "      <td>6.362953e-07</td>\n",
       "      <td>0.469143</td>\n",
       "      <td>0.321335</td>\n",
       "      <td>...</td>\n",
       "      <td>0.150752</td>\n",
       "      <td>0.150752</td>\n",
       "      <td>0.150752</td>\n",
       "      <td>0.150752</td>\n",
       "      <td>0.103256</td>\n",
       "      <td>0.103256</td>\n",
       "      <td>0.103256</td>\n",
       "      <td>0.103256</td>\n",
       "      <td>0.103256</td>\n",
       "      <td>0.103256</td>\n",
       "    </tr>\n",
       "    <tr>\n",
       "      <th>2</th>\n",
       "      <td>1</td>\n",
       "      <td>-0.213710</td>\n",
       "      <td>0.69225</td>\n",
       "      <td>0.045672</td>\n",
       "      <td>-0.009761</td>\n",
       "      <td>0.002086</td>\n",
       "      <td>-4.457837e-04</td>\n",
       "      <td>9.526844e-05</td>\n",
       "      <td>0.479210</td>\n",
       "      <td>0.331733</td>\n",
       "      <td>...</td>\n",
       "      <td>0.158970</td>\n",
       "      <td>0.158970</td>\n",
       "      <td>0.158970</td>\n",
       "      <td>0.158970</td>\n",
       "      <td>0.110047</td>\n",
       "      <td>0.110047</td>\n",
       "      <td>0.110047</td>\n",
       "      <td>0.110047</td>\n",
       "      <td>0.110047</td>\n",
       "      <td>0.110047</td>\n",
       "    </tr>\n",
       "    <tr>\n",
       "      <th>3</th>\n",
       "      <td>1</td>\n",
       "      <td>-0.375000</td>\n",
       "      <td>0.50219</td>\n",
       "      <td>0.140625</td>\n",
       "      <td>-0.052734</td>\n",
       "      <td>0.019775</td>\n",
       "      <td>-7.415771e-03</td>\n",
       "      <td>2.780914e-03</td>\n",
       "      <td>0.252195</td>\n",
       "      <td>0.126650</td>\n",
       "      <td>...</td>\n",
       "      <td>0.031940</td>\n",
       "      <td>0.031940</td>\n",
       "      <td>0.031940</td>\n",
       "      <td>0.031940</td>\n",
       "      <td>0.016040</td>\n",
       "      <td>0.016040</td>\n",
       "      <td>0.016040</td>\n",
       "      <td>0.016040</td>\n",
       "      <td>0.016040</td>\n",
       "      <td>0.016040</td>\n",
       "    </tr>\n",
       "    <tr>\n",
       "      <th>4</th>\n",
       "      <td>1</td>\n",
       "      <td>-0.513250</td>\n",
       "      <td>0.46564</td>\n",
       "      <td>0.263426</td>\n",
       "      <td>-0.135203</td>\n",
       "      <td>0.069393</td>\n",
       "      <td>-3.561597e-02</td>\n",
       "      <td>1.827990e-02</td>\n",
       "      <td>0.216821</td>\n",
       "      <td>0.100960</td>\n",
       "      <td>...</td>\n",
       "      <td>0.021890</td>\n",
       "      <td>0.021890</td>\n",
       "      <td>0.021890</td>\n",
       "      <td>0.021890</td>\n",
       "      <td>0.010193</td>\n",
       "      <td>0.010193</td>\n",
       "      <td>0.010193</td>\n",
       "      <td>0.010193</td>\n",
       "      <td>0.010193</td>\n",
       "      <td>0.010193</td>\n",
       "    </tr>\n",
       "  </tbody>\n",
       "</table>\n",
       "<p>5 rows × 49 columns</p>\n",
       "</div>"
      ],
      "text/plain": [
       "   x0        x1       x2      x1_2      x1_3      x1_4          x1_5  \\\n",
       "0   1  0.051267  0.69956  0.002628  0.000135  0.000007  3.541519e-07   \n",
       "1   1 -0.092742  0.68494  0.008601 -0.000798  0.000074 -6.860919e-06   \n",
       "2   1 -0.213710  0.69225  0.045672 -0.009761  0.002086 -4.457837e-04   \n",
       "3   1 -0.375000  0.50219  0.140625 -0.052734  0.019775 -7.415771e-03   \n",
       "4   1 -0.513250  0.46564  0.263426 -0.135203  0.069393 -3.561597e-02   \n",
       "\n",
       "           x1_6      x2_2      x2_3    ...      x2_5:x1_3  x2_5:x1_4  \\\n",
       "0  1.815630e-08  0.489384  0.342354    ...       0.167542   0.167542   \n",
       "1  6.362953e-07  0.469143  0.321335    ...       0.150752   0.150752   \n",
       "2  9.526844e-05  0.479210  0.331733    ...       0.158970   0.158970   \n",
       "3  2.780914e-03  0.252195  0.126650    ...       0.031940   0.031940   \n",
       "4  1.827990e-02  0.216821  0.100960    ...       0.021890   0.021890   \n",
       "\n",
       "   x2_5:x1_5  x2_5:x1_6   x2_6:x1  x2_6:x1_2  x2_6:x1_3  x2_6:x1_4  x2_6:x1_5  \\\n",
       "0   0.167542   0.167542  0.117206   0.117206   0.117206   0.117206   0.117206   \n",
       "1   0.150752   0.150752  0.103256   0.103256   0.103256   0.103256   0.103256   \n",
       "2   0.158970   0.158970  0.110047   0.110047   0.110047   0.110047   0.110047   \n",
       "3   0.031940   0.031940  0.016040   0.016040   0.016040   0.016040   0.016040   \n",
       "4   0.021890   0.021890  0.010193   0.010193   0.010193   0.010193   0.010193   \n",
       "\n",
       "   x2_6:x1_6  \n",
       "0   0.117206  \n",
       "1   0.103256  \n",
       "2   0.110047  \n",
       "3   0.016040  \n",
       "4   0.010193  \n",
       "\n",
       "[5 rows x 49 columns]"
      ]
     },
     "execution_count": 14,
     "metadata": {},
     "output_type": "execute_result"
    }
   ],
   "source": [
    "X = df[['Test1', 'Test2']]\n",
    "X.columns = ['x1', 'x2']\n",
    "\n",
    "y = df['Accepted']\n",
    "\n",
    "degree = 6  # Power to map features up to\n",
    "\n",
    "# Creating columns for the individual features\n",
    "for column in X.columns:\n",
    "    for power in np.arange(2, degree+1):\n",
    "        colName = column+'_'+str(power)\n",
    "        X[colName] = np.power(X[column], power)\n",
    "\n",
    "# Creating columns for the interaction terms\n",
    "for firstTerm in X.columns:\n",
    "    for secondTerm in X.columns:\n",
    "        if firstTerm[:2] != secondTerm[:2] and firstTerm > secondTerm:\n",
    "            colName = firstTerm+':'+secondTerm\n",
    "            X[colName] = X[firstTerm]\n",
    "\n",
    "# Inserting additional column for the intercept\n",
    "X.insert(0, 'x0', 1)\n",
    "            \n",
    "print(X.shape)\n",
    "X.head()"
   ]
  },
  {
   "cell_type": "markdown",
   "metadata": {},
   "source": [
    "### Regularized Cost Function\n",
    "\n",
    "$J(\\theta) = \\frac{1}{m} \\sum_{i=1}^m[-y^{(i)}log(h_\\theta(x^{(i)})) - (1-y^{(i)})log(1-h_\\theta(x^{(i)}))] + \\frac{\\lambda}{2m} \\sum_{j=1}^n \\theta_j^2$\n",
    "\n",
    "The only change from the other cost function we used earlier is the addition of the regularization parameter:\n",
    "\n",
    "#### Regularization Parameter\n",
    "\n",
    "$\\frac{\\lambda}{2m} \\sum_{j=1}^n \\theta_j^2$\n",
    "\n",
    "- Notation:\n",
    "\n",
    "    - $\\lambda$: The weight which the parameters are adjusted by.  A lower $\\lambda$ has little effect on the parameters, and a higher $\\lambda$ (e.x. $\\lambda = 1,000$) will adjust the parameters to be close to 0.\n",
    "    - $m$: Number of records\n",
    "    - $j$: The index for the parameter.  E.x. $\\theta_{j=1}$ is the score for Microchip Test #1\n",
    "\n",
    "**Note:** $\\theta_0$ should not be regularized as denoted by the summation in the regularization parameter"
   ]
  },
  {
   "cell_type": "code",
   "execution_count": 15,
   "metadata": {},
   "outputs": [
    {
     "name": "stdout",
     "output_type": "stream",
     "text": [
      "Cost at lambda=0: 3.25548049569\n",
      "Cost at lambda=1: 3.30632795332\n",
      "Cost at lambda=100: 8.34022625841\n"
     ]
    }
   ],
   "source": [
    "def regularized_cost(theta, X, y, C):\n",
    "    \"\"\"Computes cost for regularized logistic regression\"\"\"\n",
    "    m = y.size\n",
    "    h = logistic_hypothesis(theta, X)\n",
    "    error = np.sum(-y*np.log(h)-(1-y)*np.log(1-h))\n",
    "    \n",
    "    # Calculating the regularization penalty\n",
    "    # Avoiding the regularization penalty for the first theta\n",
    "    regularizedTheta = [x**2 for x in theta[1:]]\n",
    "    regularization = (C/(2*m))*np.sum(regularizedTheta)\n",
    "    \n",
    "    J = (1/m)*error + regularization\n",
    "    return J\n",
    "\n",
    "# Testing how cost differs with regularization\n",
    "# Using thetas above 0 so the regularization parameter has an impact\n",
    "regTestTheta = np.ones(X.shape[1])/2\n",
    "print('Cost at lambda=0:', regularized_cost(regTestTheta, X, y, C=0))\n",
    "print('Cost at lambda=1:', regularized_cost(regTestTheta, X, y, C=1))\n",
    "print('Cost at lambda=100:', regularized_cost(regTestTheta, X, y, C=100))"
   ]
  },
  {
   "cell_type": "markdown",
   "metadata": {},
   "source": [
    "### Regularized Gradient\n",
    "\n",
    "$\\frac{\\partial J(\\theta)}{\\partial \\theta_j} = \\Big(\\frac{1}{m} \\sum_{i=1}^m (h_\\theta(x^{(i)}) - y^{(i)})x_j^{(i)}\\Big) + \\frac{\\lambda}{m}\\theta_j \\hspace{0.5cm}$for $j \\geq 1$\n",
    "\n",
    "This is also the same as the last gradient with the exception of the regularization parameter\n",
    "\n",
    "#### Regularization Parameter\n",
    "\n",
    "$\\frac{\\lambda}{m}\\theta_j \\hspace{0.5cm}$for $j \\geq 1$\n",
    "\n",
    "- Notation:\n",
    "\n",
    "    - $\\lambda$: The weight which the parameters are adjusted by.  A lower $\\lambda$ has little effect on the parameters, and a higher $\\lambda$ (e.x. $\\lambda = 1,000$) will adjust the parameters to be close to 0.\n",
    "    - $m$: Number of records\n",
    "    - $j$: The index for the parameter.  E.x. $\\theta_{j=1}$ is the score for Microchip Test #1"
   ]
  },
  {
   "cell_type": "code",
   "execution_count": 16,
   "metadata": {},
   "outputs": [
    {
     "data": {
      "text/plain": [
       "array([ 0.27395927,  0.05486754,  0.17156196,  0.13016099,  0.05146909,\n",
       "        0.08589949,  0.04842388,  0.06498917,  0.15165032,  0.12018957,\n",
       "        0.11588942,  0.10111425,  0.10057355,  0.17156196,  0.17156196,\n",
       "        0.17156196,  0.17156196,  0.17156196,  0.17156196,  0.15165032,\n",
       "        0.15165032,  0.15165032,  0.15165032,  0.15165032,  0.15165032,\n",
       "        0.12018957,  0.12018957,  0.12018957,  0.12018957,  0.12018957,\n",
       "        0.12018957,  0.11588942,  0.11588942,  0.11588942,  0.11588942,\n",
       "        0.11588942,  0.11588942,  0.10111425,  0.10111425,  0.10111425,\n",
       "        0.10111425,  0.10111425,  0.10111425,  0.10057355,  0.10057355,\n",
       "        0.10057355,  0.10057355,  0.10057355,  0.10057355])"
      ]
     },
     "execution_count": 16,
     "metadata": {},
     "output_type": "execute_result"
    }
   ],
   "source": [
    "def regularized_gradient(theta, X, y, C):\n",
    "    \"\"\"Computes the gradient for regularized logistic regression\"\"\"\n",
    "    m = y.size\n",
    "    h = logistic_hypothesis(theta, X)\n",
    "    regParam = (C/m)*theta\n",
    "    return (1/m)*(np.dot(X.values.T, (h.subtract(y, axis=0)))) + regParam\n",
    "\n",
    "# Re-using the regularization test thetas for convenience\n",
    "regularized_gradient(regTestTheta, X, y, C=1)"
   ]
  },
  {
   "cell_type": "markdown",
   "metadata": {},
   "source": [
    "Finding the optimal values of $\\theta$.  This chunk will take longer to run since we're dealing with a much higher dimensional dataset."
   ]
  },
  {
   "cell_type": "code",
   "execution_count": 17,
   "metadata": {},
   "outputs": [
    {
     "name": "stdout",
     "output_type": "stream",
     "text": [
      "Warning: Maximum number of iterations has been exceeded.\n"
     ]
    }
   ],
   "source": [
    "initialTheta = np.zeros(X.shape[1])\n",
    "\n",
    "# Find values of theta that minimize the cost function\n",
    "optimalTheta = optimize.fmin(func=regularized_cost,  # Function to minimize\n",
    "                             x0=initialTheta,  # Initial guess\n",
    "                             args=(X, y, 1),  # Additional Arguments\n",
    "                             maxiter=4000)"
   ]
  },
  {
   "cell_type": "markdown",
   "metadata": {},
   "source": [
    "Checking against scikit-learn's logistic regression"
   ]
  },
  {
   "cell_type": "code",
   "execution_count": 18,
   "metadata": {},
   "outputs": [
    {
     "name": "stdout",
     "output_type": "stream",
     "text": [
      "Our cost: 0.6429035714338877\n",
      "sklearn cost: 0.5320982324386653\n"
     ]
    },
    {
     "data": {
      "text/html": [
       "<div>\n",
       "<table border=\"1\" class=\"dataframe\">\n",
       "  <thead>\n",
       "    <tr style=\"text-align: right;\">\n",
       "      <th></th>\n",
       "      <th>x0</th>\n",
       "      <th>x1</th>\n",
       "      <th>x2</th>\n",
       "      <th>x1_2</th>\n",
       "      <th>x1_3</th>\n",
       "      <th>x1_4</th>\n",
       "      <th>x1_5</th>\n",
       "      <th>x1_6</th>\n",
       "      <th>x2_2</th>\n",
       "      <th>x2_3</th>\n",
       "      <th>...</th>\n",
       "      <th>x2_5:x1_3</th>\n",
       "      <th>x2_5:x1_4</th>\n",
       "      <th>x2_5:x1_5</th>\n",
       "      <th>x2_5:x1_6</th>\n",
       "      <th>x2_6:x1</th>\n",
       "      <th>x2_6:x1_2</th>\n",
       "      <th>x2_6:x1_3</th>\n",
       "      <th>x2_6:x1_4</th>\n",
       "      <th>x2_6:x1_5</th>\n",
       "      <th>x2_6:x1_6</th>\n",
       "    </tr>\n",
       "  </thead>\n",
       "  <tbody>\n",
       "    <tr>\n",
       "      <th>Ours</th>\n",
       "      <td>0.091638</td>\n",
       "      <td>0.292984</td>\n",
       "      <td>-0.047087</td>\n",
       "      <td>-0.777164</td>\n",
       "      <td>0.201268</td>\n",
       "      <td>0.065631</td>\n",
       "      <td>0.191048</td>\n",
       "      <td>-0.091262</td>\n",
       "      <td>-0.201755</td>\n",
       "      <td>0.127529</td>\n",
       "      <td>...</td>\n",
       "      <td>-0.602493</td>\n",
       "      <td>-0.034310</td>\n",
       "      <td>-0.106338</td>\n",
       "      <td>0.047764</td>\n",
       "      <td>-0.054995</td>\n",
       "      <td>-0.077269</td>\n",
       "      <td>-0.135801</td>\n",
       "      <td>0.044061</td>\n",
       "      <td>-0.119673</td>\n",
       "      <td>0.160496</td>\n",
       "    </tr>\n",
       "    <tr>\n",
       "      <th>sklearn</th>\n",
       "      <td>0.741256</td>\n",
       "      <td>0.503977</td>\n",
       "      <td>0.214219</td>\n",
       "      <td>-2.173229</td>\n",
       "      <td>0.089499</td>\n",
       "      <td>-1.542069</td>\n",
       "      <td>-0.239515</td>\n",
       "      <td>-1.076754</td>\n",
       "      <td>-0.288843</td>\n",
       "      <td>-0.050170</td>\n",
       "      <td>...</td>\n",
       "      <td>-0.012225</td>\n",
       "      <td>-0.012225</td>\n",
       "      <td>-0.012225</td>\n",
       "      <td>-0.012225</td>\n",
       "      <td>-0.157797</td>\n",
       "      <td>-0.157797</td>\n",
       "      <td>-0.157797</td>\n",
       "      <td>-0.157797</td>\n",
       "      <td>-0.157797</td>\n",
       "      <td>-0.157797</td>\n",
       "    </tr>\n",
       "  </tbody>\n",
       "</table>\n",
       "<p>2 rows × 49 columns</p>\n",
       "</div>"
      ],
      "text/plain": [
       "               x0        x1        x2      x1_2      x1_3      x1_4      x1_5  \\\n",
       "Ours     0.091638  0.292984 -0.047087 -0.777164  0.201268  0.065631  0.191048   \n",
       "sklearn  0.741256  0.503977  0.214219 -2.173229  0.089499 -1.542069 -0.239515   \n",
       "\n",
       "             x1_6      x2_2      x2_3    ...      x2_5:x1_3  x2_5:x1_4  \\\n",
       "Ours    -0.091262 -0.201755  0.127529    ...      -0.602493  -0.034310   \n",
       "sklearn -1.076754 -0.288843 -0.050170    ...      -0.012225  -0.012225   \n",
       "\n",
       "         x2_5:x1_5  x2_5:x1_6   x2_6:x1  x2_6:x1_2  x2_6:x1_3  x2_6:x1_4  \\\n",
       "Ours     -0.106338   0.047764 -0.054995  -0.077269  -0.135801   0.044061   \n",
       "sklearn  -0.012225  -0.012225 -0.157797  -0.157797  -0.157797  -0.157797   \n",
       "\n",
       "         x2_6:x1_5  x2_6:x1_6  \n",
       "Ours     -0.119673   0.160496  \n",
       "sklearn  -0.157797  -0.157797  \n",
       "\n",
       "[2 rows x 49 columns]"
      ]
     },
     "execution_count": 18,
     "metadata": {},
     "output_type": "execute_result"
    }
   ],
   "source": [
    "# Building and training the model\n",
    "model = LogisticRegression(penalty='l2', C=1.0)\n",
    "model.fit(X, y)\n",
    "\n",
    "# Comparing the costs between the obtained parameters\n",
    "print('Our cost:', cost_function(optimalTheta, X, y))\n",
    "print('sklearn cost:', cost_function(model.coef_[0], X, y))\n",
    "\n",
    "# Comparing the parameters themselves\n",
    "pd.DataFrame({'Ours': optimalTheta,\n",
    "              'sklearn': model.coef_[0]},\n",
    "             index=X.columns).transpose()"
   ]
  },
  {
   "cell_type": "markdown",
   "metadata": {},
   "source": [
    "Scikit-learn's function unsurprisingly found much better parameters.  It also executed much quicker due to being properly optimized.  I guess I shouldn't try contributing to scikit-learn anytime soon.\n",
    "\n",
    "Lastly, comparing the accuracy between the two models.  Classification accuracy is just the percentage of records correctly classified (precision, recall, f-1 score, etc. offer more nuanced information on performance), so we will have to calculate the class probabilities and assign predictions like we did for part one:"
   ]
  },
  {
   "cell_type": "code",
   "execution_count": 19,
   "metadata": {},
   "outputs": [
    {
     "data": {
      "text/html": [
       "<div>\n",
       "<table border=\"1\" class=\"dataframe\">\n",
       "  <thead>\n",
       "    <tr style=\"text-align: right;\">\n",
       "      <th></th>\n",
       "      <th>Test1</th>\n",
       "      <th>Test2</th>\n",
       "      <th>Accepted</th>\n",
       "      <th>ClassProbability</th>\n",
       "      <th>Prediction</th>\n",
       "    </tr>\n",
       "  </thead>\n",
       "  <tbody>\n",
       "    <tr>\n",
       "      <th>0</th>\n",
       "      <td>0.051267</td>\n",
       "      <td>0.69956</td>\n",
       "      <td>1</td>\n",
       "      <td>0.637744</td>\n",
       "      <td>1</td>\n",
       "    </tr>\n",
       "    <tr>\n",
       "      <th>1</th>\n",
       "      <td>-0.092742</td>\n",
       "      <td>0.68494</td>\n",
       "      <td>1</td>\n",
       "      <td>0.628872</td>\n",
       "      <td>1</td>\n",
       "    </tr>\n",
       "    <tr>\n",
       "      <th>2</th>\n",
       "      <td>-0.213710</td>\n",
       "      <td>0.69225</td>\n",
       "      <td>1</td>\n",
       "      <td>0.612347</td>\n",
       "      <td>1</td>\n",
       "    </tr>\n",
       "    <tr>\n",
       "      <th>3</th>\n",
       "      <td>-0.375000</td>\n",
       "      <td>0.50219</td>\n",
       "      <td>1</td>\n",
       "      <td>0.579674</td>\n",
       "      <td>1</td>\n",
       "    </tr>\n",
       "    <tr>\n",
       "      <th>4</th>\n",
       "      <td>-0.513250</td>\n",
       "      <td>0.46564</td>\n",
       "      <td>1</td>\n",
       "      <td>0.536131</td>\n",
       "      <td>1</td>\n",
       "    </tr>\n",
       "  </tbody>\n",
       "</table>\n",
       "</div>"
      ],
      "text/plain": [
       "      Test1    Test2  Accepted  ClassProbability  Prediction\n",
       "0  0.051267  0.69956         1          0.637744           1\n",
       "1 -0.092742  0.68494         1          0.628872           1\n",
       "2 -0.213710  0.69225         1          0.612347           1\n",
       "3 -0.375000  0.50219         1          0.579674           1\n",
       "4 -0.513250  0.46564         1          0.536131           1"
      ]
     },
     "execution_count": 19,
     "metadata": {},
     "output_type": "execute_result"
    }
   ],
   "source": [
    "# Predicting the class probability with the obtained thetas\n",
    "df['ClassProbability'] = logistic_hypothesis(optimalTheta, X)\n",
    "\n",
    "# Assigning those with a class probability above 0.5 as admitted\n",
    "df['Prediction'] = np.where(df['ClassProbability'] > 0.5, 1, 0)\n",
    "\n",
    "df.head()"
   ]
  },
  {
   "cell_type": "code",
   "execution_count": 20,
   "metadata": {},
   "outputs": [
    {
     "name": "stdout",
     "output_type": "stream",
     "text": [
      "Our Accuracy: 0.593220338983\n",
      "Scikit-learn Accuracy: 0.779661016949\n"
     ]
    }
   ],
   "source": [
    "print('Our Accuracy:', np.where(df['Accepted'] == df['Prediction'], 1, 0).mean())\n",
    "print('Scikit-learn Accuracy:', model.score(X,y))"
   ]
  },
  {
   "cell_type": "markdown",
   "metadata": {},
   "source": [
    "Our model also had a much lower accuracy like we would have expected.  "
   ]
  }
 ],
 "metadata": {
  "kernelspec": {
   "display_name": "Python [default]",
   "language": "python",
   "name": "python3"
  },
  "language_info": {
   "codemirror_mode": {
    "name": "ipython",
    "version": 3
   },
   "file_extension": ".py",
   "mimetype": "text/x-python",
   "name": "python",
   "nbconvert_exporter": "python",
   "pygments_lexer": "ipython3",
   "version": "3.5.2"
  }
 },
 "nbformat": 4,
 "nbformat_minor": 2
}
