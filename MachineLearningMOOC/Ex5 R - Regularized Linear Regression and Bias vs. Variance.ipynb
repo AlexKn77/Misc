{
 "cells": [
  {
   "cell_type": "markdown",
   "metadata": {},
   "source": [
    "# Exercise 5 - R: Regularized Linear Regression and Bias vs. Variance\n",
    "\n",
    "## *Part I*: Regularized Linear Regression\n",
    "\n",
    "Predicting the amount of water flowing out of a dam using the change of water level in a reservoir\n",
    "\n",
    "Part I is primarily setup for creating a regularized logistic regression model before diving into the new concepts for this exercise\n",
    "\n",
    "---\n",
    "\n",
    "Beginning with package imports, data loading, and initial visualization"
   ]
  },
  {
   "cell_type": "code",
   "execution_count": 1,
   "metadata": {
    "ExecuteTime": {
     "end_time": "2017-06-28T00:17:24.161979Z",
     "start_time": "2017-06-28T00:17:23.022Z"
    }
   },
   "outputs": [
    {
     "name": "stderr",
     "output_type": "stream",
     "text": [
      "Warning message:\n",
      "\"package 'R.matlab' was built under R version 3.3.3\"Warning message:\n",
      "\"package 'repr' was built under R version 3.3.3\""
     ]
    }
   ],
   "source": [
    "rm(list=ls())  # Clearing all environment variables\n",
    "\n",
    "suppressPackageStartupMessages({\n",
    "  library(R.matlab)  # Reads MATLAB/Octave  matrices\n",
    "  library(repr)  # Resizing plot sizes in jupyter\n",
    "  library(ggplot2)\n",
    "  library(dplyr)\n",
    "})\n",
    "\n",
    "theme_update(plot.title = element_text(hjust = 0.5))  # Centers ggplot2 titles\n",
    "options(repr.plot.width=7, repr.plot.height=4.5)  # Adjusts plot sizes"
   ]
  },
  {
   "cell_type": "code",
   "execution_count": 2,
   "metadata": {
    "ExecuteTime": {
     "end_time": "2017-06-28T00:17:24.377670Z",
     "start_time": "2017-06-28T00:17:23.028Z"
    }
   },
   "outputs": [
    {
     "name": "stdout",
     "output_type": "stream",
     "text": [
      "[1] 12  1\n"
     ]
    }
   ],
   "source": [
    "# Loading in the data from the .mat files\n",
    "data <- readMat('ex5/ex5data1.mat')\n",
    "\n",
    "# Unpacking values from the .mat file\n",
    "# Training set for fitting the models\n",
    "X <- data$X\n",
    "y <- data$y\n",
    "\n",
    "# Validation set for determining the regularization parameter\n",
    "Xval <- data$Xval\n",
    "yval <- data$yval\n",
    "\n",
    "# Test set for evaluating performance\n",
    "Xtest <- data$Xtest\n",
    "ytest <- data$ytest\n",
    "\n",
    "rm(data)  # Clearing data from environment\n",
    "\n",
    "print(dim(X))"
   ]
  },
  {
   "cell_type": "code",
   "execution_count": 3,
   "metadata": {
    "ExecuteTime": {
     "end_time": "2017-06-28T00:17:25.019208Z",
     "start_time": "2017-06-28T00:17:23.035Z"
    }
   },
   "outputs": [
    {
     "data": {},
     "metadata": {},
     "output_type": "display_data"
    },
    {
     "data": {
      "image/png": "[encoded data removed]",
      "text/plain": [
       "plot without title"
      ]
     },
     "metadata": {},
     "output_type": "display_data"
    }
   ],
   "source": [
    "df <- data.frame(X, y)\n",
    "\n",
    "ggplot(df) +\n",
    "  geom_point(aes(X, y)) +\n",
    "  labs(x=\"Change in water level (X)\",\n",
    "       y=\"Water flowing out of the dam (y)\",\n",
    "       title=\"Training Data\")"
   ]
  },
  {
   "cell_type": "markdown",
   "metadata": {},
   "source": [
    "### Regularized cost function\n",
    "\n",
    "$J(\\theta) = \\frac{1}{2m} \\big(\\sum_{i=1}^m (h_\\theta(x^{(i)}) - y^{(i)})^2 \\big) + \\frac{\\lambda}{2m} \\big( \\sum_{j=1}^n \\theta_j^2 \\big)$"
   ]
  },
  {
   "cell_type": "code",
   "execution_count": 4,
   "metadata": {
    "ExecuteTime": {
     "end_time": "2017-06-28T00:17:25.082284Z",
     "start_time": "2017-06-28T00:17:23.042Z"
    }
   },
   "outputs": [
    {
     "data": {
      "text/html": [
       "303.993192220264"
      ],
      "text/latex": [
       "303.993192220264"
      ],
      "text/markdown": [
       "303.993192220264"
      ],
      "text/plain": [
       "[1] 303.9932"
      ]
     },
     "metadata": {},
     "output_type": "display_data"
    }
   ],
   "source": [
    "cost_function <- function(theta, X, y, C=0.0) {\n",
    "  # Computes cost for regularized linear regression\n",
    "  m <- length(y)\n",
    "  \n",
    "  # Adding the intercept term if it doesn't exist\n",
    "  if (dim(X)[2] == 1 | mean(X[, 1]) != 0) {\n",
    "    X <- cbind(1, X)\n",
    "  }\n",
    "  \n",
    "  h <- X %*% matrix(theta)  # Generating predictions\n",
    "  error <- sum((h - y)^2)  # Calculating squared error\n",
    "  \n",
    "  # Calculating the regularization parameter\n",
    "  # Avoiding the regularization parameter for the first theta\n",
    "  regularizedTheta <- theta[-1] ** 2\n",
    "  regParam <- (C/(2*m)) * sum(regularizedTheta)\n",
    "  \n",
    "  J <- (1/(2*m)) * error + regParam  # Calculating total cost\n",
    "  return(J)\n",
    "}\n",
    "\n",
    "\n",
    "# Initial values to test our functions and use for theta optimization\n",
    "initialTheta <- c(1, 1)\n",
    "\n",
    "cost_function(initialTheta, X, y, 1.0)"
   ]
  },
  {
   "cell_type": "markdown",
   "metadata": {},
   "source": [
    "### Regularized gradient\n",
    "\n",
    "$\\frac{\\partial J(\\theta)}{\\partial \\theta_j} = \\begin{cases} \n",
    "\\hspace{0.25cm} \\frac{1}{m} \\sum_{i=1}^m (h_\\theta(x^{(i)}) - y^{(i)})x_j^{(i)} & \\text{for}\\ j = 0 \\\\\n",
    "\\Big(\\frac{1}{m} \\sum_{i=1}^m (h_\\theta(x^{(i)}) - y^{(i)})x_j^{(i)}\\Big) + \\frac{\\lambda}{m}\\theta_j & \\text{for}\\ j \\geq 1\n",
    "\\end{cases}$"
   ]
  },
  {
   "cell_type": "code",
   "execution_count": 5,
   "metadata": {
    "ExecuteTime": {
     "end_time": "2017-06-28T00:17:25.173351Z",
     "start_time": "2017-06-28T00:17:23.053Z"
    }
   },
   "outputs": [
    {
     "data": {
      "text/html": [
       "<table>\n",
       "<tbody>\n",
       "\t<tr><td>-15.30302</td></tr>\n",
       "\t<tr><td>598.25074</td></tr>\n",
       "</tbody>\n",
       "</table>\n"
      ],
      "text/latex": [
       "\\begin{tabular}{l}\n",
       "\t -15.30302\\\\\n",
       "\t 598.25074\\\\\n",
       "\\end{tabular}\n"
      ],
      "text/markdown": [
       "\n",
       "| -15.30302 | \n",
       "| 598.25074 | \n",
       "\n",
       "\n"
      ],
      "text/plain": [
       "     [,1]     \n",
       "[1,] -15.30302\n",
       "[2,] 598.25074"
      ]
     },
     "metadata": {},
     "output_type": "display_data"
    }
   ],
   "source": [
    "gradient <- function(theta, X, y, C=0.0) {\n",
    "  # Computes the gradient for regularized linear regression\n",
    "  X <- as.matrix(X)\n",
    "  y <- as.matrix(y)\n",
    "  theta <- as.matrix(theta)\n",
    "  m <- length(y)\n",
    "  \n",
    "  # Adding the intercept term if it doesn't exist\n",
    "  if (dim(X)[2] == 1 | mean(X[, 1]) != 0) {\n",
    "    X <- cbind(1, X)\n",
    "  }\n",
    "  \n",
    "  h <- X %*% matrix(theta)  # Generating predictions\n",
    "    \n",
    "  # Calculating the regularization parameter for all thetas but the intercept\n",
    "  regParam <- (C/m) * theta[-1]\n",
    "    \n",
    "  gradient <- (1/m) * (t(X) %*% (h-y))\n",
    "  gradient[-1] <- gradient[-1] + regParam\n",
    "  return(gradient)\n",
    "}\n",
    "\n",
    "\n",
    "gradient(initialTheta, X, y, 1.0)"
   ]
  },
  {
   "cell_type": "markdown",
   "metadata": {},
   "source": [
    "### Fitting linear regression"
   ]
  },
  {
   "cell_type": "code",
   "execution_count": 6,
   "metadata": {
    "ExecuteTime": {
     "end_time": "2017-06-28T00:17:26.484165Z",
     "start_time": "2017-06-28T00:17:23.069Z"
    }
   },
   "outputs": [
    {
     "data": {
      "text/html": [
       "<ol class=list-inline>\n",
       "\t<li>13.0876173840177</li>\n",
       "\t<li>0.367741449063899</li>\n",
       "</ol>\n"
      ],
      "text/latex": [
       "\\begin{enumerate*}\n",
       "\\item 13.0876173840177\n",
       "\\item 0.367741449063899\n",
       "\\end{enumerate*}\n"
      ],
      "text/markdown": [
       "1. 13.0876173840177\n",
       "2. 0.367741449063899\n",
       "\n",
       "\n"
      ],
      "text/plain": [
       "[1] 13.0876174  0.3677414"
      ]
     },
     "metadata": {},
     "output_type": "display_data"
    }
   ],
   "source": [
    "fit_model <- function(thetas, X, y, C=0.0) {\n",
    "  # Optimizes the thetas for the regularized linear regression model\n",
    "  fitted <- optim(\n",
    "        # Specifying function parameters\n",
    "        par=thetas,  # Initial guess\n",
    "        fn=cost_function,  # Function to minimize\n",
    "        X=X,\n",
    "        y=y,\n",
    "        C=C,\n",
    "        method=\"CG\",  #  Optimization function to use\n",
    "        control=list(maxit = 4000)  # Maximum number of iterations\n",
    "      )$par  # Specifying that we only want the obtained thetas\n",
    "  return(fitted)\n",
    "}\n",
    "\n",
    "\n",
    "optimalTheta <- fit_model(initialTheta, X, y, 1.0)\n",
    "optimalTheta"
   ]
  },
  {
   "cell_type": "code",
   "execution_count": 7,
   "metadata": {
    "ExecuteTime": {
     "end_time": "2017-06-28T00:17:27.052273Z",
     "start_time": "2017-06-28T00:17:23.077Z"
    }
   },
   "outputs": [
    {
     "data": {},
     "metadata": {},
     "output_type": "display_data"
    },
    {
     "data": {
      "image/png": "[encoded data removed]",
      "text/plain": [
       "plot without title"
      ]
     },
     "metadata": {},
     "output_type": "display_data"
    }
   ],
   "source": [
    "# Generating predictions\n",
    "df <- df %>% mutate(Prediction = optimalTheta[1] + .$X * optimalTheta[2])\n",
    "\n",
    "ggplot(df) +\n",
    "  geom_point(aes(X, y)) +\n",
    "  geom_line(aes(X, Prediction), color='forestgreen', size=1) +\n",
    "  labs(x=\"Change in water level (X)\",\n",
    "       y=\"Water flowing out of the dam (y)\",\n",
    "       title=\"Training Data\")"
   ]
  },
  {
   "cell_type": "markdown",
   "metadata": {},
   "source": [
    "---\n",
    "\n",
    "##  *Part II:* Bias-Variance\n",
    "\n",
    "The [bias-variance tradeoff](https://en.wikipedia.org/wiki/Bias%E2%80%93variance_tradeoff) is a ubiquitous problem in machine learning for getting models to generalize beyond their training set.  At its core, it is a way to see if a model is over or underfitting, and it is a diagnostic that can help determine how to improve the model (e.x. gather more samples, gather other features, remove features, etc.).  Here are the definitions on bias and variance\n",
    "\n",
    "- **Bias:**  Error from erroneous assumptions in the learning algorithm.  High bias can cause an algorithm to miss the relevant relations between features and target outputs (*underfitting*)\n",
    "\n",
    "- **Variance:** Error from sensitivity to small fluctuations in the training set.  High variance can cause *overfitting*: modeling the random noise in the training data, rather than the intended outputs\n",
    "\n",
    "If you're a visual learner like myself, here's a common visualization to describe bias and variance:\n",
    "\n",
    "<img src=\"http://www.kdnuggets.com/wp-content/uploads/bias-and-variance.jpg\" style=\"width: 350px\">\n",
    "\n",
    "To reiterate, a high bias leads to overfitting, and a high variance leads to underfitting.  Trying to minimize both tends to result in a good generalized fit that will perform well on data that the model hasn't seen before.\n",
    "\n",
    "[This blog post](http://scott.fortmann-roe.com/docs/BiasVariance.html) also does an exceptional job at explaining the bias-variance tradeoff in further detail."
   ]
  },
  {
   "cell_type": "markdown",
   "metadata": {},
   "source": [
    "### Learning curves\n",
    "\n",
    "Learning curves are an excellent way to show the bias and variance of our model.  They are a graph of the error of both the validation set and the training set by the number of training examples.  The shape of these errors will help us deduce the bias/variance of the model.  Here are examples showing the cases of high/low bias/variance (note: this is a transposed version of the targets shown above):\n",
    "\n",
    "<img src=\"http://www.ultravioletanalytics.com/wp-content/uploads/2014/12/bias_variance_chart1.jpg\"style=\"width: 450px\">\n",
    "\n",
    "For reference, here are the cost functions to be used in the learning curves.  Note that the cost in the training set only applies to the records that it has seen up until that point, but the cost on the validation set applies to the entire validation set:\n",
    "\n",
    "$$J_{train}(\\theta) = \\frac{1}{2m} \\big[ \\sum_{i=1}^m (h_{\\theta}(x^{(o)})-y^{(i)})^2 \\big]$$\n",
    "\n",
    "$$J_{validation}(\\theta) = \\frac{1}{2m_{validation}} \\big[ \\sum_{i=1}^{m_{validation}} (h_{\\theta}(x_{validation}^{(o)})-y_{validation}^{(i)})^2 \\big]$$"
   ]
  },
  {
   "cell_type": "code",
   "execution_count": null,
   "metadata": {
    "collapsed": true
   },
   "outputs": [],
   "source": []
  },
  {
   "cell_type": "markdown",
   "metadata": {},
   "source": [
    "This model is suffering from high bias, which we could have inferred from plotting the fitting curve in the first section"
   ]
  },
  {
   "cell_type": "markdown",
   "metadata": {},
   "source": [
    "---\n",
    "\n",
    "##  *Part III:* Polynomial Regression\n",
    "\n",
    "Since our initial fit had a very high bias, we'll introduce polynomial terms to obtain a better fit that reduces the bias\n",
    "\n",
    "We also have to normalize our features when introducing the polynomial terms, which we'll do with standard scaling.  This results in each column having a mean of 0 and a standard deviation of 1.  As a reminder, the formula is $$x' = \\frac{x - \\bar{x}}{\\sigma}$$"
   ]
  },
  {
   "cell_type": "code",
   "execution_count": null,
   "metadata": {
    "collapsed": true
   },
   "outputs": [],
   "source": []
  },
  {
   "cell_type": "markdown",
   "metadata": {},
   "source": [
    "### Fitting\n",
    "\n",
    "We'll try polynomial terms up until the order of 4 and see what the fit looks like"
   ]
  },
  {
   "cell_type": "code",
   "execution_count": null,
   "metadata": {
    "collapsed": true
   },
   "outputs": [],
   "source": []
  },
  {
   "cell_type": "markdown",
   "metadata": {},
   "source": [
    "Plotting the learning curve of the second order polynomials:"
   ]
  },
  {
   "cell_type": "code",
   "execution_count": null,
   "metadata": {
    "collapsed": true
   },
   "outputs": [],
   "source": []
  },
  {
   "cell_type": "markdown",
   "metadata": {},
   "source": [
    "The gap between the training error and the validation error indicates a high variance problem, which can potentially be solved with regularization"
   ]
  },
  {
   "cell_type": "markdown",
   "metadata": {},
   "source": [
    "### Adjusting the regularization parameter\n",
    "\n",
    "We're going to look at the fitting lines of a few different values of lambda, and review the learning curve to see if the variance problem is fixed "
   ]
  },
  {
   "cell_type": "code",
   "execution_count": null,
   "metadata": {
    "collapsed": true
   },
   "outputs": [],
   "source": []
  },
  {
   "cell_type": "markdown",
   "metadata": {},
   "source": [
    "There's now a wider gap between the two which indicates that our variance has lowered"
   ]
  },
  {
   "cell_type": "markdown",
   "metadata": {},
   "source": [
    "### Selecting $\\lambda$ using a cross validation set\n",
    "\n",
    "Here we will evaluate the error on our $\\lambda$ values by plotting a validation curve.  This is a way to evaluate error as a function of model complexity."
   ]
  },
  {
   "cell_type": "code",
   "execution_count": null,
   "metadata": {
    "collapsed": true
   },
   "outputs": [],
   "source": []
  },
  {
   "cell_type": "markdown",
   "metadata": {},
   "source": [
    "According to the validation curve, a $\\lambda \\in [2,3]$ are the optimal choices"
   ]
  }
 ],
 "metadata": {
  "kernelspec": {
   "display_name": "R",
   "language": "R",
   "name": "ir"
  },
  "language_info": {
   "codemirror_mode": "r",
   "file_extension": ".r",
   "mimetype": "text/x-r-source",
   "name": "R",
   "pygments_lexer": "r",
   "version": "3.3.2"
  },
  "varInspector": {
   "cols": {
    "lenName": 16,
    "lenType": 16,
    "lenVar": 40
   },
   "kernels_config": {
    "python": {
     "delete_cmd_postfix": "",
     "delete_cmd_prefix": "del ",
     "library": "var_list.py",
     "varRefreshCmd": "print(var_dic_list())"
    },
    "r": {
     "delete_cmd_postfix": ") ",
     "delete_cmd_prefix": "rm(",
     "library": "var_list.r",
     "varRefreshCmd": "cat(var_dic_list()) "
    }
   },
   "types_to_exclude": [
    "module",
    "function",
    "builtin_function_or_method",
    "instance",
    "_Feature"
   ],
   "window_display": false
  }
 },
 "nbformat": 4,
 "nbformat_minor": 2
}
