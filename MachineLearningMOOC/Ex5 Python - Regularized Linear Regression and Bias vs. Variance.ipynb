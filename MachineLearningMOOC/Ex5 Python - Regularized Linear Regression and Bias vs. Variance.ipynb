{
 "cells": [
  {
   "cell_type": "markdown",
   "metadata": {},
   "source": [
    "# Exercise 5 - Python: Regularized Linear Regression and Bias vs. Variance\n",
    "\n",
    "## *Part I*: Regularized Linear Regression\n",
    "\n",
    "Predicting the amount of water flowing out of a dam using the change of water level in a reservoir\n",
    "\n",
    "---\n",
    "\n",
    "Beginning with package imports, data loading, and initial visualization"
   ]
  },
  {
   "cell_type": "code",
   "execution_count": 1,
   "metadata": {
    "ExecuteTime": {
     "end_time": "2017-06-26T22:46:24.951592Z",
     "start_time": "2017-06-26T22:46:22.125084Z"
    },
    "collapsed": true
   },
   "outputs": [],
   "source": [
    "import numpy as np\n",
    "import pandas as pd\n",
    "import altair\n",
    "import scipy.io as sio  # Used to load the Octave/MATLAB *.mat files\n",
    "from scipy import optimize"
   ]
  },
  {
   "cell_type": "code",
   "execution_count": 2,
   "metadata": {
    "ExecuteTime": {
     "end_time": "2017-06-26T22:46:24.988619Z",
     "start_time": "2017-06-26T22:46:24.956596Z"
    }
   },
   "outputs": [],
   "source": [
    "# Reading in the .mat file\n",
    "data = sio.loadmat('ex5/ex5data1.mat')\n",
    "\n",
    "# Unpacking values from the .mat file\n",
    "# Training set for fitting the models\n",
    "X = data['X']\n",
    "y = data['y']\n",
    "\n",
    "# Validation set for determining the regularization parameter\n",
    "Xval = data['Xval']\n",
    "yval = data['yval']\n",
    "\n",
    "# Test set for evaluating performance\n",
    "Xtest = data['Xtest']\n",
    "ytest = data['ytest']"
   ]
  },
  {
   "cell_type": "code",
   "execution_count": 3,
   "metadata": {
    "ExecuteTime": {
     "end_time": "2017-06-26T22:46:25.144229Z",
     "start_time": "2017-06-26T22:46:25.000627Z"
    }
   },
   "outputs": [
    {
     "data": {
      "text/html": [
       "<div class=\"vega-embed\" id=\"b2314417-3ed1-4ca5-8862-3936f6b3f37a\"></div>\n",
       "\n",
       "<style>\n",
       ".vega-embed svg, .vega-embed canvas {\n",
       "  border: 1px dotted gray;\n",
       "}\n",
       "\n",
       ".vega-embed .vega-actions a {\n",
       "  margin-right: 6px;\n",
       "}\n",
       "</style>\n"
      ]
     },
     "metadata": {
      "jupyter-vega": "#b2314417-3ed1-4ca5-8862-3936f6b3f37a"
     },
     "output_type": "display_data"
    },
    {
     "data": {
      "application/javascript": [
       "var spec = {\"config\": {\"cell\": {\"width\": 500, \"height\": 350}}, \"mark\": \"point\", \"encoding\": {\"x\": {\"type\": \"quantitative\", \"axis\": {\"title\": \"Change in water level (X)\"}, \"field\": \"X\"}, \"y\": {\"type\": \"quantitative\", \"axis\": {\"title\": \"Water flowing out of the dam (y)\"}, \"field\": \"y\"}}, \"data\": {\"values\": [{\"X\": -15.93675813378541, \"y\": 2.1343105067296686}, {\"X\": -29.152979217238133, \"y\": 1.1732566787564553}, {\"X\": 36.18954862666253, \"y\": 34.35910918053895}, {\"X\": 37.49218733199513, \"y\": 36.83795516371235}, {\"X\": -48.058829452570066, \"y\": 2.808965074479856}, {\"X\": -8.941457938049755, \"y\": 2.121072476666392}, {\"X\": 15.307792889226079, \"y\": 14.710268306562307}, {\"X\": -34.70626581132249, \"y\": 2.614184386432259}, {\"X\": 1.3891543686358903, \"y\": 3.7401716656949393}, {\"X\": -44.38375985168692, \"y\": 3.731691310543067}, {\"X\": 7.013502082404112, \"y\": 7.627658852038035}, {\"X\": 22.762748919711303, \"y\": 22.752428302242212}]}};\n",
       "var selector = \"#b2314417-3ed1-4ca5-8862-3936f6b3f37a\";\n",
       "var type = \"vega-lite\";\n",
       "\n",
       "var output_area = this;\n",
       "require(['nbextensions/jupyter-vega/index'], function(vega) {\n",
       "  vega.render(selector, spec, type, output_area);\n",
       "}, function (err) {\n",
       "  if (err.requireType !== 'scripterror') {\n",
       "    throw(err);\n",
       "  }\n",
       "});\n"
      ]
     },
     "metadata": {
      "jupyter-vega": "#b2314417-3ed1-4ca5-8862-3936f6b3f37a"
     },
     "output_type": "display_data"
    },
    {
     "data": {
      "image/png": "[encoded data removed]"
     },
     "metadata": {
      "jupyter-vega": "#b2314417-3ed1-4ca5-8862-3936f6b3f37a"
     },
     "output_type": "display_data"
    }
   ],
   "source": [
    "df = pd.DataFrame({'X': X.flatten(), 'y': y.flatten()})\n",
    "altair.Chart(df).mark_point().encode(\n",
    "    x=altair.X('X:Q', axis=altair.Axis(title='Change in water level (X)')),\n",
    "    y=altair.Y('y:Q', axis=altair.Axis(title='Water flowing out of the dam (y)')))"
   ]
  },
  {
   "cell_type": "markdown",
   "metadata": {},
   "source": [
    "### Regularized cost function\n",
    "\n",
    "$J(\\theta) = \\frac{1}{2m} \\big(\\sum_{i=1}^m (h_\\theta(x^{(i)}) - y^{(i)})^2 \\big) + \\frac{\\lambda}{2m} \\big( \\sum_{j=1}^n \\theta_j^2 \\big)$"
   ]
  },
  {
   "cell_type": "code",
   "execution_count": 4,
   "metadata": {
    "ExecuteTime": {
     "end_time": "2017-06-26T22:46:25.258810Z",
     "start_time": "2017-06-26T22:46:25.151735Z"
    }
   },
   "outputs": [
    {
     "data": {
      "text/plain": [
       "303.99319222026429"
      ]
     },
     "execution_count": 4,
     "metadata": {},
     "output_type": "execute_result"
    }
   ],
   "source": [
    "def cost_function(theta, X, y, C=0.0):\n",
    "    \"\"\"\n",
    "    Calculates the cost for regularized linear regression\n",
    "    \"\"\"\n",
    "    m = y.size\n",
    "    \n",
    "    # Adding the intercept term if it doesn't exist\n",
    "    if X.shape[1] == 1:\n",
    "        X = np.insert(X, 0, 1, axis=1)\n",
    "    \n",
    "    h = X.dot(theta.reshape(-1, 1))  # Generating predictions\n",
    "    error = np.sum((h - y)**2)  # Calculating squared error\n",
    "    regParam = (C/(2*m)) * np.sum(np.power(theta[1:], 2))\n",
    "    \n",
    "    J = (1/(2*m)) * error + regParam  # Calculating total cost\n",
    "    \n",
    "    return J\n",
    "\n",
    "# Initial values to test our functions and use for theta optimization\n",
    "initialTheta = np.ones(2)\n",
    "\n",
    "cost_function(initialTheta, X, y, 1.0)"
   ]
  },
  {
   "cell_type": "markdown",
   "metadata": {},
   "source": [
    "### Regularized gradient\n",
    "\n",
    "$\\frac{\\partial J(\\theta)}{\\partial \\theta_j} = \\begin{cases} \n",
    "\\hspace{0.25cm} \\frac{1}{m} \\sum_{i=1}^m (h_\\theta(x^{(i)}) - y^{(i)})x_j^{(i)} & \\text{for}\\ j = 0 \\\\\n",
    "\\Big(\\frac{1}{m} \\sum_{i=1}^m (h_\\theta(x^{(i)}) - y^{(i)})x_j^{(i)}\\Big) + \\frac{\\lambda}{m}\\theta_j & \\text{for}\\ j \\geq 1\n",
    "\\end{cases}$"
   ]
  },
  {
   "cell_type": "code",
   "execution_count": 5,
   "metadata": {
    "ExecuteTime": {
     "end_time": "2017-06-26T22:46:25.360383Z",
     "start_time": "2017-06-26T22:46:25.265817Z"
    }
   },
   "outputs": [
    {
     "data": {
      "text/plain": [
       "array([[ -15.30301567],\n",
       "       [ 598.25074417]])"
      ]
     },
     "execution_count": 5,
     "metadata": {},
     "output_type": "execute_result"
    }
   ],
   "source": [
    "def gradient(theta, X, y, C=0.0):\n",
    "    \"\"\"\n",
    "    Calculates the gradient for regularized linear regression\n",
    "    \"\"\"\n",
    "    m = y.size\n",
    "    \n",
    "    # Adding the intercept term if it doesn't exist\n",
    "    if X.shape[1] == 1:\n",
    "        X = np.insert(X, 0, 1, axis=1)\n",
    "        \n",
    "    h = X.dot(theta.reshape(-1, 1))\n",
    "\n",
    "    # Calculating the regularization parameter for all thetas but the intercept\n",
    "    regParam = (C/m)*theta[1:]\n",
    "    \n",
    "    gradient = (1/m)*(X.T.dot(h-y))\n",
    "    gradient[1:] = gradient[1:] + regParam  # Applying the reg parameter\n",
    "    return gradient\n",
    "\n",
    "\n",
    "gradient(initialTheta, X, y, 1.0)"
   ]
  },
  {
   "cell_type": "markdown",
   "metadata": {},
   "source": [
    "### Fitting linear regression"
   ]
  },
  {
   "cell_type": "code",
   "execution_count": 6,
   "metadata": {
    "ExecuteTime": {
     "end_time": "2017-06-26T22:46:25.455951Z",
     "start_time": "2017-06-26T22:46:25.386902Z"
    }
   },
   "outputs": [
    {
     "name": "stdout",
     "output_type": "stream",
     "text": [
      "Optimization terminated successfully.\n",
      "         Current function value: 22.373906\n",
      "         Iterations: 58\n",
      "         Function evaluations: 113\n"
     ]
    },
    {
     "data": {
      "text/plain": [
       "array([ 13.08791065,   0.36778096])"
      ]
     },
     "execution_count": 6,
     "metadata": {},
     "output_type": "execute_result"
    }
   ],
   "source": [
    "# Find values of theta that minimize the cost function\n",
    "optimalTheta = optimize.fmin(func=cost_function,  # Function to minimize\n",
    "                             x0=initialTheta,  # Initial guess\n",
    "                             args=(X, y, 0),  # Additional Arguments\n",
    "                             maxiter=4000)\n",
    "\n",
    "optimalTheta"
   ]
  },
  {
   "cell_type": "code",
   "execution_count": 7,
   "metadata": {
    "ExecuteTime": {
     "end_time": "2017-06-26T22:46:25.613063Z",
     "start_time": "2017-06-26T22:46:25.464456Z"
    }
   },
   "outputs": [
    {
     "data": {
      "text/html": [
       "<div class=\"vega-embed\" id=\"3b1344ba-5488-47de-97c1-2c043202bda4\"></div>\n",
       "\n",
       "<style>\n",
       ".vega-embed svg, .vega-embed canvas {\n",
       "  border: 1px dotted gray;\n",
       "}\n",
       "\n",
       ".vega-embed .vega-actions a {\n",
       "  margin-right: 6px;\n",
       "}\n",
       "</style>\n"
      ]
     },
     "metadata": {
      "jupyter-vega": "#3b1344ba-5488-47de-97c1-2c043202bda4"
     },
     "output_type": "display_data"
    },
    {
     "data": {
      "application/javascript": [
       "var spec = {\"config\": {\"cell\": {\"width\": 500, \"height\": 350}}, \"layers\": [{\"mark\": \"point\", \"encoding\": {\"x\": {\"type\": \"quantitative\", \"axis\": {\"title\": \"Change in water level (X)\"}, \"field\": \"X\"}, \"y\": {\"type\": \"quantitative\", \"axis\": {\"title\": \"Water flowing out of the dam (y)\"}, \"field\": \"y\"}}, \"data\": {\"values\": [{\"Prediction\": 7.226674432792643, \"X\": -15.93675813378541, \"y\": 2.1343105067296686}, {\"Prediction\": 2.3659999415786217, \"X\": -29.152979217238133, \"y\": 1.1732566787564553}, {\"Prediction\": 26.397737627924506, \"X\": 36.18954862666253, \"y\": 34.35910918053895}, {\"Prediction\": 26.876823342842354, \"X\": 37.49218733199513, \"y\": 36.83795516371235}, {\"Prediction\": -4.587211826999255, \"X\": -48.058829452570066, \"y\": 2.808965074479856}, {\"Prediction\": 9.7994126614508, \"X\": -8.941457938049755, \"y\": 2.121072476666392}, {\"Prediction\": 18.71782543488462, \"X\": 15.307792889226079, \"y\": 14.710268306562307}, {\"Prediction\": 0.3236068611494005, \"X\": -34.70626581132249, \"y\": 2.614184386432259}, {\"Prediction\": 13.598815183598248, \"X\": 1.3891543686358903, \"y\": 3.7401716656949393}, {\"Prediction\": -3.2355911973463165, \"X\": -44.38375985168692, \"y\": 3.731691310543067}, {\"Prediction\": 15.667343190916437, \"X\": 7.013502082404112, \"y\": 7.627658852038035}, {\"Prediction\": 21.45961632818852, \"X\": 22.762748919711303, \"y\": 22.752428302242212}]}}, {\"mark\": \"line\", \"encoding\": {\"x\": {\"type\": \"quantitative\", \"field\": \"X\"}, \"y\": {\"type\": \"quantitative\", \"field\": \"Prediction\"}}, \"data\": {\"values\": [{\"Prediction\": 7.226674432792643, \"X\": -15.93675813378541, \"y\": 2.1343105067296686}, {\"Prediction\": 2.3659999415786217, \"X\": -29.152979217238133, \"y\": 1.1732566787564553}, {\"Prediction\": 26.397737627924506, \"X\": 36.18954862666253, \"y\": 34.35910918053895}, {\"Prediction\": 26.876823342842354, \"X\": 37.49218733199513, \"y\": 36.83795516371235}, {\"Prediction\": -4.587211826999255, \"X\": -48.058829452570066, \"y\": 2.808965074479856}, {\"Prediction\": 9.7994126614508, \"X\": -8.941457938049755, \"y\": 2.121072476666392}, {\"Prediction\": 18.71782543488462, \"X\": 15.307792889226079, \"y\": 14.710268306562307}, {\"Prediction\": 0.3236068611494005, \"X\": -34.70626581132249, \"y\": 2.614184386432259}, {\"Prediction\": 13.598815183598248, \"X\": 1.3891543686358903, \"y\": 3.7401716656949393}, {\"Prediction\": -3.2355911973463165, \"X\": -44.38375985168692, \"y\": 3.731691310543067}, {\"Prediction\": 15.667343190916437, \"X\": 7.013502082404112, \"y\": 7.627658852038035}, {\"Prediction\": 21.45961632818852, \"X\": 22.762748919711303, \"y\": 22.752428302242212}]}}], \"data\": {\"values\": [{\"Prediction\": 7.226674432792643, \"X\": -15.93675813378541, \"y\": 2.1343105067296686}, {\"Prediction\": 2.3659999415786217, \"X\": -29.152979217238133, \"y\": 1.1732566787564553}, {\"Prediction\": 26.397737627924506, \"X\": 36.18954862666253, \"y\": 34.35910918053895}, {\"Prediction\": 26.876823342842354, \"X\": 37.49218733199513, \"y\": 36.83795516371235}, {\"Prediction\": -4.587211826999255, \"X\": -48.058829452570066, \"y\": 2.808965074479856}, {\"Prediction\": 9.7994126614508, \"X\": -8.941457938049755, \"y\": 2.121072476666392}, {\"Prediction\": 18.71782543488462, \"X\": 15.307792889226079, \"y\": 14.710268306562307}, {\"Prediction\": 0.3236068611494005, \"X\": -34.70626581132249, \"y\": 2.614184386432259}, {\"Prediction\": 13.598815183598248, \"X\": 1.3891543686358903, \"y\": 3.7401716656949393}, {\"Prediction\": -3.2355911973463165, \"X\": -44.38375985168692, \"y\": 3.731691310543067}, {\"Prediction\": 15.667343190916437, \"X\": 7.013502082404112, \"y\": 7.627658852038035}, {\"Prediction\": 21.45961632818852, \"X\": 22.762748919711303, \"y\": 22.752428302242212}]}};\n",
       "var selector = \"#3b1344ba-5488-47de-97c1-2c043202bda4\";\n",
       "var type = \"vega-lite\";\n",
       "\n",
       "var output_area = this;\n",
       "require(['nbextensions/jupyter-vega/index'], function(vega) {\n",
       "  vega.render(selector, spec, type, output_area);\n",
       "}, function (err) {\n",
       "  if (err.requireType !== 'scripterror') {\n",
       "    throw(err);\n",
       "  }\n",
       "});\n"
      ]
     },
     "metadata": {
      "jupyter-vega": "#3b1344ba-5488-47de-97c1-2c043202bda4"
     },
     "output_type": "display_data"
    },
    {
     "data": {
      "image/png": "[encoded data removed]"
     },
     "metadata": {
      "jupyter-vega": "#3b1344ba-5488-47de-97c1-2c043202bda4"
     },
     "output_type": "display_data"
    }
   ],
   "source": [
    "# Generating predictions\n",
    "df['Prediction'] = optimalTheta[0] + df['X'] * optimalTheta[1]\n",
    "\n",
    "# Creating the initial object for layering charts\n",
    "chart = altair.LayeredChart(df)\n",
    "\n",
    "# Plotting original data\n",
    "chart += altair.Chart(df).mark_point().encode(\n",
    "            x=altair.X('X:Q', axis=altair.Axis(title='Change in water level (X)')),\n",
    "            y=altair.Y('y:Q', axis=altair.Axis(title='Water flowing out of the dam (y)')))\n",
    "\n",
    "# Adding the fitting line\n",
    "chart += altair.Chart(df).mark_line().encode(\n",
    "            x='X:Q',\n",
    "            y='Prediction:Q')\n",
    "\n",
    "# Rendering the output\n",
    "chart.display()"
   ]
  },
  {
   "cell_type": "markdown",
   "metadata": {},
   "source": [
    "---\n",
    "\n",
    "##  *Part II:* Bias-Variance"
   ]
  },
  {
   "cell_type": "code",
   "execution_count": null,
   "metadata": {
    "collapsed": true
   },
   "outputs": [],
   "source": []
  },
  {
   "cell_type": "markdown",
   "metadata": {},
   "source": [
    "### Learning curves"
   ]
  },
  {
   "cell_type": "code",
   "execution_count": null,
   "metadata": {
    "collapsed": true
   },
   "outputs": [],
   "source": []
  },
  {
   "cell_type": "markdown",
   "metadata": {},
   "source": [
    "---\n",
    "\n",
    "##  *Part III:* Polynomial Regression"
   ]
  },
  {
   "cell_type": "code",
   "execution_count": null,
   "metadata": {
    "collapsed": true
   },
   "outputs": [],
   "source": []
  },
  {
   "cell_type": "markdown",
   "metadata": {},
   "source": [
    "### Learning Polynomial Regression"
   ]
  },
  {
   "cell_type": "code",
   "execution_count": null,
   "metadata": {
    "collapsed": true
   },
   "outputs": [],
   "source": []
  },
  {
   "cell_type": "markdown",
   "metadata": {},
   "source": [
    "### (Optional) Adjusting the regularization parameter"
   ]
  },
  {
   "cell_type": "code",
   "execution_count": null,
   "metadata": {
    "collapsed": true
   },
   "outputs": [],
   "source": []
  },
  {
   "cell_type": "markdown",
   "metadata": {},
   "source": [
    "### Selecting $\\lambda$ using a cross validation set"
   ]
  },
  {
   "cell_type": "code",
   "execution_count": null,
   "metadata": {
    "collapsed": true
   },
   "outputs": [],
   "source": []
  },
  {
   "cell_type": "markdown",
   "metadata": {},
   "source": [
    "### (Optional)  Computing test set error"
   ]
  },
  {
   "cell_type": "code",
   "execution_count": null,
   "metadata": {
    "collapsed": true
   },
   "outputs": [],
   "source": []
  },
  {
   "cell_type": "markdown",
   "metadata": {},
   "source": [
    "### (Optional) Plotting learning curves with randomly selected examples"
   ]
  },
  {
   "cell_type": "code",
   "execution_count": null,
   "metadata": {
    "collapsed": true
   },
   "outputs": [],
   "source": []
  },
  {
   "cell_type": "code",
   "execution_count": null,
   "metadata": {
    "collapsed": true
   },
   "outputs": [],
   "source": []
  }
 ],
 "metadata": {
  "kernelspec": {
   "display_name": "Python 3",
   "language": "python",
   "name": "python3"
  },
  "language_info": {
   "codemirror_mode": {
    "name": "ipython",
    "version": 3
   },
   "file_extension": ".py",
   "mimetype": "text/x-python",
   "name": "python",
   "nbconvert_exporter": "python",
   "pygments_lexer": "ipython3",
   "version": "3.5.3"
  },
  "varInspector": {
   "cols": {
    "lenName": 16,
    "lenType": 16,
    "lenVar": 40
   },
   "kernels_config": {
    "python": {
     "delete_cmd_postfix": "",
     "delete_cmd_prefix": "del ",
     "library": "var_list.py",
     "varRefreshCmd": "print(var_dic_list())"
    },
    "r": {
     "delete_cmd_postfix": ") ",
     "delete_cmd_prefix": "rm(",
     "library": "var_list.r",
     "varRefreshCmd": "cat(var_dic_list()) "
    }
   },
   "types_to_exclude": [
    "module",
    "function",
    "builtin_function_or_method",
    "instance",
    "_Feature"
   ],
   "window_display": false
  }
 },
 "nbformat": 4,
 "nbformat_minor": 2
}
