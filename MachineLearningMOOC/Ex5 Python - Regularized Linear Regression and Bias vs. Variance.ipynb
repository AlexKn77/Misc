{
 "cells": [
  {
   "cell_type": "markdown",
   "metadata": {},
   "source": [
    "# Exercise 5 - Python: Regularized Linear Regression and Bias vs. Variance\n",
    "\n",
    "## *Part I*: Regularized Linear Regression\n",
    "\n",
    "Predicting the amount of water flowing out of a dam using the change of water level in a reservoir\n",
    "\n",
    "Part I is primarily setup for creating a regularized logistic regression model before diving into the new concepts for this exercise\n",
    "\n",
    "---\n",
    "\n",
    "Beginning with package imports, data loading, and initial visualization"
   ]
  },
  {
   "cell_type": "code",
   "execution_count": 1,
   "metadata": {
    "ExecuteTime": {
     "end_time": "2017-06-27T04:05:53.647706Z",
     "start_time": "2017-06-27T04:05:51.978022Z"
    },
    "collapsed": true
   },
   "outputs": [],
   "source": [
    "import numpy as np\n",
    "import pandas as pd\n",
    "import altair\n",
    "import scipy.io as sio  # Used to load the Octave/MATLAB *.mat files\n",
    "from scipy import optimize"
   ]
  },
  {
   "cell_type": "code",
   "execution_count": 2,
   "metadata": {
    "ExecuteTime": {
     "end_time": "2017-06-27T04:05:53.684741Z",
     "start_time": "2017-06-27T04:05:53.650707Z"
    }
   },
   "outputs": [],
   "source": [
    "# Reading in the .mat file\n",
    "data = sio.loadmat('ex5/ex5data1.mat')\n",
    "\n",
    "# Unpacking values from the .mat file\n",
    "# Training set for fitting the models\n",
    "X = data['X']\n",
    "y = data['y']\n",
    "\n",
    "# Validation set for determining the regularization parameter\n",
    "Xval = data['Xval']\n",
    "yval = data['yval']\n",
    "\n",
    "# Test set for evaluating performance\n",
    "Xtest = data['Xtest']\n",
    "ytest = data['ytest']"
   ]
  },
  {
   "cell_type": "code",
   "execution_count": 3,
   "metadata": {
    "ExecuteTime": {
     "end_time": "2017-06-27T04:05:53.761799Z",
     "start_time": "2017-06-27T04:05:53.693749Z"
    }
   },
   "outputs": [
    {
     "data": {
      "text/html": [
       "<div class=\"vega-embed\" id=\"e4ef9f58-ce01-4206-bc9b-cad0fb5fa3e7\"></div>\n",
       "\n",
       "<style>\n",
       ".vega-embed svg, .vega-embed canvas {\n",
       "  border: 1px dotted gray;\n",
       "}\n",
       "\n",
       ".vega-embed .vega-actions a {\n",
       "  margin-right: 6px;\n",
       "}\n",
       "</style>\n"
      ]
     },
     "metadata": {
      "jupyter-vega": "#e4ef9f58-ce01-4206-bc9b-cad0fb5fa3e7"
     },
     "output_type": "display_data"
    },
    {
     "data": {
      "application/javascript": [
       "var spec = {\"encoding\": {\"y\": {\"field\": \"y\", \"axis\": {\"title\": \"Water flowing out of the dam (y)\"}, \"type\": \"quantitative\"}, \"x\": {\"field\": \"X\", \"axis\": {\"title\": \"Change in water level (X)\"}, \"type\": \"quantitative\"}}, \"config\": {\"cell\": {\"width\": 500, \"height\": 350}}, \"data\": {\"values\": [{\"y\": 2.1343105067296686, \"X\": -15.93675813378541}, {\"y\": 1.1732566787564553, \"X\": -29.152979217238133}, {\"y\": 34.35910918053895, \"X\": 36.18954862666253}, {\"y\": 36.83795516371235, \"X\": 37.49218733199513}, {\"y\": 2.808965074479856, \"X\": -48.058829452570066}, {\"y\": 2.121072476666392, \"X\": -8.941457938049755}, {\"y\": 14.710268306562307, \"X\": 15.307792889226079}, {\"y\": 2.614184386432259, \"X\": -34.70626581132249}, {\"y\": 3.7401716656949393, \"X\": 1.3891543686358903}, {\"y\": 3.731691310543067, \"X\": -44.38375985168692}, {\"y\": 7.627658852038035, \"X\": 7.013502082404112}, {\"y\": 22.752428302242212, \"X\": 22.762748919711303}]}, \"mark\": \"point\"};\n",
       "var selector = \"#e4ef9f58-ce01-4206-bc9b-cad0fb5fa3e7\";\n",
       "var type = \"vega-lite\";\n",
       "\n",
       "var output_area = this;\n",
       "require(['nbextensions/jupyter-vega/index'], function(vega) {\n",
       "  vega.render(selector, spec, type, output_area);\n",
       "}, function (err) {\n",
       "  if (err.requireType !== 'scripterror') {\n",
       "    throw(err);\n",
       "  }\n",
       "});\n"
      ]
     },
     "metadata": {
      "jupyter-vega": "#e4ef9f58-ce01-4206-bc9b-cad0fb5fa3e7"
     },
     "output_type": "display_data"
    },
    {
     "data": {
      "image/png": "[encoded data removed]"
     },
     "metadata": {
      "jupyter-vega": "#e4ef9f58-ce01-4206-bc9b-cad0fb5fa3e7"
     },
     "output_type": "display_data"
    }
   ],
   "source": [
    "# Creating a data frame since altair requires it as input\n",
    "df = pd.DataFrame({'X': X.flatten(), 'y': y.flatten()})\n",
    "\n",
    "# Plotting the data\n",
    "altair.Chart(df).mark_point().encode(\n",
    "    x=altair.X('X:Q', axis=altair.Axis(title='Change in water level (X)')),\n",
    "    y=altair.Y('y:Q', axis=altair.Axis(title='Water flowing out of the dam (y)')))"
   ]
  },
  {
   "cell_type": "markdown",
   "metadata": {},
   "source": [
    "### Regularized cost function\n",
    "\n",
    "$J(\\theta) = \\frac{1}{2m} \\big(\\sum_{i=1}^m (h_\\theta(x^{(i)}) - y^{(i)})^2 \\big) + \\frac{\\lambda}{2m} \\big( \\sum_{j=1}^n \\theta_j^2 \\big)$"
   ]
  },
  {
   "cell_type": "code",
   "execution_count": 4,
   "metadata": {
    "ExecuteTime": {
     "end_time": "2017-06-27T04:05:53.828856Z",
     "start_time": "2017-06-27T04:05:53.768307Z"
    }
   },
   "outputs": [
    {
     "data": {
      "text/plain": [
       "303.99319222026429"
      ]
     },
     "execution_count": 4,
     "metadata": {},
     "output_type": "execute_result"
    }
   ],
   "source": [
    "def cost_function(theta, X, y, C=0.0):\n",
    "    \"\"\"\n",
    "    Calculates the cost for regularized linear regression\n",
    "    \"\"\"\n",
    "    m = y.size\n",
    "    \n",
    "    # Adding the intercept term if it doesn't exist\n",
    "    if X.shape[1] == 1 or X[:, 0].mean() != 0:\n",
    "        X = np.insert(X, 0, 1, axis=1)\n",
    "    \n",
    "    h = X.dot(theta.reshape(-1, 1))  # Generating predictions\n",
    "    error = np.sum((h - y)**2)  # Calculating squared error\n",
    "    regParam = (C/(2*m)) * np.sum(np.power(theta[1:], 2))\n",
    "    \n",
    "    J = (1/(2*m)) * error + regParam  # Calculating total cost\n",
    "    \n",
    "    return J\n",
    "\n",
    "# Initial values to test our functions and use for theta optimization\n",
    "initialTheta = np.ones(2)\n",
    "\n",
    "cost_function(initialTheta, X, y, 1.0)"
   ]
  },
  {
   "cell_type": "markdown",
   "metadata": {},
   "source": [
    "### Regularized gradient\n",
    "\n",
    "$\\frac{\\partial J(\\theta)}{\\partial \\theta_j} = \\begin{cases} \n",
    "\\hspace{0.25cm} \\frac{1}{m} \\sum_{i=1}^m (h_\\theta(x^{(i)}) - y^{(i)})x_j^{(i)} & \\text{for}\\ j = 0 \\\\\n",
    "\\Big(\\frac{1}{m} \\sum_{i=1}^m (h_\\theta(x^{(i)}) - y^{(i)})x_j^{(i)}\\Big) + \\frac{\\lambda}{m}\\theta_j & \\text{for}\\ j \\geq 1\n",
    "\\end{cases}$"
   ]
  },
  {
   "cell_type": "code",
   "execution_count": 5,
   "metadata": {
    "ExecuteTime": {
     "end_time": "2017-06-27T04:05:53.884942Z",
     "start_time": "2017-06-27T04:05:53.832859Z"
    }
   },
   "outputs": [
    {
     "data": {
      "text/plain": [
       "array([[ -15.30301567],\n",
       "       [ 598.25074417]])"
      ]
     },
     "execution_count": 5,
     "metadata": {},
     "output_type": "execute_result"
    }
   ],
   "source": [
    "def gradient(theta, X, y, C=0.0):\n",
    "    \"\"\"\n",
    "    Calculates the gradient for regularized linear regression\n",
    "    \"\"\"\n",
    "    m = y.size\n",
    "    \n",
    "    # Adding the intercept term if it doesn't exist\n",
    "    if X.shape[1] == 1 or X[:, 0].mean() != 1:\n",
    "        X = np.insert(X, 0, 1, axis=1)\n",
    "        \n",
    "    h = X.dot(theta.reshape(-1, 1))\n",
    "\n",
    "    # Calculating the regularization parameter for all thetas but the intercept\n",
    "    regParam = (C/m)*theta[1:]\n",
    "    \n",
    "    gradient = (1/m)*(X.T.dot(h-y))\n",
    "    gradient[1:] = gradient[1:] + regParam  # Applying the reg parameter\n",
    "    return gradient\n",
    "\n",
    "\n",
    "gradient(initialTheta, X, y, 1.0)"
   ]
  },
  {
   "cell_type": "markdown",
   "metadata": {},
   "source": [
    "### Fitting linear regression"
   ]
  },
  {
   "cell_type": "code",
   "execution_count": 6,
   "metadata": {
    "ExecuteTime": {
     "end_time": "2017-06-27T04:05:53.941968Z",
     "start_time": "2017-06-27T04:05:53.889931Z"
    }
   },
   "outputs": [
    {
     "data": {
      "text/plain": [
       "array([ 13.08791065,   0.36778096])"
      ]
     },
     "execution_count": 6,
     "metadata": {},
     "output_type": "execute_result"
    }
   ],
   "source": [
    "def fit_model(thetas, X, y, C=0.0):\n",
    "    \"\"\"\n",
    "    Helper function for optimizing the thetas for the regularized\n",
    "    linear regression model\n",
    "    \"\"\"\n",
    "    # Finding values of theta that minimize the cost function\n",
    "    fitted = optimize.fmin(func=cost_function,  # Function to minimize\n",
    "                           x0=thetas,  # Initial guess\n",
    "                           args=(X, y, C),  # Additional Arguments\n",
    "                           maxiter=4000,\n",
    "                           disp=False)  # Removes # iterations performed\n",
    "    return fitted\n",
    "\n",
    "\n",
    "optimalTheta = fit_model(initialTheta, X, y)\n",
    "optimalTheta"
   ]
  },
  {
   "cell_type": "code",
   "execution_count": 7,
   "metadata": {
    "ExecuteTime": {
     "end_time": "2017-06-27T04:05:54.029042Z",
     "start_time": "2017-06-27T04:05:53.945971Z"
    }
   },
   "outputs": [
    {
     "data": {
      "text/html": [
       "<div class=\"vega-embed\" id=\"bc2c48e9-44e1-4e93-956b-a15a3353385f\"></div>\n",
       "\n",
       "<style>\n",
       ".vega-embed svg, .vega-embed canvas {\n",
       "  border: 1px dotted gray;\n",
       "}\n",
       "\n",
       ".vega-embed .vega-actions a {\n",
       "  margin-right: 6px;\n",
       "}\n",
       "</style>\n"
      ]
     },
     "metadata": {
      "jupyter-vega": "#bc2c48e9-44e1-4e93-956b-a15a3353385f"
     },
     "output_type": "display_data"
    },
    {
     "data": {
      "application/javascript": [
       "var spec = {\"config\": {\"cell\": {\"width\": 500, \"height\": 350}}, \"data\": {\"values\": [{\"y\": 2.1343105067296686, \"X\": -15.93675813378541, \"Prediction\": 7.226674432792643}, {\"y\": 1.1732566787564553, \"X\": -29.152979217238133, \"Prediction\": 2.3659999415786217}, {\"y\": 34.35910918053895, \"X\": 36.18954862666253, \"Prediction\": 26.397737627924506}, {\"y\": 36.83795516371235, \"X\": 37.49218733199513, \"Prediction\": 26.876823342842354}, {\"y\": 2.808965074479856, \"X\": -48.058829452570066, \"Prediction\": -4.587211826999255}, {\"y\": 2.121072476666392, \"X\": -8.941457938049755, \"Prediction\": 9.7994126614508}, {\"y\": 14.710268306562307, \"X\": 15.307792889226079, \"Prediction\": 18.71782543488462}, {\"y\": 2.614184386432259, \"X\": -34.70626581132249, \"Prediction\": 0.3236068611494005}, {\"y\": 3.7401716656949393, \"X\": 1.3891543686358903, \"Prediction\": 13.598815183598248}, {\"y\": 3.731691310543067, \"X\": -44.38375985168692, \"Prediction\": -3.2355911973463165}, {\"y\": 7.627658852038035, \"X\": 7.013502082404112, \"Prediction\": 15.667343190916437}, {\"y\": 22.752428302242212, \"X\": 22.762748919711303, \"Prediction\": 21.45961632818852}]}, \"layers\": [{\"mark\": \"point\", \"data\": {\"values\": [{\"y\": 2.1343105067296686, \"X\": -15.93675813378541, \"Prediction\": 7.226674432792643}, {\"y\": 1.1732566787564553, \"X\": -29.152979217238133, \"Prediction\": 2.3659999415786217}, {\"y\": 34.35910918053895, \"X\": 36.18954862666253, \"Prediction\": 26.397737627924506}, {\"y\": 36.83795516371235, \"X\": 37.49218733199513, \"Prediction\": 26.876823342842354}, {\"y\": 2.808965074479856, \"X\": -48.058829452570066, \"Prediction\": -4.587211826999255}, {\"y\": 2.121072476666392, \"X\": -8.941457938049755, \"Prediction\": 9.7994126614508}, {\"y\": 14.710268306562307, \"X\": 15.307792889226079, \"Prediction\": 18.71782543488462}, {\"y\": 2.614184386432259, \"X\": -34.70626581132249, \"Prediction\": 0.3236068611494005}, {\"y\": 3.7401716656949393, \"X\": 1.3891543686358903, \"Prediction\": 13.598815183598248}, {\"y\": 3.731691310543067, \"X\": -44.38375985168692, \"Prediction\": -3.2355911973463165}, {\"y\": 7.627658852038035, \"X\": 7.013502082404112, \"Prediction\": 15.667343190916437}, {\"y\": 22.752428302242212, \"X\": 22.762748919711303, \"Prediction\": 21.45961632818852}]}, \"encoding\": {\"y\": {\"field\": \"y\", \"axis\": {\"title\": \"Water flowing out of the dam (y)\"}, \"type\": \"quantitative\"}, \"x\": {\"field\": \"X\", \"axis\": {\"title\": \"Change in water level (X)\"}, \"type\": \"quantitative\"}}}, {\"mark\": \"line\", \"config\": {\"mark\": {\"color\": \"green\"}}, \"data\": {\"values\": [{\"y\": 2.1343105067296686, \"X\": -15.93675813378541, \"Prediction\": 7.226674432792643}, {\"y\": 1.1732566787564553, \"X\": -29.152979217238133, \"Prediction\": 2.3659999415786217}, {\"y\": 34.35910918053895, \"X\": 36.18954862666253, \"Prediction\": 26.397737627924506}, {\"y\": 36.83795516371235, \"X\": 37.49218733199513, \"Prediction\": 26.876823342842354}, {\"y\": 2.808965074479856, \"X\": -48.058829452570066, \"Prediction\": -4.587211826999255}, {\"y\": 2.121072476666392, \"X\": -8.941457938049755, \"Prediction\": 9.7994126614508}, {\"y\": 14.710268306562307, \"X\": 15.307792889226079, \"Prediction\": 18.71782543488462}, {\"y\": 2.614184386432259, \"X\": -34.70626581132249, \"Prediction\": 0.3236068611494005}, {\"y\": 3.7401716656949393, \"X\": 1.3891543686358903, \"Prediction\": 13.598815183598248}, {\"y\": 3.731691310543067, \"X\": -44.38375985168692, \"Prediction\": -3.2355911973463165}, {\"y\": 7.627658852038035, \"X\": 7.013502082404112, \"Prediction\": 15.667343190916437}, {\"y\": 22.752428302242212, \"X\": 22.762748919711303, \"Prediction\": 21.45961632818852}]}, \"encoding\": {\"y\": {\"field\": \"Prediction\", \"type\": \"quantitative\"}, \"x\": {\"field\": \"X\", \"type\": \"quantitative\"}}}]};\n",
       "var selector = \"#bc2c48e9-44e1-4e93-956b-a15a3353385f\";\n",
       "var type = \"vega-lite\";\n",
       "\n",
       "var output_area = this;\n",
       "require(['nbextensions/jupyter-vega/index'], function(vega) {\n",
       "  vega.render(selector, spec, type, output_area);\n",
       "}, function (err) {\n",
       "  if (err.requireType !== 'scripterror') {\n",
       "    throw(err);\n",
       "  }\n",
       "});\n"
      ]
     },
     "metadata": {
      "jupyter-vega": "#bc2c48e9-44e1-4e93-956b-a15a3353385f"
     },
     "output_type": "display_data"
    },
    {
     "data": {
      "image/png": "[encoded data removed]"
     },
     "metadata": {
      "jupyter-vega": "#bc2c48e9-44e1-4e93-956b-a15a3353385f"
     },
     "output_type": "display_data"
    }
   ],
   "source": [
    "# Generating predictions\n",
    "df['Prediction'] = optimalTheta[0] + df['X'] * optimalTheta[1]\n",
    "\n",
    "# Creating the initial object for layering charts\n",
    "chart = altair.LayeredChart(df)\n",
    "\n",
    "# Plotting original data\n",
    "chart += altair.Chart(df).mark_point().encode(\n",
    "            x=altair.X('X:Q', axis=altair.Axis(title='Change in water level (X)')),\n",
    "            y=altair.Y('y:Q', axis=altair.Axis(title='Water flowing out of the dam (y)')))\n",
    "\n",
    "# Adding the fitting line\n",
    "chart += altair.Chart(df).mark_line(color='green').encode(\n",
    "            x='X:Q',\n",
    "            y='Prediction:Q')\n",
    "\n",
    "# Rendering the output\n",
    "chart.display()"
   ]
  },
  {
   "cell_type": "markdown",
   "metadata": {},
   "source": [
    "---\n",
    "\n",
    "##  *Part II:* Bias-Variance\n",
    "\n",
    "**[Talk about bias-variance tradeoff]**\n",
    "\n",
    "<img src=\"http://www.kdnuggets.com/wp-content/uploads/bias-and-variance.jpg\" style=\"width: 350px\">\n",
    "\n",
    "A high bias leads to overfitting, and a high variance leads to underfitting.  Trying to minimize both tends to result in a good generalized fit that will perform well on data that the model hasn't seen before.\n",
    "\n",
    "[This blog post](http://scott.fortmann-roe.com/docs/BiasVariance.html) does an exceptional job at explaining the bias-variance tradeoff in further detail"
   ]
  },
  {
   "cell_type": "markdown",
   "metadata": {},
   "source": [
    "### Learning curves\n",
    "\n",
    "Learning curves are an excellent way to show the bias and variance of our model.  They are a graph of the error of both the validation set and the training set by the number of training examples.  The shape of these errors will help us deduce the bias/variance of the model.  Here are examples showing the cases of high/low bias/variance (note: this is a transposed version of the targets shown above):\n",
    "\n",
    "<img src=\"http://www.ultravioletanalytics.com/wp-content/uploads/2014/12/bias_variance_chart1.jpg\"style=\"width: 450px\">\n",
    "\n",
    "$J_{train}(\\theta) = \\frac{1}{2m} \\big[ \\sum_{i=1}^m (h_{\\theta}(x^{(o)})-y^{(i)})^2 \\big]$\n",
    "\n",
    "$J_{validation}(\\theta) = \\frac{1}{2m_{validation}} \\big[ \\sum_{i=1}^{m_{validation}} (h_{\\theta}(x_{validation}^{(o)})-y_{validation}^{(i)})^2 \\big]$"
   ]
  },
  {
   "cell_type": "code",
   "execution_count": 8,
   "metadata": {
    "ExecuteTime": {
     "end_time": "2017-06-27T04:05:54.501487Z",
     "start_time": "2017-06-27T04:05:54.035043Z"
    }
   },
   "outputs": [
    {
     "data": {
      "text/html": [
       "<div class=\"vega-embed\" id=\"e53af98f-2897-410e-ab9d-1ffb366783da\"></div>\n",
       "\n",
       "<style>\n",
       ".vega-embed svg, .vega-embed canvas {\n",
       "  border: 1px dotted gray;\n",
       "}\n",
       "\n",
       ".vega-embed .vega-actions a {\n",
       "  margin-right: 6px;\n",
       "}\n",
       "</style>\n"
      ]
     },
     "metadata": {
      "jupyter-vega": "#e53af98f-2897-410e-ab9d-1ffb366783da"
     },
     "output_type": "display_data"
    },
    {
     "data": {
      "application/javascript": [
       "var spec = {\"encoding\": {\"color\": {\"field\": \"DataSet\", \"type\": \"nominal\"}, \"y\": {\"field\": \"Error\", \"type\": \"quantitative\"}, \"x\": {\"field\": \"TrainingSize\", \"type\": \"quantitative\"}}, \"config\": {\"cell\": {\"width\": 500, \"height\": 350}}, \"data\": {\"values\": [{\"Error\": 2.879465867681559e-14, \"DataSet\": \"Training\", \"TrainingSize\": 1}, {\"Error\": 3.344682151081729e-11, \"DataSet\": \"Training\", \"TrainingSize\": 2}, {\"Error\": 3.286595047263675, \"DataSet\": \"Training\", \"TrainingSize\": 3}, {\"Error\": 2.842677691094361, \"DataSet\": \"Training\", \"TrainingSize\": 4}, {\"Error\": 13.154048809938718, \"DataSet\": \"Training\", \"TrainingSize\": 5}, {\"Error\": 19.443962513392098, \"DataSet\": \"Training\", \"TrainingSize\": 6}, {\"Error\": 20.098521658462598, \"DataSet\": \"Training\", \"TrainingSize\": 7}, {\"Error\": 18.17285869802121, \"DataSet\": \"Training\", \"TrainingSize\": 8}, {\"Error\": 22.609405425469856, \"DataSet\": \"Training\", \"TrainingSize\": 9}, {\"Error\": 23.26146159355382, \"DataSet\": \"Training\", \"TrainingSize\": 10}, {\"Error\": 24.31724959081897, \"DataSet\": \"Training\", \"TrainingSize\": 11}, {\"Error\": 201.65215115782337, \"DataSet\": \"Validation\", \"TrainingSize\": 1}, {\"Error\": 110.29984462789999, \"DataSet\": \"Validation\", \"TrainingSize\": 2}, {\"Error\": 45.00998511223761, \"DataSet\": \"Validation\", \"TrainingSize\": 3}, {\"Error\": 48.36928660143349, \"DataSet\": \"Validation\", \"TrainingSize\": 4}, {\"Error\": 35.86530760521223, \"DataSet\": \"Validation\", \"TrainingSize\": 5}, {\"Error\": 33.82985459315317, \"DataSet\": \"Validation\", \"TrainingSize\": 6}, {\"Error\": 31.971205465071744, \"DataSet\": \"Validation\", \"TrainingSize\": 7}, {\"Error\": 30.86229506246219, \"DataSet\": \"Validation\", \"TrainingSize\": 8}, {\"Error\": 31.136071632191427, \"DataSet\": \"Validation\", \"TrainingSize\": 9}, {\"Error\": 28.9361718449966, \"DataSet\": \"Validation\", \"TrainingSize\": 10}, {\"Error\": 29.55154531951579, \"DataSet\": \"Validation\", \"TrainingSize\": 11}]}, \"mark\": \"line\"};\n",
       "var selector = \"#e53af98f-2897-410e-ab9d-1ffb366783da\";\n",
       "var type = \"vega-lite\";\n",
       "\n",
       "var output_area = this;\n",
       "require(['nbextensions/jupyter-vega/index'], function(vega) {\n",
       "  vega.render(selector, spec, type, output_area);\n",
       "}, function (err) {\n",
       "  if (err.requireType !== 'scripterror') {\n",
       "    throw(err);\n",
       "  }\n",
       "});\n"
      ]
     },
     "metadata": {
      "jupyter-vega": "#e53af98f-2897-410e-ab9d-1ffb366783da"
     },
     "output_type": "display_data"
    },
    {
     "data": {
      "image/png": "[encoded data removed]"
     },
     "metadata": {
      "jupyter-vega": "#e53af98f-2897-410e-ab9d-1ffb366783da"
     },
     "output_type": "display_data"
    }
   ],
   "source": [
    "def plot_learning_curve(Xtrain, ytrain, Xval, yval, C=0.0):\n",
    "    \"\"\"\n",
    "    Plots the learning curve of the regularized logistic regression \n",
    "    \"\"\"\n",
    "    m = ytrain.size\n",
    "\n",
    "    # Creating empty lists to add the error to\n",
    "    trainingError = []\n",
    "    validationError = []\n",
    "\n",
    "    # Looping through training sizes to calculate our errors\n",
    "    for i in range(1, m):\n",
    "\n",
    "        # Optimizing theta with the given training size\n",
    "        thetas = fit_model(np.zeros(2), Xtrain[:i], ytrain[:i], C)\n",
    "\n",
    "        # Calculating the training error\n",
    "        trainingError.append(cost_function(thetas, Xtrain[:i], ytrain[:i],\n",
    "                                           0))  # Excluding reg parameter\n",
    "\n",
    "        # Calculating the validation error\n",
    "        validationError.append(cost_function(thetas, Xval, yval,\n",
    "                                             0))  # Excluding reg parameter\n",
    "\n",
    "    # Storing the training error in a data frame\n",
    "    results = pd.DataFrame(trainingError, columns=['Error'])\n",
    "    results['DataSet'] = 'Training'\n",
    "    results['TrainingSize'] = range(1, m)\n",
    "\n",
    "    # Storing the validation error in a data frame\n",
    "    validation = pd.DataFrame(validationError, columns=['Error'])\n",
    "    validation['DataSet'] = 'Validation'\n",
    "    validation['TrainingSize'] = range(1, m)\n",
    "\n",
    "    # Joining the two into one data frame\n",
    "    results = results.append(validation, ignore_index=True)\n",
    "\n",
    "    # Plotting the data\n",
    "    learning_curve = altair.Chart(results).mark_line().encode(\n",
    "        x='TrainingSize:Q',\n",
    "        y='Error:Q',\n",
    "        color='DataSet:N')\n",
    "\n",
    "    return learning_curve\n",
    "\n",
    "\n",
    "plot_learning_curve(X, y, Xval, yval)"
   ]
  },
  {
   "cell_type": "markdown",
   "metadata": {},
   "source": [
    "This model is suffering from high bias, which we could have inferred from plotting the fitting curve in the first section"
   ]
  },
  {
   "cell_type": "markdown",
   "metadata": {},
   "source": [
    "---\n",
    "\n",
    "##  *Part III:* Polynomial Regression"
   ]
  },
  {
   "cell_type": "code",
   "execution_count": 9,
   "metadata": {
    "ExecuteTime": {
     "end_time": "2017-06-27T04:05:54.537511Z",
     "start_time": "2017-06-27T04:05:54.506489Z"
    }
   },
   "outputs": [
    {
     "data": {
      "text/plain": [
       "(12, 6)"
      ]
     },
     "execution_count": 9,
     "metadata": {},
     "output_type": "execute_result"
    }
   ],
   "source": [
    "def map_polynomial(X, order):\n",
    "    \"\"\"\n",
    "    Maps X up to the polynomial orders specified\n",
    "    \"\"\"\n",
    "    Xpoly = X.copy()\n",
    "    \n",
    "    if order <= 1:\n",
    "        return X\n",
    "    \n",
    "    for i in range(2, order+1):\n",
    "        Xpoly = np.insert(arr=Xpoly, obj=i-1, values=np.power(X.flatten(), i), axis=1)\n",
    "    \n",
    "    return Xpoly\n",
    "\n",
    "power = 6\n",
    "\n",
    "map_polynomial(X, power).shape"
   ]
  },
  {
   "cell_type": "markdown",
   "metadata": {},
   "source": [
    "### Learning Polynomial Regression"
   ]
  },
  {
   "cell_type": "code",
   "execution_count": 10,
   "metadata": {
    "ExecuteTime": {
     "end_time": "2017-06-27T04:05:55.243077Z",
     "start_time": "2017-06-27T04:05:54.540515Z"
    }
   },
   "outputs": [
    {
     "data": {
      "text/html": [
       "<div class=\"vega-embed\" id=\"20f07a72-bbb7-4531-81e3-26c35be67c0d\"></div>\n",
       "\n",
       "<style>\n",
       ".vega-embed svg, .vega-embed canvas {\n",
       "  border: 1px dotted gray;\n",
       "}\n",
       "\n",
       ".vega-embed .vega-actions a {\n",
       "  margin-right: 6px;\n",
       "}\n",
       "</style>\n"
      ]
     },
     "metadata": {
      "jupyter-vega": "#20f07a72-bbb7-4531-81e3-26c35be67c0d"
     },
     "output_type": "display_data"
    },
    {
     "data": {
      "application/javascript": [
       "var spec = {\"config\": {\"cell\": {\"width\": 500, \"height\": 350}}, \"data\": {\"values\": [{\"Order\": 1.0, \"Prediction\": 7.226674432792643, \"y\": 2.1343105067296686, \"X\": -15.93675813378541}, {\"Order\": 1.0, \"Prediction\": 2.3659999415786217, \"y\": 1.1732566787564553, \"X\": -29.152979217238133}, {\"Order\": 1.0, \"Prediction\": 26.397737627924506, \"y\": 34.35910918053895, \"X\": 36.18954862666253}, {\"Order\": 1.0, \"Prediction\": 26.876823342842354, \"y\": 36.83795516371235, \"X\": 37.49218733199513}, {\"Order\": 1.0, \"Prediction\": -4.587211826999255, \"y\": 2.808965074479856, \"X\": -48.058829452570066}, {\"Order\": 1.0, \"Prediction\": 9.7994126614508, \"y\": 2.121072476666392, \"X\": -8.941457938049755}, {\"Order\": 1.0, \"Prediction\": 18.71782543488462, \"y\": 14.710268306562307, \"X\": 15.307792889226079}, {\"Order\": 1.0, \"Prediction\": 0.3236068611494005, \"y\": 2.614184386432259, \"X\": -34.70626581132249}, {\"Order\": 1.0, \"Prediction\": 13.598815183598248, \"y\": 3.7401716656949393, \"X\": 1.3891543686358903}, {\"Order\": 1.0, \"Prediction\": -3.2355911973463165, \"y\": 3.731691310543067, \"X\": -44.38375985168692}, {\"Order\": 1.0, \"Prediction\": 15.667343190916437, \"y\": 7.627658852038035, \"X\": 7.013502082404112}, {\"Order\": 1.0, \"Prediction\": 21.45961632818852, \"y\": 22.752428302242212, \"X\": 22.762748919711303}, {\"Order\": 2.0, \"Prediction\": 0.5632110180212644, \"y\": null, \"X\": -15.93675813378541}, {\"Order\": 2.0, \"Prediction\": 0.029946005246585194, \"y\": null, \"X\": -29.152979217238133}, {\"Order\": 2.0, \"Prediction\": 34.76198128232218, \"y\": null, \"X\": 36.18954862666253}, {\"Order\": 2.0, \"Prediction\": 36.27244113676067, \"y\": null, \"X\": 37.49218733199513}, {\"Order\": 2.0, \"Prediction\": 4.989679245693744, \"y\": null, \"X\": -48.058829452570066}, {\"Order\": 2.0, \"Prediction\": 2.1777502219191986, \"y\": null, \"X\": -8.941457938049755}, {\"Order\": 2.0, \"Prediction\": 14.913998210669195, \"y\": null, \"X\": 15.307792889226079}, {\"Order\": 2.0, \"Prediction\": 0.7880623344057947, \"y\": null, \"X\": -34.70626581132249}, {\"Order\": 2.0, \"Prediction\": 6.248696673549322, \"y\": null, \"X\": 1.3891543686358903}, {\"Order\": 2.0, \"Prediction\": 3.4981194499587476, \"y\": null, \"X\": -44.38375985168692}, {\"Order\": 2.0, \"Prediction\": 9.310651661088972, \"y\": null, \"X\": 7.013502082404112}, {\"Order\": 2.0, \"Prediction\": 21.056677693265126, \"y\": null, \"X\": 22.762748919711303}, {\"Order\": 3.0, \"Prediction\": -2.341539824692409, \"y\": null, \"X\": -15.93675813378541}, {\"Order\": 3.0, \"Prediction\": -0.41465330748573415, \"y\": null, \"X\": -29.152979217238133}, {\"Order\": 3.0, \"Prediction\": 36.29953761113915, \"y\": null, \"X\": 36.18954862666253}, {\"Order\": 3.0, \"Prediction\": 38.73477621564278, \"y\": null, \"X\": 37.49218733199513}, {\"Order\": 3.0, \"Prediction\": 4.798542005387757, \"y\": null, \"X\": -48.058829452570066}, {\"Order\": 3.0, \"Prediction\": -2.163812157777894, \"y\": null, \"X\": -8.941457938049755}, {\"Order\": 3.0, \"Prediction\": 8.68083294505706, \"y\": null, \"X\": 15.307792889226079}, {\"Order\": 3.0, \"Prediction\": 0.9741104994330576, \"y\": null, \"X\": -34.70626581132249}, {\"Order\": 3.0, \"Prediction\": 0.23320193649804732, \"y\": null, \"X\": 1.3891543686358903}, {\"Order\": 3.0, \"Prediction\": 3.73884832860007, \"y\": null, \"X\": -44.38375985168692}, {\"Order\": 3.0, \"Prediction\": 2.8413652595753036, \"y\": null, \"X\": 7.013502082404112}, {\"Order\": 3.0, \"Prediction\": 16.24036453393813, \"y\": null, \"X\": 22.762748919711303}, {\"Order\": 4.0, \"Prediction\": 0.7495106193267587, \"y\": null, \"X\": -15.93675813378541}, {\"Order\": 4.0, \"Prediction\": 2.0445349127104584, \"y\": null, \"X\": -29.152979217238133}, {\"Order\": 4.0, \"Prediction\": 35.1628645399335, \"y\": null, \"X\": 36.18954862666253}, {\"Order\": 4.0, \"Prediction\": 36.37903881427565, \"y\": null, \"X\": 37.49218733199513}, {\"Order\": 4.0, \"Prediction\": 2.8244995212684803, \"y\": null, \"X\": -48.058829452570066}, {\"Order\": 4.0, \"Prediction\": 1.4389139505066488, \"y\": null, \"X\": -8.941457938049755}, {\"Order\": 4.0, \"Prediction\": 14.70372103822286, \"y\": null, \"X\": 15.307792889226079}, {\"Order\": 4.0, \"Prediction\": 2.9207183737469156, \"y\": null, \"X\": -34.70626581132249}, {\"Order\": 4.0, \"Prediction\": 4.994398540839426, \"y\": null, \"X\": 1.3891543686358903}, {\"Order\": 4.0, \"Prediction\": 3.4083372091813686, \"y\": null, \"X\": -44.38375985168692}, {\"Order\": 4.0, \"Prediction\": 8.279583332065032, \"y\": null, \"X\": 7.013502082404112}, {\"Order\": 4.0, \"Prediction\": 21.70560847899709, \"y\": null, \"X\": 22.762748919711303}, {\"Order\": 5.0, \"Prediction\": 4.9935108075048005, \"y\": null, \"X\": -15.93675813378541}, {\"Order\": 5.0, \"Prediction\": 4.177161916008922, \"y\": null, \"X\": -29.152979217238133}, {\"Order\": 5.0, \"Prediction\": 36.48289677216304, \"y\": null, \"X\": 36.18954862666253}, {\"Order\": 5.0, \"Prediction\": 35.22291447539762, \"y\": null, \"X\": 37.49218733199513}, {\"Order\": 5.0, \"Prediction\": 4.935254176240639, \"y\": null, \"X\": -48.058829452570066}, {\"Order\": 5.0, \"Prediction\": 2.411468147566163, \"y\": null, \"X\": -8.941457938049755}, {\"Order\": 5.0, \"Prediction\": 10.35240863902671, \"y\": null, \"X\": 15.307792889226079}, {\"Order\": 5.0, \"Prediction\": 1.5131503297657485, \"y\": null, \"X\": -34.70626581132249}, {\"Order\": 5.0, \"Prediction\": 0.042268029843874205, \"y\": null, \"X\": 1.3891543686358903}, {\"Order\": 5.0, \"Prediction\": 0.546616706872305, \"y\": null, \"X\": -44.38375985168692}, {\"Order\": 5.0, \"Prediction\": 1.8583638412346224, \"y\": null, \"X\": 7.013502082404112}, {\"Order\": 5.0, \"Prediction\": 22.748416640824303, \"y\": null, \"X\": 22.762748919711303}, {\"Order\": 6.0, \"Prediction\": 3.0513465954541834, \"y\": null, \"X\": -15.93675813378541}, {\"Order\": 6.0, \"Prediction\": 2.900321814092416, \"y\": null, \"X\": -29.152979217238133}, {\"Order\": 6.0, \"Prediction\": 36.98224143008921, \"y\": null, \"X\": 36.18954862666253}, {\"Order\": 6.0, \"Prediction\": 34.52578585169413, \"y\": null, \"X\": 37.49218733199513}, {\"Order\": 6.0, \"Prediction\": 3.6026321002743535, \"y\": null, \"X\": -48.058829452570066}, {\"Order\": 6.0, \"Prediction\": 1.4912073666513055, \"y\": null, \"X\": -8.941457938049755}, {\"Order\": 6.0, \"Prediction\": 10.642934684376797, \"y\": null, \"X\": 15.307792889226079}, {\"Order\": 6.0, \"Prediction\": 2.125622760239453, \"y\": null, \"X\": -34.70626581132249}, {\"Order\": 6.0, \"Prediction\": 0.08803882026138556, \"y\": null, \"X\": 1.3891543686358903}, {\"Order\": 6.0, \"Prediction\": 2.4611421060176517, \"y\": null, \"X\": -44.38375985168692}, {\"Order\": 6.0, \"Prediction\": 1.9619231855040427, \"y\": null, \"X\": 7.013502082404112}, {\"Order\": 6.0, \"Prediction\": 24.03381790939079, \"y\": null, \"X\": 22.762748919711303}]}, \"layers\": [{\"mark\": \"line\", \"config\": {\"mark\": {\"opacity\": 0.5}}, \"data\": {\"values\": [{\"Order\": 1.0, \"Prediction\": 7.226674432792643, \"y\": 2.1343105067296686, \"X\": -15.93675813378541}, {\"Order\": 1.0, \"Prediction\": 2.3659999415786217, \"y\": 1.1732566787564553, \"X\": -29.152979217238133}, {\"Order\": 1.0, \"Prediction\": 26.397737627924506, \"y\": 34.35910918053895, \"X\": 36.18954862666253}, {\"Order\": 1.0, \"Prediction\": 26.876823342842354, \"y\": 36.83795516371235, \"X\": 37.49218733199513}, {\"Order\": 1.0, \"Prediction\": -4.587211826999255, \"y\": 2.808965074479856, \"X\": -48.058829452570066}, {\"Order\": 1.0, \"Prediction\": 9.7994126614508, \"y\": 2.121072476666392, \"X\": -8.941457938049755}, {\"Order\": 1.0, \"Prediction\": 18.71782543488462, \"y\": 14.710268306562307, \"X\": 15.307792889226079}, {\"Order\": 1.0, \"Prediction\": 0.3236068611494005, \"y\": 2.614184386432259, \"X\": -34.70626581132249}, {\"Order\": 1.0, \"Prediction\": 13.598815183598248, \"y\": 3.7401716656949393, \"X\": 1.3891543686358903}, {\"Order\": 1.0, \"Prediction\": -3.2355911973463165, \"y\": 3.731691310543067, \"X\": -44.38375985168692}, {\"Order\": 1.0, \"Prediction\": 15.667343190916437, \"y\": 7.627658852038035, \"X\": 7.013502082404112}, {\"Order\": 1.0, \"Prediction\": 21.45961632818852, \"y\": 22.752428302242212, \"X\": 22.762748919711303}, {\"Order\": 2.0, \"Prediction\": 0.5632110180212644, \"y\": null, \"X\": -15.93675813378541}, {\"Order\": 2.0, \"Prediction\": 0.029946005246585194, \"y\": null, \"X\": -29.152979217238133}, {\"Order\": 2.0, \"Prediction\": 34.76198128232218, \"y\": null, \"X\": 36.18954862666253}, {\"Order\": 2.0, \"Prediction\": 36.27244113676067, \"y\": null, \"X\": 37.49218733199513}, {\"Order\": 2.0, \"Prediction\": 4.989679245693744, \"y\": null, \"X\": -48.058829452570066}, {\"Order\": 2.0, \"Prediction\": 2.1777502219191986, \"y\": null, \"X\": -8.941457938049755}, {\"Order\": 2.0, \"Prediction\": 14.913998210669195, \"y\": null, \"X\": 15.307792889226079}, {\"Order\": 2.0, \"Prediction\": 0.7880623344057947, \"y\": null, \"X\": -34.70626581132249}, {\"Order\": 2.0, \"Prediction\": 6.248696673549322, \"y\": null, \"X\": 1.3891543686358903}, {\"Order\": 2.0, \"Prediction\": 3.4981194499587476, \"y\": null, \"X\": -44.38375985168692}, {\"Order\": 2.0, \"Prediction\": 9.310651661088972, \"y\": null, \"X\": 7.013502082404112}, {\"Order\": 2.0, \"Prediction\": 21.056677693265126, \"y\": null, \"X\": 22.762748919711303}, {\"Order\": 3.0, \"Prediction\": -2.341539824692409, \"y\": null, \"X\": -15.93675813378541}, {\"Order\": 3.0, \"Prediction\": -0.41465330748573415, \"y\": null, \"X\": -29.152979217238133}, {\"Order\": 3.0, \"Prediction\": 36.29953761113915, \"y\": null, \"X\": 36.18954862666253}, {\"Order\": 3.0, \"Prediction\": 38.73477621564278, \"y\": null, \"X\": 37.49218733199513}, {\"Order\": 3.0, \"Prediction\": 4.798542005387757, \"y\": null, \"X\": -48.058829452570066}, {\"Order\": 3.0, \"Prediction\": -2.163812157777894, \"y\": null, \"X\": -8.941457938049755}, {\"Order\": 3.0, \"Prediction\": 8.68083294505706, \"y\": null, \"X\": 15.307792889226079}, {\"Order\": 3.0, \"Prediction\": 0.9741104994330576, \"y\": null, \"X\": -34.70626581132249}, {\"Order\": 3.0, \"Prediction\": 0.23320193649804732, \"y\": null, \"X\": 1.3891543686358903}, {\"Order\": 3.0, \"Prediction\": 3.73884832860007, \"y\": null, \"X\": -44.38375985168692}, {\"Order\": 3.0, \"Prediction\": 2.8413652595753036, \"y\": null, \"X\": 7.013502082404112}, {\"Order\": 3.0, \"Prediction\": 16.24036453393813, \"y\": null, \"X\": 22.762748919711303}, {\"Order\": 4.0, \"Prediction\": 0.7495106193267587, \"y\": null, \"X\": -15.93675813378541}, {\"Order\": 4.0, \"Prediction\": 2.0445349127104584, \"y\": null, \"X\": -29.152979217238133}, {\"Order\": 4.0, \"Prediction\": 35.1628645399335, \"y\": null, \"X\": 36.18954862666253}, {\"Order\": 4.0, \"Prediction\": 36.37903881427565, \"y\": null, \"X\": 37.49218733199513}, {\"Order\": 4.0, \"Prediction\": 2.8244995212684803, \"y\": null, \"X\": -48.058829452570066}, {\"Order\": 4.0, \"Prediction\": 1.4389139505066488, \"y\": null, \"X\": -8.941457938049755}, {\"Order\": 4.0, \"Prediction\": 14.70372103822286, \"y\": null, \"X\": 15.307792889226079}, {\"Order\": 4.0, \"Prediction\": 2.9207183737469156, \"y\": null, \"X\": -34.70626581132249}, {\"Order\": 4.0, \"Prediction\": 4.994398540839426, \"y\": null, \"X\": 1.3891543686358903}, {\"Order\": 4.0, \"Prediction\": 3.4083372091813686, \"y\": null, \"X\": -44.38375985168692}, {\"Order\": 4.0, \"Prediction\": 8.279583332065032, \"y\": null, \"X\": 7.013502082404112}, {\"Order\": 4.0, \"Prediction\": 21.70560847899709, \"y\": null, \"X\": 22.762748919711303}, {\"Order\": 5.0, \"Prediction\": 4.9935108075048005, \"y\": null, \"X\": -15.93675813378541}, {\"Order\": 5.0, \"Prediction\": 4.177161916008922, \"y\": null, \"X\": -29.152979217238133}, {\"Order\": 5.0, \"Prediction\": 36.48289677216304, \"y\": null, \"X\": 36.18954862666253}, {\"Order\": 5.0, \"Prediction\": 35.22291447539762, \"y\": null, \"X\": 37.49218733199513}, {\"Order\": 5.0, \"Prediction\": 4.935254176240639, \"y\": null, \"X\": -48.058829452570066}, {\"Order\": 5.0, \"Prediction\": 2.411468147566163, \"y\": null, \"X\": -8.941457938049755}, {\"Order\": 5.0, \"Prediction\": 10.35240863902671, \"y\": null, \"X\": 15.307792889226079}, {\"Order\": 5.0, \"Prediction\": 1.5131503297657485, \"y\": null, \"X\": -34.70626581132249}, {\"Order\": 5.0, \"Prediction\": 0.042268029843874205, \"y\": null, \"X\": 1.3891543686358903}, {\"Order\": 5.0, \"Prediction\": 0.546616706872305, \"y\": null, \"X\": -44.38375985168692}, {\"Order\": 5.0, \"Prediction\": 1.8583638412346224, \"y\": null, \"X\": 7.013502082404112}, {\"Order\": 5.0, \"Prediction\": 22.748416640824303, \"y\": null, \"X\": 22.762748919711303}, {\"Order\": 6.0, \"Prediction\": 3.0513465954541834, \"y\": null, \"X\": -15.93675813378541}, {\"Order\": 6.0, \"Prediction\": 2.900321814092416, \"y\": null, \"X\": -29.152979217238133}, {\"Order\": 6.0, \"Prediction\": 36.98224143008921, \"y\": null, \"X\": 36.18954862666253}, {\"Order\": 6.0, \"Prediction\": 34.52578585169413, \"y\": null, \"X\": 37.49218733199513}, {\"Order\": 6.0, \"Prediction\": 3.6026321002743535, \"y\": null, \"X\": -48.058829452570066}, {\"Order\": 6.0, \"Prediction\": 1.4912073666513055, \"y\": null, \"X\": -8.941457938049755}, {\"Order\": 6.0, \"Prediction\": 10.642934684376797, \"y\": null, \"X\": 15.307792889226079}, {\"Order\": 6.0, \"Prediction\": 2.125622760239453, \"y\": null, \"X\": -34.70626581132249}, {\"Order\": 6.0, \"Prediction\": 0.08803882026138556, \"y\": null, \"X\": 1.3891543686358903}, {\"Order\": 6.0, \"Prediction\": 2.4611421060176517, \"y\": null, \"X\": -44.38375985168692}, {\"Order\": 6.0, \"Prediction\": 1.9619231855040427, \"y\": null, \"X\": 7.013502082404112}, {\"Order\": 6.0, \"Prediction\": 24.03381790939079, \"y\": null, \"X\": 22.762748919711303}]}, \"encoding\": {\"color\": {\"field\": \"Order\", \"type\": \"nominal\"}, \"y\": {\"field\": \"Prediction\", \"axis\": {\"title\": \"Water flowing out of the dam (y)\"}, \"type\": \"quantitative\"}, \"x\": {\"field\": \"X\", \"axis\": {\"title\": \"Change in water level (X)\"}, \"type\": \"quantitative\"}}}, {\"mark\": \"circle\", \"config\": {\"mark\": {\"color\": \"black\"}}, \"data\": {\"values\": [{\"Order\": 1.0, \"Prediction\": 7.226674432792643, \"y\": 2.1343105067296686, \"X\": -15.93675813378541}, {\"Order\": 1.0, \"Prediction\": 2.3659999415786217, \"y\": 1.1732566787564553, \"X\": -29.152979217238133}, {\"Order\": 1.0, \"Prediction\": 26.397737627924506, \"y\": 34.35910918053895, \"X\": 36.18954862666253}, {\"Order\": 1.0, \"Prediction\": 26.876823342842354, \"y\": 36.83795516371235, \"X\": 37.49218733199513}, {\"Order\": 1.0, \"Prediction\": -4.587211826999255, \"y\": 2.808965074479856, \"X\": -48.058829452570066}, {\"Order\": 1.0, \"Prediction\": 9.7994126614508, \"y\": 2.121072476666392, \"X\": -8.941457938049755}, {\"Order\": 1.0, \"Prediction\": 18.71782543488462, \"y\": 14.710268306562307, \"X\": 15.307792889226079}, {\"Order\": 1.0, \"Prediction\": 0.3236068611494005, \"y\": 2.614184386432259, \"X\": -34.70626581132249}, {\"Order\": 1.0, \"Prediction\": 13.598815183598248, \"y\": 3.7401716656949393, \"X\": 1.3891543686358903}, {\"Order\": 1.0, \"Prediction\": -3.2355911973463165, \"y\": 3.731691310543067, \"X\": -44.38375985168692}, {\"Order\": 1.0, \"Prediction\": 15.667343190916437, \"y\": 7.627658852038035, \"X\": 7.013502082404112}, {\"Order\": 1.0, \"Prediction\": 21.45961632818852, \"y\": 22.752428302242212, \"X\": 22.762748919711303}, {\"Order\": 2.0, \"Prediction\": 0.5632110180212644, \"y\": null, \"X\": -15.93675813378541}, {\"Order\": 2.0, \"Prediction\": 0.029946005246585194, \"y\": null, \"X\": -29.152979217238133}, {\"Order\": 2.0, \"Prediction\": 34.76198128232218, \"y\": null, \"X\": 36.18954862666253}, {\"Order\": 2.0, \"Prediction\": 36.27244113676067, \"y\": null, \"X\": 37.49218733199513}, {\"Order\": 2.0, \"Prediction\": 4.989679245693744, \"y\": null, \"X\": -48.058829452570066}, {\"Order\": 2.0, \"Prediction\": 2.1777502219191986, \"y\": null, \"X\": -8.941457938049755}, {\"Order\": 2.0, \"Prediction\": 14.913998210669195, \"y\": null, \"X\": 15.307792889226079}, {\"Order\": 2.0, \"Prediction\": 0.7880623344057947, \"y\": null, \"X\": -34.70626581132249}, {\"Order\": 2.0, \"Prediction\": 6.248696673549322, \"y\": null, \"X\": 1.3891543686358903}, {\"Order\": 2.0, \"Prediction\": 3.4981194499587476, \"y\": null, \"X\": -44.38375985168692}, {\"Order\": 2.0, \"Prediction\": 9.310651661088972, \"y\": null, \"X\": 7.013502082404112}, {\"Order\": 2.0, \"Prediction\": 21.056677693265126, \"y\": null, \"X\": 22.762748919711303}, {\"Order\": 3.0, \"Prediction\": -2.341539824692409, \"y\": null, \"X\": -15.93675813378541}, {\"Order\": 3.0, \"Prediction\": -0.41465330748573415, \"y\": null, \"X\": -29.152979217238133}, {\"Order\": 3.0, \"Prediction\": 36.29953761113915, \"y\": null, \"X\": 36.18954862666253}, {\"Order\": 3.0, \"Prediction\": 38.73477621564278, \"y\": null, \"X\": 37.49218733199513}, {\"Order\": 3.0, \"Prediction\": 4.798542005387757, \"y\": null, \"X\": -48.058829452570066}, {\"Order\": 3.0, \"Prediction\": -2.163812157777894, \"y\": null, \"X\": -8.941457938049755}, {\"Order\": 3.0, \"Prediction\": 8.68083294505706, \"y\": null, \"X\": 15.307792889226079}, {\"Order\": 3.0, \"Prediction\": 0.9741104994330576, \"y\": null, \"X\": -34.70626581132249}, {\"Order\": 3.0, \"Prediction\": 0.23320193649804732, \"y\": null, \"X\": 1.3891543686358903}, {\"Order\": 3.0, \"Prediction\": 3.73884832860007, \"y\": null, \"X\": -44.38375985168692}, {\"Order\": 3.0, \"Prediction\": 2.8413652595753036, \"y\": null, \"X\": 7.013502082404112}, {\"Order\": 3.0, \"Prediction\": 16.24036453393813, \"y\": null, \"X\": 22.762748919711303}, {\"Order\": 4.0, \"Prediction\": 0.7495106193267587, \"y\": null, \"X\": -15.93675813378541}, {\"Order\": 4.0, \"Prediction\": 2.0445349127104584, \"y\": null, \"X\": -29.152979217238133}, {\"Order\": 4.0, \"Prediction\": 35.1628645399335, \"y\": null, \"X\": 36.18954862666253}, {\"Order\": 4.0, \"Prediction\": 36.37903881427565, \"y\": null, \"X\": 37.49218733199513}, {\"Order\": 4.0, \"Prediction\": 2.8244995212684803, \"y\": null, \"X\": -48.058829452570066}, {\"Order\": 4.0, \"Prediction\": 1.4389139505066488, \"y\": null, \"X\": -8.941457938049755}, {\"Order\": 4.0, \"Prediction\": 14.70372103822286, \"y\": null, \"X\": 15.307792889226079}, {\"Order\": 4.0, \"Prediction\": 2.9207183737469156, \"y\": null, \"X\": -34.70626581132249}, {\"Order\": 4.0, \"Prediction\": 4.994398540839426, \"y\": null, \"X\": 1.3891543686358903}, {\"Order\": 4.0, \"Prediction\": 3.4083372091813686, \"y\": null, \"X\": -44.38375985168692}, {\"Order\": 4.0, \"Prediction\": 8.279583332065032, \"y\": null, \"X\": 7.013502082404112}, {\"Order\": 4.0, \"Prediction\": 21.70560847899709, \"y\": null, \"X\": 22.762748919711303}, {\"Order\": 5.0, \"Prediction\": 4.9935108075048005, \"y\": null, \"X\": -15.93675813378541}, {\"Order\": 5.0, \"Prediction\": 4.177161916008922, \"y\": null, \"X\": -29.152979217238133}, {\"Order\": 5.0, \"Prediction\": 36.48289677216304, \"y\": null, \"X\": 36.18954862666253}, {\"Order\": 5.0, \"Prediction\": 35.22291447539762, \"y\": null, \"X\": 37.49218733199513}, {\"Order\": 5.0, \"Prediction\": 4.935254176240639, \"y\": null, \"X\": -48.058829452570066}, {\"Order\": 5.0, \"Prediction\": 2.411468147566163, \"y\": null, \"X\": -8.941457938049755}, {\"Order\": 5.0, \"Prediction\": 10.35240863902671, \"y\": null, \"X\": 15.307792889226079}, {\"Order\": 5.0, \"Prediction\": 1.5131503297657485, \"y\": null, \"X\": -34.70626581132249}, {\"Order\": 5.0, \"Prediction\": 0.042268029843874205, \"y\": null, \"X\": 1.3891543686358903}, {\"Order\": 5.0, \"Prediction\": 0.546616706872305, \"y\": null, \"X\": -44.38375985168692}, {\"Order\": 5.0, \"Prediction\": 1.8583638412346224, \"y\": null, \"X\": 7.013502082404112}, {\"Order\": 5.0, \"Prediction\": 22.748416640824303, \"y\": null, \"X\": 22.762748919711303}, {\"Order\": 6.0, \"Prediction\": 3.0513465954541834, \"y\": null, \"X\": -15.93675813378541}, {\"Order\": 6.0, \"Prediction\": 2.900321814092416, \"y\": null, \"X\": -29.152979217238133}, {\"Order\": 6.0, \"Prediction\": 36.98224143008921, \"y\": null, \"X\": 36.18954862666253}, {\"Order\": 6.0, \"Prediction\": 34.52578585169413, \"y\": null, \"X\": 37.49218733199513}, {\"Order\": 6.0, \"Prediction\": 3.6026321002743535, \"y\": null, \"X\": -48.058829452570066}, {\"Order\": 6.0, \"Prediction\": 1.4912073666513055, \"y\": null, \"X\": -8.941457938049755}, {\"Order\": 6.0, \"Prediction\": 10.642934684376797, \"y\": null, \"X\": 15.307792889226079}, {\"Order\": 6.0, \"Prediction\": 2.125622760239453, \"y\": null, \"X\": -34.70626581132249}, {\"Order\": 6.0, \"Prediction\": 0.08803882026138556, \"y\": null, \"X\": 1.3891543686358903}, {\"Order\": 6.0, \"Prediction\": 2.4611421060176517, \"y\": null, \"X\": -44.38375985168692}, {\"Order\": 6.0, \"Prediction\": 1.9619231855040427, \"y\": null, \"X\": 7.013502082404112}, {\"Order\": 6.0, \"Prediction\": 24.03381790939079, \"y\": null, \"X\": 22.762748919711303}]}, \"encoding\": {\"y\": {\"field\": \"y\", \"type\": \"quantitative\"}, \"x\": {\"field\": \"X\", \"type\": \"quantitative\"}}}]};\n",
       "var selector = \"#20f07a72-bbb7-4531-81e3-26c35be67c0d\";\n",
       "var type = \"vega-lite\";\n",
       "\n",
       "var output_area = this;\n",
       "require(['nbextensions/jupyter-vega/index'], function(vega) {\n",
       "  vega.render(selector, spec, type, output_area);\n",
       "}, function (err) {\n",
       "  if (err.requireType !== 'scripterror') {\n",
       "    throw(err);\n",
       "  }\n",
       "});\n"
      ]
     },
     "metadata": {
      "jupyter-vega": "#20f07a72-bbb7-4531-81e3-26c35be67c0d"
     },
     "output_type": "display_data"
    },
    {
     "data": {
      "image/png": "[encoded data removed]"
     },
     "metadata": {
      "jupyter-vega": "#20f07a72-bbb7-4531-81e3-26c35be67c0d"
     },
     "output_type": "display_data"
    }
   ],
   "source": [
    "dfPoly = df.copy()\n",
    "\n",
    "# Generating predictions for the orders specified\n",
    "for order in range(2, power+1):\n",
    "    Xpoly = map_polynomial(X, order)\n",
    "    optimalTheta = fit_model(np.zeros(order+1), Xpoly, y)\n",
    "    prediction = optimalTheta[0] + np.sum(optimalTheta[1:] * Xpoly, axis=1)\n",
    "    dfPoly = dfPoly.append(pd.DataFrame({'Prediction': prediction, 'X': X.flatten(), 'Order': order}))\n",
    "    \n",
    "dfPoly['Order'].fillna(1, inplace=True)\n",
    "\n",
    "# Creating the initial object for layering charts\n",
    "chart = altair.LayeredChart(dfPoly)\n",
    "\n",
    "# Plotting the fitting lines\n",
    "chart += altair.Chart(dfPoly).mark_line(opacity=0.5).encode(\n",
    "            x=altair.X('X:Q', axis=altair.Axis(title='Change in water level (X)')),\n",
    "            y=altair.Y('Prediction:Q', axis=altair.Axis(title='Water flowing out of the dam (y)')),\n",
    "            color='Order:N')\n",
    "\n",
    "# Plotting original data\n",
    "chart += altair.Chart(dfPoly).mark_circle(color='black').encode(\n",
    "            x='X:Q',\n",
    "            y='y:Q')\n",
    "\n",
    "# Rendering the output\n",
    "chart.display()"
   ]
  },
  {
   "cell_type": "markdown",
   "metadata": {},
   "source": [
    "### (Optional) Adjusting the regularization parameter"
   ]
  },
  {
   "cell_type": "code",
   "execution_count": null,
   "metadata": {
    "collapsed": true
   },
   "outputs": [],
   "source": []
  },
  {
   "cell_type": "markdown",
   "metadata": {},
   "source": [
    "### Selecting $\\lambda$ using a cross validation set"
   ]
  },
  {
   "cell_type": "code",
   "execution_count": null,
   "metadata": {
    "collapsed": true
   },
   "outputs": [],
   "source": []
  },
  {
   "cell_type": "markdown",
   "metadata": {},
   "source": [
    "### (Optional)  Computing test set error"
   ]
  },
  {
   "cell_type": "code",
   "execution_count": null,
   "metadata": {
    "collapsed": true
   },
   "outputs": [],
   "source": []
  },
  {
   "cell_type": "markdown",
   "metadata": {},
   "source": [
    "### (Optional) Plotting learning curves with randomly selected examples"
   ]
  },
  {
   "cell_type": "code",
   "execution_count": null,
   "metadata": {
    "collapsed": true
   },
   "outputs": [],
   "source": []
  },
  {
   "cell_type": "code",
   "execution_count": null,
   "metadata": {
    "collapsed": true
   },
   "outputs": [],
   "source": []
  }
 ],
 "metadata": {
  "kernelspec": {
   "display_name": "Python 3",
   "language": "python",
   "name": "python3"
  },
  "language_info": {
   "codemirror_mode": {
    "name": "ipython",
    "version": 3
   },
   "file_extension": ".py",
   "mimetype": "text/x-python",
   "name": "python",
   "nbconvert_exporter": "python",
   "pygments_lexer": "ipython3",
   "version": "3.5.3"
  },
  "varInspector": {
   "cols": {
    "lenName": 16,
    "lenType": 16,
    "lenVar": 40
   },
   "kernels_config": {
    "python": {
     "delete_cmd_postfix": "",
     "delete_cmd_prefix": "del ",
     "library": "var_list.py",
     "varRefreshCmd": "print(var_dic_list())"
    },
    "r": {
     "delete_cmd_postfix": ") ",
     "delete_cmd_prefix": "rm(",
     "library": "var_list.r",
     "varRefreshCmd": "cat(var_dic_list()) "
    }
   },
   "types_to_exclude": [
    "module",
    "function",
    "builtin_function_or_method",
    "instance",
    "_Feature"
   ],
   "window_display": false
  }
 },
 "nbformat": 4,
 "nbformat_minor": 2
}
