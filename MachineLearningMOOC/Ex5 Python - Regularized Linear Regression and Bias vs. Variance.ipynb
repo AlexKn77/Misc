{
 "cells": [
  {
   "cell_type": "markdown",
   "metadata": {},
   "source": [
    "# Exercise 5 - Python: Regularized Linear Regression and Bias vs. Variance\n",
    "\n",
    "## *Part I*: Regularized Linear Regression\n",
    "\n",
    "Predicting the amount of water flowing out of a dam using the change of water level in a reservoir\n",
    "\n",
    "---\n",
    "\n",
    "Beginning with package imports, data loading, and initial visualization"
   ]
  },
  {
   "cell_type": "code",
   "execution_count": 1,
   "metadata": {
    "ExecuteTime": {
     "end_time": "2017-06-26T21:37:34.200030Z",
     "start_time": "2017-06-26T21:37:31.993962Z"
    },
    "collapsed": true
   },
   "outputs": [],
   "source": [
    "import numpy as np\n",
    "import pandas as pd\n",
    "import altair\n",
    "import scipy.io as sio  # Used to load the Octave/MATLAB *.mat files\n"
   ]
  },
  {
   "cell_type": "code",
   "execution_count": 2,
   "metadata": {
    "ExecuteTime": {
     "end_time": "2017-06-26T21:37:34.235554Z",
     "start_time": "2017-06-26T21:37:34.206034Z"
    }
   },
   "outputs": [],
   "source": [
    "# Reading in the .mat file\n",
    "data = sio.loadmat('ex5/ex5data1.mat')\n",
    "\n",
    "# Unpacking values from the .mat file\n",
    "# Training set for fitting the models\n",
    "X = data['X']\n",
    "y = data['y']\n",
    "\n",
    "# Validation set for determining the regularization parameter\n",
    "Xval = data['Xval']\n",
    "yval = data['yval']\n",
    "\n",
    "# Test set for evaluating performance\n",
    "Xtest = data['Xtest']\n",
    "ytest = data['ytest']"
   ]
  },
  {
   "cell_type": "code",
   "execution_count": 3,
   "metadata": {
    "ExecuteTime": {
     "end_time": "2017-06-26T21:37:34.353139Z",
     "start_time": "2017-06-26T21:37:34.241060Z"
    }
   },
   "outputs": [
    {
     "data": {
      "text/html": [
       "<div class=\"vega-embed\" id=\"5a2d2dac-4332-49dc-b05b-667bd205b77e\"></div>\n",
       "\n",
       "<style>\n",
       ".vega-embed svg, .vega-embed canvas {\n",
       "  border: 1px dotted gray;\n",
       "}\n",
       "\n",
       ".vega-embed .vega-actions a {\n",
       "  margin-right: 6px;\n",
       "}\n",
       "</style>\n"
      ]
     },
     "metadata": {
      "jupyter-vega": "#5a2d2dac-4332-49dc-b05b-667bd205b77e"
     },
     "output_type": "display_data"
    },
    {
     "data": {
      "application/javascript": [
       "var spec = {\"encoding\": {\"y\": {\"type\": \"quantitative\", \"field\": \"y\", \"axis\": {\"title\": \"Water flowing out of the dam (y)\"}}, \"x\": {\"type\": \"quantitative\", \"field\": \"X\", \"axis\": {\"title\": \"Change in water level (X)\"}}}, \"mark\": \"point\", \"config\": {\"cell\": {\"height\": 350, \"width\": 500}}, \"data\": {\"values\": [{\"X\": -15.93675813378541, \"y\": 2.1343105067296686}, {\"X\": -29.152979217238133, \"y\": 1.1732566787564553}, {\"X\": 36.18954862666253, \"y\": 34.35910918053895}, {\"X\": 37.49218733199513, \"y\": 36.83795516371235}, {\"X\": -48.058829452570066, \"y\": 2.808965074479856}, {\"X\": -8.941457938049755, \"y\": 2.121072476666392}, {\"X\": 15.307792889226079, \"y\": 14.710268306562307}, {\"X\": -34.70626581132249, \"y\": 2.614184386432259}, {\"X\": 1.3891543686358903, \"y\": 3.7401716656949393}, {\"X\": -44.38375985168692, \"y\": 3.731691310543067}, {\"X\": 7.013502082404112, \"y\": 7.627658852038035}, {\"X\": 22.762748919711303, \"y\": 22.752428302242212}]}};\n",
       "var selector = \"#5a2d2dac-4332-49dc-b05b-667bd205b77e\";\n",
       "var type = \"vega-lite\";\n",
       "\n",
       "var output_area = this;\n",
       "require(['nbextensions/jupyter-vega/index'], function(vega) {\n",
       "  vega.render(selector, spec, type, output_area);\n",
       "}, function (err) {\n",
       "  if (err.requireType !== 'scripterror') {\n",
       "    throw(err);\n",
       "  }\n",
       "});\n"
      ]
     },
     "metadata": {
      "jupyter-vega": "#5a2d2dac-4332-49dc-b05b-667bd205b77e"
     },
     "output_type": "display_data"
    },
    {
     "data": {
      "image/png": "[encoded data removed]"
     },
     "metadata": {
      "jupyter-vega": "#5a2d2dac-4332-49dc-b05b-667bd205b77e"
     },
     "output_type": "display_data"
    }
   ],
   "source": [
    "initialVis = pd.DataFrame({'X': X.flatten(), 'y': y.flatten()})\n",
    "altair.Chart(initialVis).mark_point().encode(\n",
    "    x=altair.X('X:Q', axis=altair.Axis(title='Change in water level (X)')),\n",
    "    y=altair.Y('y:Q', axis=altair.Axis(title='Water flowing out of the dam (y)')))"
   ]
  },
  {
   "cell_type": "markdown",
   "metadata": {},
   "source": [
    "---\n",
    "\n",
    "##  *Part II:* Bias-Variance"
   ]
  },
  {
   "cell_type": "markdown",
   "metadata": {},
   "source": [
    "---\n",
    "\n",
    "##  *Part III:* Polynomial Regression"
   ]
  },
  {
   "cell_type": "code",
   "execution_count": null,
   "metadata": {
    "collapsed": true
   },
   "outputs": [],
   "source": []
  }
 ],
 "metadata": {
  "kernelspec": {
   "display_name": "Python 3",
   "language": "python",
   "name": "python3"
  },
  "language_info": {
   "codemirror_mode": {
    "name": "ipython",
    "version": 3
   },
   "file_extension": ".py",
   "mimetype": "text/x-python",
   "name": "python",
   "nbconvert_exporter": "python",
   "pygments_lexer": "ipython3",
   "version": "3.5.3"
  },
  "varInspector": {
   "cols": {
    "lenName": 16,
    "lenType": 16,
    "lenVar": 40
   },
   "kernels_config": {
    "python": {
     "delete_cmd_postfix": "",
     "delete_cmd_prefix": "del ",
     "library": "var_list.py",
     "varRefreshCmd": "print(var_dic_list())"
    },
    "r": {
     "delete_cmd_postfix": ") ",
     "delete_cmd_prefix": "rm(",
     "library": "var_list.r",
     "varRefreshCmd": "cat(var_dic_list()) "
    }
   },
   "types_to_exclude": [
    "module",
    "function",
    "builtin_function_or_method",
    "instance",
    "_Feature"
   ],
   "window_display": false
  }
 },
 "nbformat": 4,
 "nbformat_minor": 2
}
