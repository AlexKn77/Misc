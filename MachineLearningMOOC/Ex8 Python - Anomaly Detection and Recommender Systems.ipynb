{
 "cells": [
  {
   "cell_type": "markdown",
   "metadata": {},
   "source": [
    "# Exercise 8 - Python: Anomaly Detection and Recommender Systems\n",
    "\n",
    "<img width=\"350px\" src=\"https://upload.wikimedia.org/wikipedia/commons/0/07/Two-dimensional_Outliers_Example.png\">\n",
    "\n",
    "## *Part I*: Anomaly Detection\n",
    "\n",
    "**[Explain section here]**\n",
    "\n",
    "---\n",
    "\n",
    "Beginning with package imports and data loading"
   ]
  },
  {
   "cell_type": "code",
   "execution_count": 1,
   "metadata": {
    "ExecuteTime": {
     "end_time": "2017-07-29T19:40:28.987087Z",
     "start_time": "2017-07-29T19:40:19.215391Z"
    },
    "collapsed": true
   },
   "outputs": [],
   "source": [
    "import numpy as np\n",
    "import pandas as pd\n",
    "import scipy.io as sio  # Used to load the Octave/MATLAB *.mat files\n",
    "import matplotlib.pyplot as plt\n",
    "import seaborn as sns\n",
    "\n",
    "\n",
    "%matplotlib inline\n",
    "\n",
    "sns.set_context(\"notebook\", font_scale=1.1)\n",
    "sns.set_style(\"ticks\")"
   ]
  },
  {
   "cell_type": "code",
   "execution_count": 10,
   "metadata": {
    "ExecuteTime": {
     "end_time": "2017-07-29T19:42:48.271556Z",
     "start_time": "2017-07-29T19:42:48.262533Z"
    }
   },
   "outputs": [],
   "source": [
    "data = sio.loadmat('ex8/ex8data1.mat')\n",
    "\n",
    "X = data['X']\n",
    "Xval = data['Xval']\n",
    "yval = data['yval']"
   ]
  },
  {
   "cell_type": "code",
   "execution_count": 27,
   "metadata": {
    "ExecuteTime": {
     "end_time": "2017-07-29T19:46:17.376150Z",
     "start_time": "2017-07-29T19:46:17.014890Z"
    }
   },
   "outputs": [
    {
     "data": {
      "image/png": "[encoded data removed]",
      "text/plain": [
       "<matplotlib.figure.Figure at 0x2b8a1a244e0>"
      ]
     },
     "metadata": {},
     "output_type": "display_data"
    }
   ],
   "source": [
    "df = pd.DataFrame(X, columns=['Latency (ms)', 'Throughput (mb/s)'])\n",
    "\n",
    "sns.lmplot(x='Latency (ms)', y='Throughput (mb/s)', data=df,\n",
    "           fit_reg=False, size=7);"
   ]
  },
  {
   "cell_type": "markdown",
   "metadata": {},
   "source": [
    "### Gaussian Distribution\n",
    "\n",
    "Before performing anomaly detecting, we need to fit a model to the data's distribution.\n",
    "\n",
    "Estimate the Gaussian distribution for each of the features $x_i$.  For each feature $i=1 \\dots n$, find parameters $\\mu_i$ and $\\sigma_i^2$ that fit the data in the $i$-th dimension $\\{x_i^{(1)}, \\dots, x_i^{(m)}\\}$ (the $i$-th dimension of each example)\n",
    "\n",
    "The Gaussian distribution is given by\n",
    "$$p(x; \\mu, \\sigma^2) = \\frac{1}{\\sqrt{2 \\pi \\sigma^2}} e ^ {-\\frac{(x - \\mu)^2}{2 \\sigma^2}}\n",
    "\\\\\n",
    "\\mu: \\text{Mean}\n",
    "\\\\\n",
    "\\sigma^2: \\text{Controls the variance}$$"
   ]
  },
  {
   "cell_type": "markdown",
   "metadata": {},
   "source": [
    "### Estimating Gaussian parameters\n",
    "\n",
    "In order to estimate the parameters $(\\mu_i, \\sigma_i^2)$, of the $i$-th feature, we will use the following equations for the mean and variance:\n",
    "\n",
    "$$\\text{Mean: } \\mu_i = \\frac{1}{m} \\sum_{j=1}^m x_i^{(j)}\n",
    "\\\\\n",
    "\\text{Variance: } \\sigma_i^2 = \\frac{1}{m} \\sum_{j=1}^m (x_i^{(j)} - \\mu_i)^2$$"
   ]
  },
  {
   "cell_type": "code",
   "execution_count": 38,
   "metadata": {
    "ExecuteTime": {
     "end_time": "2017-07-29T19:59:29.154451Z",
     "start_time": "2017-07-29T19:59:29.134439Z"
    }
   },
   "outputs": [
    {
     "name": "stdout",
     "output_type": "stream",
     "text": [
      "Mean:\n",
      " [ 14.11222578  14.99771051] \n",
      "Variance:\n",
      " [ 1.83263141  1.70974533]\n"
     ]
    }
   ],
   "source": [
    "def estimate_gaussian(X):\n",
    "    \"\"\"\n",
    "    Takes the matrix X as an input and outputs:\n",
    "    \n",
    "    mu: n-dimension vector that holds the mean of all the n features\n",
    "    sigma2: n-dimension vector that holds the variance of all features\n",
    "    \"\"\"\n",
    "    mu = np.mean(X, axis=0)\n",
    "    sigma2 = np.var(X, axis=0)\n",
    "    \n",
    "    return mu, sigma2\n",
    "\n",
    "\n",
    "mu, sigma2 = estimate_gaussian(X)\n",
    "\n",
    "print('Mean:\\n', mu,\n",
    "      '\\nVariance:\\n', sigma2)"
   ]
  },
  {
   "cell_type": "code",
   "execution_count": 41,
   "metadata": {
    "ExecuteTime": {
     "end_time": "2017-07-29T20:00:49.811706Z",
     "start_time": "2017-07-29T20:00:49.805718Z"
    }
   },
   "outputs": [],
   "source": [
    "# ?plt.contour\n",
    "# plt.contour(mu, sigma2)"
   ]
  },
  {
   "cell_type": "markdown",
   "metadata": {},
   "source": [
    "### Selecting the threshold $\\epsilon$\n",
    "\n",
    "With the Gaussian parameters, we can see which points are more or less likely to be outliers according to their probabilities in the distribution.  We can determine the threshold for outliers with the cross validation set.\n",
    "\n",
    "We'll do this by optimizing the $F_1$ score on the cross validation set.  As a reminder, the $F_1$ score is a mix of precision and recall:\n",
    "\n",
    "$$F_1 = \\frac{2 \\cdot precision \\cdot recall}{precision + recall}$$\n",
    "\n",
    "and precision and recall are calculated as follows:\n",
    "\n",
    "$$precision = \\frac{True Positive}{True Positive + False Positive}\n",
    "\\\\\n",
    "recall = \\frac{True Positive}{True Positive + False Negative}$$"
   ]
  },
  {
   "cell_type": "code",
   "execution_count": null,
   "metadata": {
    "collapsed": true
   },
   "outputs": [],
   "source": []
  },
  {
   "cell_type": "markdown",
   "metadata": {},
   "source": [
    "### High dimensional dataset"
   ]
  },
  {
   "cell_type": "code",
   "execution_count": null,
   "metadata": {
    "collapsed": true
   },
   "outputs": [],
   "source": []
  },
  {
   "cell_type": "markdown",
   "metadata": {},
   "source": [
    "---\n",
    "\n",
    "## *Part II*: Recommender Systems\n",
    "\n",
    "**[Explain section here]**"
   ]
  },
  {
   "cell_type": "markdown",
   "metadata": {},
   "source": [
    "### Moving ratings dataset\n",
    "\n",
    "**[Insert joke about Movielens]**"
   ]
  },
  {
   "cell_type": "code",
   "execution_count": null,
   "metadata": {
    "collapsed": true
   },
   "outputs": [],
   "source": []
  },
  {
   "cell_type": "markdown",
   "metadata": {},
   "source": [
    "### Collaborative Filtering"
   ]
  },
  {
   "cell_type": "code",
   "execution_count": null,
   "metadata": {
    "collapsed": true
   },
   "outputs": [],
   "source": []
  },
  {
   "cell_type": "markdown",
   "metadata": {},
   "source": [
    "#### Collaborative Filtering Cost Function"
   ]
  },
  {
   "cell_type": "code",
   "execution_count": null,
   "metadata": {
    "collapsed": true
   },
   "outputs": [],
   "source": []
  },
  {
   "cell_type": "markdown",
   "metadata": {},
   "source": [
    "#### Collaborative Filtering Gradient"
   ]
  },
  {
   "cell_type": "code",
   "execution_count": null,
   "metadata": {
    "collapsed": true
   },
   "outputs": [],
   "source": []
  },
  {
   "cell_type": "markdown",
   "metadata": {},
   "source": [
    "#### Regularized Cost Function"
   ]
  },
  {
   "cell_type": "code",
   "execution_count": null,
   "metadata": {
    "collapsed": true
   },
   "outputs": [],
   "source": []
  },
  {
   "cell_type": "markdown",
   "metadata": {},
   "source": [
    "#### Regularized Gradient"
   ]
  },
  {
   "cell_type": "code",
   "execution_count": null,
   "metadata": {
    "collapsed": true
   },
   "outputs": [],
   "source": []
  },
  {
   "cell_type": "markdown",
   "metadata": {},
   "source": [
    "### Learning Movie Recommendations"
   ]
  },
  {
   "cell_type": "code",
   "execution_count": null,
   "metadata": {
    "collapsed": true
   },
   "outputs": [],
   "source": []
  }
 ],
 "metadata": {
  "kernelspec": {
   "display_name": "Python [default]",
   "language": "python",
   "name": "python3"
  },
  "language_info": {
   "codemirror_mode": {
    "name": "ipython",
    "version": 3
   },
   "file_extension": ".py",
   "mimetype": "text/x-python",
   "name": "python",
   "nbconvert_exporter": "python",
   "pygments_lexer": "ipython3",
   "version": "3.5.3"
  },
  "varInspector": {
   "cols": {
    "lenName": 16,
    "lenType": 16,
    "lenVar": 40
   },
   "kernels_config": {
    "python": {
     "delete_cmd_postfix": "",
     "delete_cmd_prefix": "del ",
     "library": "var_list.py",
     "varRefreshCmd": "print(var_dic_list())"
    },
    "r": {
     "delete_cmd_postfix": ") ",
     "delete_cmd_prefix": "rm(",
     "library": "var_list.r",
     "varRefreshCmd": "cat(var_dic_list()) "
    }
   },
   "types_to_exclude": [
    "module",
    "function",
    "builtin_function_or_method",
    "instance",
    "_Feature"
   ],
   "window_display": false
  }
 },
 "nbformat": 4,
 "nbformat_minor": 2
}
