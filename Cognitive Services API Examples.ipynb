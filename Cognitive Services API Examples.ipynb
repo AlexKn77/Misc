{
 "cells": [
  {
   "cell_type": "markdown",
   "metadata": {},
   "source": [
    "# Microsoft Cognitive Services Examples\n",
    "\n",
    "- [Overview](https://azure.microsoft.com/en-us/services/cognitive-services/?v=17.29)\n",
    "- [Documentation & API Reference](https://docs.microsoft.com/en-us/azure/cognitive-services/)"
   ]
  },
  {
   "cell_type": "code",
   "execution_count": 8,
   "metadata": {
    "ExecuteTime": {
     "end_time": "2017-09-20T19:13:46.806295Z",
     "start_time": "2017-09-20T19:13:46.795799Z"
    }
   },
   "outputs": [],
   "source": [
    "import sys  # For checking Python version\n",
    "import base64\n",
    "import json\n",
    "import matplotlib.pyplot as plt\n",
    "import matplotlib.image as mpimg  # Displays images\n",
    "\n",
    "# Imports additional libraries based on the Python version\n",
    "if sys.version_info[0] < 3:\n",
    "    import httplib, urllib\n",
    "else:\n",
    "    import http.client, urllib.request, urllib.parse, urllib.error\n",
    "    \n",
    "# Displays matplotlib plots in the notebook\n",
    "%matplotlib inline\n",
    "\n",
    "# The region needs to match the region of the subscription\n",
    "region = 'westcentralus.api.cognitive.microsoft.com'"
   ]
  },
  {
   "cell_type": "markdown",
   "metadata": {},
   "source": [
    "---\n",
    "\n",
    "## Vision\n",
    "\n",
    "- **Computer Vision:**  Add Description\n",
    "\n",
    "- **Face:**  Add Description\n",
    "\n",
    "- **Emotion:**  Add Description\n",
    "\n",
    "For these examples, we'll use my Github profile picture:\n",
    "\n",
    "<img src=\"https://avatars3.githubusercontent.com/u/13501239?v=4&s=460\" width=300>"
   ]
  },
  {
   "cell_type": "markdown",
   "metadata": {},
   "source": [
    "### Computer Vision\n",
    "\n",
    "- [Documentation](https://docs.microsoft.com/en-us/azure/cognitive-services/computer-vision/home)\n",
    "- [API Reference](https://westus.dev.cognitive.microsoft.com/docs/services/56f91f2d778daf23d8ec6739/operations/56f91f2e778daf14a499e1fa)\n",
    "- [Examples](https://docs.microsoft.com/en-us/azure/cognitive-services/computer-vision/quickstarts/python)"
   ]
  },
  {
   "cell_type": "code",
   "execution_count": 7,
   "metadata": {
    "ExecuteTime": {
     "end_time": "2017-09-20T19:12:51.549109Z",
     "start_time": "2017-09-20T19:12:49.540069Z"
    }
   },
   "outputs": [
    {
     "name": "stdout",
     "output_type": "stream",
     "text": [
      "Response:\n",
      "{\n",
      "  \"categories\": [\n",
      "    {\n",
      "      \"name\": \"people_\",\n",
      "      \"score\": 0.55859375\n",
      "    }\n",
      "  ],\n",
      "  \"color\": {\n",
      "    \"accentColor\": \"865A45\",\n",
      "    \"dominantColorBackground\": \"Grey\",\n",
      "    \"dominantColorForeground\": \"White\",\n",
      "    \"dominantColors\": [\n",
      "      \"Grey\"\n",
      "    ],\n",
      "    \"isBWImg\": false\n",
      "  },\n",
      "  \"description\": {\n",
      "    \"captions\": [\n",
      "      {\n",
      "        \"confidence\": 0.9006892703704996,\n",
      "        \"text\": \"a man standing in front of a tree\"\n",
      "      }\n",
      "    ],\n",
      "    \"tags\": [\n",
      "      \"person\",\n",
      "      \"outdoor\",\n",
      "      \"man\",\n",
      "      \"standing\",\n",
      "      \"grass\",\n",
      "      \"tree\",\n",
      "      \"wood\",\n",
      "      \"park\",\n",
      "      \"front\",\n",
      "      \"shirt\",\n",
      "      \"walking\",\n",
      "      \"young\",\n",
      "      \"holding\",\n",
      "      \"bench\",\n",
      "      \"board\",\n",
      "      \"riding\",\n",
      "      \"white\"\n",
      "    ]\n",
      "  },\n",
      "  \"faces\": [\n",
      "    {\n",
      "      \"age\": 34,\n",
      "      \"faceRectangle\": {\n",
      "        \"height\": 50,\n",
      "        \"left\": 177,\n",
      "        \"top\": 170,\n",
      "        \"width\": 50\n",
      "      },\n",
      "      \"gender\": \"Male\"\n",
      "    }\n",
      "  ],\n",
      "  \"metadata\": {\n",
      "    \"format\": \"Png\",\n",
      "    \"height\": 400,\n",
      "    \"width\": 400\n",
      "  },\n",
      "  \"requestId\": \"c22ffe98-63ac-4d77-9422-6745fd283281\"\n",
      "}\n"
     ]
    }
   ],
   "source": [
    "# Reading in Azure API key from a separate file\n",
    "cvKey = open('cvKey.txt', 'r').read()\n",
    "\n",
    "# Preparing the API request with request headers\n",
    "headers = {\n",
    "    'Content-Type': 'application/json',\n",
    "    'Ocp-Apim-Subscription-Key': cvKey,\n",
    "}\n",
    "\n",
    "# Optional parameters to return\n",
    "# Using if/else to handle different versions of Python\n",
    "if sys.version_info[0] < 3:\n",
    "    params = urllib.urlencode({\n",
    "        # Request parameters - All of which are optional\n",
    "        'visualFeatures': 'Categories,Faces,Description,Color',\n",
    "        'language': 'en',\n",
    "    })\n",
    "else:\n",
    "\n",
    "    params = urllib.parse.urlencode({\n",
    "        'visualFeatures': 'Categories,Faces,Description,Color',\n",
    "        'language': 'en',\n",
    "    })\n",
    "\n",
    "# Image to be analyzed\n",
    "# Note the string/JSON format\n",
    "body = \"{'url':'https://avatars1.githubusercontent.com/u/\\\n",
    "13501239?v=4&s=400&u=c5148a74403cf152c3d8fbbac7567466f2105649.png'}\"\n",
    "\n",
    "# Executing the REST API call to get the response\n",
    "try:\n",
    "    # Handling different versions of Python\n",
    "    if sys.version_info[0] < 3:\n",
    "        conn = httplib.HTTPSConnection(region)\n",
    "    else:\n",
    "        conn = http.client.HTTPSConnection(region)\n",
    "        \n",
    "    conn.request(\"POST\", \"/vision/v1.0/analyze?%s\" % params, body, headers)\n",
    "    response = conn.getresponse()\n",
    "    data = response.read()\n",
    "\n",
    "    # 'data' contains the JSON data. The following formats the JSON data for display.\n",
    "    parsed = json.loads(data)\n",
    "    print(\"Response:\")\n",
    "    print(json.dumps(parsed, sort_keys=True, indent=2))\n",
    "    conn.close()\n",
    "\n",
    "except Exception as e:\n",
    "    print('Error:')\n",
    "    print(e)"
   ]
  },
  {
   "cell_type": "markdown",
   "metadata": {},
   "source": [
    "### Faces\n",
    "\n",
    "- [Documentation]()\n",
    "- [API Reference](https://westus.dev.cognitive.microsoft.com/docs/services/56f91f2d778daf23d8ec6739/operations/56f91f2e778daf14a499e1fa)\n",
    "- [Examples](https://docs.microsoft.com/en-us/azure/cognitive-services/computer-vision/quickstarts/python)"
   ]
  },
  {
   "cell_type": "code",
   "execution_count": 3,
   "metadata": {
    "ExecuteTime": {
     "end_time": "2017-09-20T19:08:42.652242Z",
     "start_time": "2017-09-20T19:08:42.645746Z"
    }
   },
   "outputs": [],
   "source": [
    "# Reading in Azure API key from a separate file\n",
    "faceKey = open('faceKey.txt', 'r').read()"
   ]
  },
  {
   "cell_type": "code",
   "execution_count": 4,
   "metadata": {
    "ExecuteTime": {
     "end_time": "2017-09-20T19:08:42.690745Z",
     "start_time": "2017-09-20T19:08:42.655243Z"
    },
    "collapsed": true
   },
   "outputs": [],
   "source": [
    "# Reading in Azure API key from a separate file\n",
    "emotionKey = open('emotionKey.txt', 'r').read()"
   ]
  },
  {
   "cell_type": "code",
   "execution_count": null,
   "metadata": {
    "ExecuteTime": {
     "end_time": "2017-09-20T19:08:42.720744Z",
     "start_time": "2017-09-20T19:08:38.663Z"
    },
    "collapsed": true
   },
   "outputs": [],
   "source": [
    "# Reading in Azure API key from a separate file\n",
    "textKey = open('textKey.txt', 'r').read()"
   ]
  }
 ],
 "metadata": {
  "kernelspec": {
   "display_name": "Python 3",
   "language": "python",
   "name": "python3"
  },
  "language_info": {
   "codemirror_mode": {
    "name": "ipython",
    "version": 3
   },
   "file_extension": ".py",
   "mimetype": "text/x-python",
   "name": "python",
   "nbconvert_exporter": "python",
   "pygments_lexer": "ipython3",
   "version": "3.6.1"
  },
  "varInspector": {
   "cols": {
    "lenName": 16,
    "lenType": 16,
    "lenVar": 40
   },
   "kernels_config": {
    "python": {
     "delete_cmd_postfix": "",
     "delete_cmd_prefix": "del ",
     "library": "var_list.py",
     "varRefreshCmd": "print(var_dic_list())"
    },
    "r": {
     "delete_cmd_postfix": ") ",
     "delete_cmd_prefix": "rm(",
     "library": "var_list.r",
     "varRefreshCmd": "cat(var_dic_list()) "
    }
   },
   "types_to_exclude": [
    "module",
    "function",
    "builtin_function_or_method",
    "instance",
    "_Feature"
   ],
   "window_display": false
  }
 },
 "nbformat": 4,
 "nbformat_minor": 2
}
