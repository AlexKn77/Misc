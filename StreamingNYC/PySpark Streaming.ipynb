{
 "cells": [
  {
   "cell_type": "markdown",
   "metadata": {},
   "source": [
    "Data Stream: http://207.251.86.229/nyc-links-cams/LinkSpeedQuery.txt\n",
    "\n",
    "Documentation: http://a841-dotweb01.nyc.gov/datafeeds/TrafficSpeed/metadata_trafficspeeds.pdf\n",
    "\n",
    "NYC Data Feed Website: http://www.nyc.gov/html/dot/html/about/datafeeds.shtml"
   ]
  },
  {
   "cell_type": "code",
   "execution_count": 1,
   "metadata": {
    "collapsed": false
   },
   "outputs": [],
   "source": [
    "# Importing Library and setting environment path\n",
    "import os\n",
    "import sys\n",
    "# set the path \n",
    "\n",
    "sparkPath = \"C:/Users/JeffM/Documents/Spark/spark-2.0.2-bin-hadoop2.7\"\n",
    "\n",
    "os.environ['SPARK_HOME'] = sparkPath\n",
    "sys.path.append(sparkPath + '/bin')\n",
    "sys.path.append(sparkPath + '/python')\n",
    "sys.path.append(sparkPath + '/python/pyspark' \"C:/Spark/python/pyspark\")\n",
    "sys.path.append(sparkPath + '/python/pyspark/lib')\n",
    "sys.path.append(sparkPath + '/python/pyspark/lib/pyspark.zip')\n",
    "sys.path.append(sparkPath + '/python/pyspark/lib/py4j-0.10.3-src.zip')\n",
    "sys.path.append(\"C:/Program Files/Java/jre1.8.0_111/bin\")\n",
    "\n",
    "import pyspark\n",
    "from pyspark.streaming import StreamingContext\n",
    "\n",
    "sc = pyspark.SparkContext(\"local[2]\", \"trafficData\")\n",
    "ssc = StreamingContext(sc, 10)  # Seconds per micro-batch\n",
    "\n",
    "streamPath = 'http://207.251.86.229/nyc-links-cams/LinkSpeedQuery.txt'\n",
    "streamFilePath = \"file:/C:/Users/JeffM/Documents/Grad School/Harvesting Big Data/Project/Data/\""
   ]
  },
  {
   "cell_type": "code",
   "execution_count": null,
   "metadata": {
    "collapsed": false
   },
   "outputs": [
    {
     "name": "stdout",
     "output_type": "stream",
     "text": [
      "-------------------------------------------\n",
      "Time: 2016-12-11 11:25:00\n",
      "-------------------------------------------\n",
      "Id,Speed,TravelTime,Status,DataAsOf,linkId,linkPoints,EncodedPolyLine,EncodedPolyLineLvls,Owner,Transcom_id,Borough,linkName\n",
      "1,18.02,300,0,12/11/2016 12:26:30,4616337,40.74047;-74.009251 40.74137;-74.00893 40.7431706;-74.008591 40.7462304;-74.00797 40.74812;-74.007651 40.748701;-74.007691 40.74971;-74.00819 40.75048;-74.008321 40.751611;-74.00789 40.7537504;-74.00704 40.75721;-74.00463 40.76003;-74.002631 40.7607405;-7,}btwFx|ubMsD_AgJcAcR{ByJ_AsBFiEbByCXaFuAkLiDsTaNsPoKmCmB,BBBBBBBBBBBBB,NYC_DOT_LIC,4616337,Manhattan,11th ave n ganservoort - 12th ave @ 40th st\n",
      "2,19.88,165,0,12/11/2016 12:26:30,4616325,40.73933;-74.01004 40.73895;-74.01012 40.7376;-74.010021 40.7346;-74.01026 40.72912;-74.010781 40.72619;-74.011131,y{swFvavbMjANlGSvQn@fa@fBhQdA,BBBBBB,NYC_DOT_LIC,4616325,Manhattan,11th ave s ganservoort - west st @ spring st\n",
      "3,14.91,410,0,12/11/2016 12:26:30,4616324,40.76375;-73.999191 40.763521;-73.99935 40.7620804;-74.00136 40.75985;-74.00306 40.75775;-74.00457 40.75775;-74.00457 40.75576;-74.00601 40.7544904;-74.006921 40.7538404;-74.007241 40.75415;-74.00712 40.7502804;-74.00848 40.74833;-74.007771 40.74114;-74.0,mtxwF|}sbMl@^~GpK|LrIbLlH??lK~G|FtD`C~@}@WdWnGdKmC|k@~G`CRzElC,BBBBBBBBBBBBBBB,NYC_DOT_LIC,4616324,Manhattan,12th ave @ 45th - 11 ave ganservoort st\n",
      "4,11.18,276,0,12/11/2016 12:26:30,4616338,40.7607;-74.002141 40.76212;-74.91 40.76335;-73.999271 40.76491;-73.99805 40.7667406;-73.996681 40.7693;-73.994801 40.7699605;-73.994521 40.7710104;-73.99438 40.7715106;-73.9942,kaxwFjptbM{GuFuFgIwHsFmJqG_OwJcCw@qE[cBc@,BBBBBBBBB,NYC_DOT_LIC,4616338,Manhattan,12th Ave N 40th - 57th St\n",
      "106,13.05,176,0,12/11/2016 12:26:30,4616323,40.77158;-73.994441 40.7713004;-73.99455 40.77085;-73.99467 40.76997;-73.99481 40.7701604;-73.99477 40.76986;-73.994831 40.7695406;-73.99496 40.769341;-73.99508 40.768311;-73.9958 40.768311;-73.9958 40.76623;-73.99733 40.76623;-73.99733 40.76547;-73.9979 ,kezwFf`sbMv@TxAVnDZe@Gz@J~@Xf@VlEnC??~KpH??vCpB??zEbD??dC`B,BBBBBBBBBBBBBBBBB,NYC_DOT_LIC,4616323,Manhattan,12th Ave S 57th St - 45th St\n",
      "107,49.71,217,0,12/3/2014 12:26:11,4616279,40.64289;-74.21316 40.64275;-74.21222 40.64281;-74.20994 40.64262;-74.20876 40.64133;-74.20626 40.6402;-74.20438 40.63977;-74.20367 40.63921;-74.20284 40.63785;-74.2008 40.63727;-74.19989 40.63632;-74.19808 40.63511;-74.19581 40.63381;-74.19336 40.63086;-,aaawFdw}cMZyDKgMd@mF`GsN`FwJtAkCnBgDnGwKrBuD|DgJpFgMbGiNlQoa@hCgGnDwHbHeOpH}OzI{KnHmIzCaFpCaLlBsV,BBBBBBBBBBBBBBBBBBBBBBB,NYC_DOT_LIC,4616279,Staten Island,278 E BRUNSWICK AVENUE - SIE E SOUTH AVENUE\n",
      "108,37.9,315,0,12/3/2014 12:20:11,4616280,40.62464;-74.17757 40.62345;-74.17679 40.62242;-74.17657 40.62144;-74.17652 40.62017;-74.17683 40.61893;-74.17729 40.61786;-74.17757\n",
      " 40.62464;-74.17757 40.62345;-74.17679 40.62242;-74.17657 40.62144;-74.17652 40.62017;-74.17683 40.61893;-74.17729 40.6178,_o}vFxxvcMlF}ClEk@bEI|F|@vF|AtEv@jJ`Cfr@j]zPbKzPvQ,BBBBBBBBBBB,NYC_DOT_LIC,4616280,Staten Island,278 E BRUNSWICK AVENUE - WSE S SOUTH AVENUE\n",
      "110,8.08,1013,0,11/2/2016 12:30:30,4616281,40.5256;-74.23039 40.52551;-74.23214 40.52539;-74.23344 40.52526;-74.23765 40.52493;-74.24395 40.5247;-74.24803 40.52455;-74.25073 40.5243;-74.25314 40.52419;-74.25536 40.52419;-74.25623 40.52458;-74.26033 40.52477;-74.2621 40.52528;-74.26624 40.52548;-74,_djvF|badMP|IV`GXhY`Ajf@l@pX\\zOp@`NTxL?nDmApXe@bJeBxXg@jFsDtO,BBBBBBBBBBBBBBB,NYC_DOT_LIC,4616281,Staten Island,440 N FRANCIS STREET - WSE N TYRELLAN AVE\n",
      "...\n",
      "\n",
      "-------------------------------------------\n",
      "Time: 2016-12-11 11:25:10\n",
      "-------------------------------------------\n",
      "Id,Speed,TravelTime,Status,DataAsOf,linkId,linkPoints,EncodedPolyLine,EncodedPolyLineLvls,Owner,Transcom_id,Borough,linkName\n",
      "1,18.02,300,0,12/11/2016 12:26:30,4616337,40.74047;-74.009251 40.74137;-74.00893 40.7431706;-74.008591 40.7462304;-74.00797 40.74812;-74.007651 40.748701;-74.007691 40.74971;-74.00819 40.75048;-74.008321 40.751611;-74.00789 40.7537504;-74.00704 40.75721;-74.00463 40.76003;-74.002631 40.7607405;-7,}btwFx|ubMsD_AgJcAcR{ByJ_AsBFiEbByCXaFuAkLiDsTaNsPoKmCmB,BBBBBBBBBBBBB,NYC_DOT_LIC,4616337,Manhattan,11th ave n ganservoort - 12th ave @ 40th st\n",
      "2,19.88,165,0,12/11/2016 12:26:30,4616325,40.73933;-74.01004 40.73895;-74.01012 40.7376;-74.010021 40.7346;-74.01026 40.72912;-74.010781 40.72619;-74.011131,y{swFvavbMjANlGSvQn@fa@fBhQdA,BBBBBB,NYC_DOT_LIC,4616325,Manhattan,11th ave s ganservoort - west st @ spring st\n",
      "3,14.91,410,0,12/11/2016 12:26:30,4616324,40.76375;-73.999191 40.763521;-73.99935 40.7620804;-74.00136 40.75985;-74.00306 40.75775;-74.00457 40.75775;-74.00457 40.75576;-74.00601 40.7544904;-74.006921 40.7538404;-74.007241 40.75415;-74.00712 40.7502804;-74.00848 40.74833;-74.007771 40.74114;-74.0,mtxwF|}sbMl@^~GpK|LrIbLlH??lK~G|FtD`C~@}@WdWnGdKmC|k@~G`CRzElC,BBBBBBBBBBBBBBB,NYC_DOT_LIC,4616324,Manhattan,12th ave @ 45th - 11 ave ganservoort st\n",
      "4,11.18,276,0,12/11/2016 12:26:30,4616338,40.7607;-74.002141 40.76212;-74.91 40.76335;-73.999271 40.76491;-73.99805 40.7667406;-73.996681 40.7693;-73.994801 40.7699605;-73.994521 40.7710104;-73.99438 40.7715106;-73.9942,kaxwFjptbM{GuFuFgIwHsFmJqG_OwJcCw@qE[cBc@,BBBBBBBBB,NYC_DOT_LIC,4616338,Manhattan,12th Ave N 40th - 57th St\n",
      "106,13.05,176,0,12/11/2016 12:26:30,4616323,40.77158;-73.994441 40.7713004;-73.99455 40.77085;-73.99467 40.76997;-73.99481 40.7701604;-73.99477 40.76986;-73.994831 40.7695406;-73.99496 40.769341;-73.99508 40.768311;-73.9958 40.768311;-73.9958 40.76623;-73.99733 40.76623;-73.99733 40.76547;-73.9979 ,kezwFf`sbMv@TxAVnDZe@Gz@J~@Xf@VlEnC??~KpH??vCpB??zEbD??dC`B,BBBBBBBBBBBBBBBBB,NYC_DOT_LIC,4616323,Manhattan,12th Ave S 57th St - 45th St\n",
      "107,49.71,217,0,12/3/2014 12:26:11,4616279,40.64289;-74.21316 40.64275;-74.21222 40.64281;-74.20994 40.64262;-74.20876 40.64133;-74.20626 40.6402;-74.20438 40.63977;-74.20367 40.63921;-74.20284 40.63785;-74.2008 40.63727;-74.19989 40.63632;-74.19808 40.63511;-74.19581 40.63381;-74.19336 40.63086;-,aaawFdw}cMZyDKgMd@mF`GsN`FwJtAkCnBgDnGwKrBuD|DgJpFgMbGiNlQoa@hCgGnDwHbHeOpH}OzI{KnHmIzCaFpCaLlBsV,BBBBBBBBBBBBBBBBBBBBBBB,NYC_DOT_LIC,4616279,Staten Island,278 E BRUNSWICK AVENUE - SIE E SOUTH AVENUE\n",
      "108,37.9,315,0,12/3/2014 12:20:11,4616280,40.62464;-74.17757 40.62345;-74.17679 40.62242;-74.17657 40.62144;-74.17652 40.62017;-74.17683 40.61893;-74.17729 40.61786;-74.17757\n",
      " 40.62464;-74.17757 40.62345;-74.17679 40.62242;-74.17657 40.62144;-74.17652 40.62017;-74.17683 40.61893;-74.17729 40.6178,_o}vFxxvcMlF}ClEk@bEI|F|@vF|AtEv@jJ`Cfr@j]zPbKzPvQ,BBBBBBBBBBB,NYC_DOT_LIC,4616280,Staten Island,278 E BRUNSWICK AVENUE - WSE S SOUTH AVENUE\n",
      "110,8.08,1013,0,11/2/2016 12:30:30,4616281,40.5256;-74.23039 40.52551;-74.23214 40.52539;-74.23344 40.52526;-74.23765 40.52493;-74.24395 40.5247;-74.24803 40.52455;-74.25073 40.5243;-74.25314 40.52419;-74.25536 40.52419;-74.25623 40.52458;-74.26033 40.52477;-74.2621 40.52528;-74.26624 40.52548;-74,_djvF|badMP|IV`GXhY`Ajf@l@pX\\zOp@`NTxL?nDmApXe@bJeBxXg@jFsDtO,BBBBBBBBBBBBBBB,NYC_DOT_LIC,4616281,Staten Island,440 N FRANCIS STREET - WSE N TYRELLAN AVE\n",
      "...\n",
      "\n",
      "-------------------------------------------\n",
      "Time: 2016-12-11 11:25:20\n",
      "-------------------------------------------\n",
      "Id,Speed,TravelTime,Status,DataAsOf,linkId,linkPoints,EncodedPolyLine,EncodedPolyLineLvls,Owner,Transcom_id,Borough,linkName\n",
      "1,18.02,300,0,12/11/2016 12:26:30,4616337,40.74047;-74.009251 40.74137;-74.00893 40.7431706;-74.008591 40.7462304;-74.00797 40.74812;-74.007651 40.748701;-74.007691 40.74971;-74.00819 40.75048;-74.008321 40.751611;-74.00789 40.7537504;-74.00704 40.75721;-74.00463 40.76003;-74.002631 40.7607405;-7,}btwFx|ubMsD_AgJcAcR{ByJ_AsBFiEbByCXaFuAkLiDsTaNsPoKmCmB,BBBBBBBBBBBBB,NYC_DOT_LIC,4616337,Manhattan,11th ave n ganservoort - 12th ave @ 40th st\n",
      "2,19.88,165,0,12/11/2016 12:26:30,4616325,40.73933;-74.01004 40.73895;-74.01012 40.7376;-74.010021 40.7346;-74.01026 40.72912;-74.010781 40.72619;-74.011131,y{swFvavbMjANlGSvQn@fa@fBhQdA,BBBBBB,NYC_DOT_LIC,4616325,Manhattan,11th ave s ganservoort - west st @ spring st\n",
      "3,14.91,410,0,12/11/2016 12:26:30,4616324,40.76375;-73.999191 40.763521;-73.99935 40.7620804;-74.00136 40.75985;-74.00306 40.75775;-74.00457 40.75775;-74.00457 40.75576;-74.00601 40.7544904;-74.006921 40.7538404;-74.007241 40.75415;-74.00712 40.7502804;-74.00848 40.74833;-74.007771 40.74114;-74.0,mtxwF|}sbMl@^~GpK|LrIbLlH??lK~G|FtD`C~@}@WdWnGdKmC|k@~G`CRzElC,BBBBBBBBBBBBBBB,NYC_DOT_LIC,4616324,Manhattan,12th ave @ 45th - 11 ave ganservoort st\n",
      "4,11.18,276,0,12/11/2016 12:26:30,4616338,40.7607;-74.002141 40.76212;-74.91 40.76335;-73.999271 40.76491;-73.99805 40.7667406;-73.996681 40.7693;-73.994801 40.7699605;-73.994521 40.7710104;-73.99438 40.7715106;-73.9942,kaxwFjptbM{GuFuFgIwHsFmJqG_OwJcCw@qE[cBc@,BBBBBBBBB,NYC_DOT_LIC,4616338,Manhattan,12th Ave N 40th - 57th St\n",
      "106,13.05,176,0,12/11/2016 12:26:30,4616323,40.77158;-73.994441 40.7713004;-73.99455 40.77085;-73.99467 40.76997;-73.99481 40.7701604;-73.99477 40.76986;-73.994831 40.7695406;-73.99496 40.769341;-73.99508 40.768311;-73.9958 40.768311;-73.9958 40.76623;-73.99733 40.76623;-73.99733 40.76547;-73.9979 ,kezwFf`sbMv@TxAVnDZe@Gz@J~@Xf@VlEnC??~KpH??vCpB??zEbD??dC`B,BBBBBBBBBBBBBBBBB,NYC_DOT_LIC,4616323,Manhattan,12th Ave S 57th St - 45th St\n",
      "107,49.71,217,0,12/3/2014 12:26:11,4616279,40.64289;-74.21316 40.64275;-74.21222 40.64281;-74.20994 40.64262;-74.20876 40.64133;-74.20626 40.6402;-74.20438 40.63977;-74.20367 40.63921;-74.20284 40.63785;-74.2008 40.63727;-74.19989 40.63632;-74.19808 40.63511;-74.19581 40.63381;-74.19336 40.63086;-,aaawFdw}cMZyDKgMd@mF`GsN`FwJtAkCnBgDnGwKrBuD|DgJpFgMbGiNlQoa@hCgGnDwHbHeOpH}OzI{KnHmIzCaFpCaLlBsV,BBBBBBBBBBBBBBBBBBBBBBB,NYC_DOT_LIC,4616279,Staten Island,278 E BRUNSWICK AVENUE - SIE E SOUTH AVENUE\n",
      "108,37.9,315,0,12/3/2014 12:20:11,4616280,40.62464;-74.17757 40.62345;-74.17679 40.62242;-74.17657 40.62144;-74.17652 40.62017;-74.17683 40.61893;-74.17729 40.61786;-74.17757\n",
      " 40.62464;-74.17757 40.62345;-74.17679 40.62242;-74.17657 40.62144;-74.17652 40.62017;-74.17683 40.61893;-74.17729 40.6178,_o}vFxxvcMlF}ClEk@bEI|F|@vF|AtEv@jJ`Cfr@j]zPbKzPvQ,BBBBBBBBBBB,NYC_DOT_LIC,4616280,Staten Island,278 E BRUNSWICK AVENUE - WSE S SOUTH AVENUE\n",
      "110,8.08,1013,0,11/2/2016 12:30:30,4616281,40.5256;-74.23039 40.52551;-74.23214 40.52539;-74.23344 40.52526;-74.23765 40.52493;-74.24395 40.5247;-74.24803 40.52455;-74.25073 40.5243;-74.25314 40.52419;-74.25536 40.52419;-74.25623 40.52458;-74.26033 40.52477;-74.2621 40.52528;-74.26624 40.52548;-74,_djvF|badMP|IV`GXhY`Ajf@l@pX\\zOp@`NTxL?nDmApXe@bJeBxXg@jFsDtO,BBBBBBBBBBBBBBB,NYC_DOT_LIC,4616281,Staten Island,440 N FRANCIS STREET - WSE N TYRELLAN AVE\n",
      "...\n",
      "\n"
     ]
    }
   ],
   "source": [
    "lines = ssc.textFileStream(streamFilePath)\n",
    "lines.pprint()\n",
    "ssc.start()\n",
    "ssc.awaitTermination()\n",
    "ssc.stop()"
   ]
  }
 ],
 "metadata": {
  "anaconda-cloud": {},
  "kernelspec": {
   "display_name": "Python [default]",
   "language": "python",
   "name": "python3"
  },
  "language_info": {
   "codemirror_mode": {
    "name": "ipython",
    "version": 3
   },
   "file_extension": ".py",
   "mimetype": "text/x-python",
   "name": "python",
   "nbconvert_exporter": "python",
   "pygments_lexer": "ipython3",
   "version": "3.5.2"
  }
 },
 "nbformat": 4,
 "nbformat_minor": 1
}
